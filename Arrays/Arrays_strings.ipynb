{
 "cells": [
  {
   "cell_type": "markdown",
   "metadata": {},
   "source": [
    "### 1. Max Consecutive Ones\n",
    "\n",
    "Given a binary array, find the maximum number of consecutive 1s in this array.\n",
    "\n",
    "Example 1:\n",
    "\n",
    "Input: [1,1,0,1,1,1] <br>\n",
    "Output: 3 <br>\n",
    "Explanation: The first two digits or the last three digits are consecutive 1s. <br>\n",
    "    The maximum number of consecutive 1s is 3. <br>\n",
    "\n",
    "### Note:\n",
    "\n",
    "    The input array will only contain 0 and 1.\n",
    "    \n",
    "    The length of input array is a positive integer and will not exceed 10,000"
   ]
  },
  {
   "cell_type": "code",
   "execution_count": 1,
   "metadata": {},
   "outputs": [],
   "source": [
    "def findMaxConsecutiveOnes(nums):\n",
    "    max_ones = 0\n",
    "    current_max = 0\n",
    "    for i in range(len(nums)):\n",
    "        if nums[i] == 1:\n",
    "            current_max += 1\n",
    "        else:\n",
    "            max_ones = max(max_ones, current_max)\n",
    "            current_max = 0\n",
    "                \n",
    "    return max(max_ones, current_max)"
   ]
  },
  {
   "cell_type": "code",
   "execution_count": 2,
   "metadata": {},
   "outputs": [
    {
     "name": "stdout",
     "output_type": "stream",
     "text": [
      "2\n",
      "6\n",
      "0\n"
     ]
    }
   ],
   "source": [
    "print(findMaxConsecutiveOnes([1,0,1,1,0,1]))\n",
    "print(findMaxConsecutiveOnes([1,0,1,1,1,1,1,1,0,1]))\n",
    "print(findMaxConsecutiveOnes([0, 0, 0, 0, 0, 0]))"
   ]
  },
  {
   "cell_type": "markdown",
   "metadata": {},
   "source": [
    "### 2. Squares of a Sorted Array\n",
    "\n",
    "\n",
    "Given an array of integers A sorted in non-decreasing order, return an array of the squares of each number, also in sorted non-decreasing order.\n",
    "\n",
    "Example 1:\n",
    "\n",
    "    Input: [-4,-1,0,3,10]\n",
    "    Output: [0,1,9,16,100]\n",
    "    \n",
    "Example 2:\n",
    "\n",
    "    Input: [-7,-3,2,3,11]\n",
    "    Output: [4,9,9,49,121]\n",
    "\n"
   ]
  },
  {
   "cell_type": "code",
   "execution_count": 3,
   "metadata": {},
   "outputs": [
    {
     "name": "stdout",
     "output_type": "stream",
     "text": [
      "[4, 9, 9, 49, 121]\n"
     ]
    }
   ],
   "source": [
    "def sorted_array(nums):\n",
    "    return(sorted([x * x for x in nums])) # N log(N) space-> O(N)\n",
    "print(sorted_array([-7,-3,2,3,11]))"
   ]
  },
  {
   "cell_type": "markdown",
   "metadata": {},
   "source": [
    "Approach 2:\n",
    "2 pointers <br>\n",
    "\n",
    "Algorithm\n",
    "\n",
    "We can use two pointers to read the positive and negative parts of the array - one pointer j in the positive direction, and another i in the negative direction.\n",
    "\n",
    "Now that we are reading two increasing arrays (the squares of the elements), we can merge these arrays together using a two-pointer technique."
   ]
  },
  {
   "cell_type": "code",
   "execution_count": 4,
   "metadata": {},
   "outputs": [],
   "source": [
    "def sorted_array(nums):\n",
    "    result = []\n",
    "    j = 0\n",
    "    \n",
    "    while j < len(nums) and nums[j] < 0:\n",
    "        \n",
    "        j += 1\n",
    "        \n",
    "    i = j - 1\n",
    "    \n",
    "    while i >= 0 and j < len(nums):\n",
    "        \n",
    "        if nums[i] * nums[i] < nums[j] * nums[j]:\n",
    "            result.append(nums[i] * nums[i])\n",
    "            i -= 1\n",
    "        else:\n",
    "            result.append(nums[j] * nums[j])\n",
    "            j += 1\n",
    "            \n",
    "    while i >= 0:\n",
    "        result.append(nums[i] * nums[i])\n",
    "        i -= 1\n",
    "    while j < len(nums):\n",
    "        result.append(nums[j] * nums[j])\n",
    "        j += 1\n",
    "    \n",
    "    return result\n",
    "\n",
    "# Time and space  O(N)"
   ]
  },
  {
   "cell_type": "code",
   "execution_count": 5,
   "metadata": {},
   "outputs": [
    {
     "name": "stdout",
     "output_type": "stream",
     "text": [
      "[4, 9, 9, 49, 121]\n",
      "[0, 1, 9, 16, 100]\n"
     ]
    }
   ],
   "source": [
    "print(sorted_array([-7,-3,2,3,11]))\n",
    "print(sorted_array([-4,-1,0,3,10]))"
   ]
  },
  {
   "cell_type": "markdown",
   "metadata": {},
   "source": [
    "### 3.  Duplicate Zeros\n",
    "\n",
    "Given a fixed length array arr of integers, duplicate each occurrence of zero, shifting the remaining elements to the right. <br>\n",
    "\n",
    "Note that elements beyond the length of the original array are not written. <br>\n",
    "\n",
    "Do the above modifications to the input array in place, do not return anything from your function. <br>\n",
    "\n",
    "Example 1:\n",
    "\n",
    "    Input: [1,0,2,3,0,4,5,0]\n",
    "    Output: null\n",
    "    Explanation: After calling your function, the input array is modified to: [1,0,0,2,3,0,0,4]\n",
    "    \n",
    "Example 2:\n",
    "\n",
    "    Input: [1,2,3]\n",
    "    Output: null\n",
    "    Explanation: After calling your function, the input array is modified to: [1,2,3]\n",
    "\n",
    "\n"
   ]
  },
  {
   "cell_type": "code",
   "execution_count": 8,
   "metadata": {},
   "outputs": [],
   "source": [
    "dups = 0 \n",
    "nums = [1,0,2,3,0,4,5,0]\n",
    "for i in range(len(nums)):\n",
    "    \n",
    "    if i > len(nums) - dups - 1:\n",
    "        break\n",
    "        \n",
    "    if nums[i] == 0:\n",
    "        \n",
    "        if i == len(nums) - dups - 1:\n",
    "            nums[len(nums)-1] = nums[i]\n",
    "        dups += 1"
   ]
  },
  {
   "cell_type": "markdown",
   "metadata": {},
   "source": [
    "### 4.  Array Advance Game\n",
    "\n",
    "Is it possible to advance from the start of the array to the last element given that the maximum you can advance from a position is based on the value of the array at the index you are currently present on?\n",
    "\n",
    "\n",
    "\n",
    "\n"
   ]
  },
  {
   "cell_type": "code",
   "execution_count": 11,
   "metadata": {},
   "outputs": [
    {
     "name": "stdout",
     "output_type": "stream",
     "text": [
      "True\n",
      "False\n"
     ]
    }
   ],
   "source": [
    "def array_advance(A):\n",
    "    furthest_reached = 0\n",
    "    last_idx = len(A) - 1\n",
    "    i = 0\n",
    "    while i <= furthest_reached and furthest_reached < last_idx:\n",
    "        furthest_reached = max(furthest_reached, A[i] + i)\n",
    "        i += 1\n",
    "    return furthest_reached >= last_idx\n",
    "\n",
    "# True: Possible to navigate to last index in A:\n",
    "# Moves: 1,3,2\n",
    "A = [3, 3, 1, 0, 2, 0, 1]\n",
    "print(array_advance(A))\n",
    "\n",
    "# False: Not possible to navigate to last index in A:\n",
    "A = [3, 2, 0, 0, 2, 0, 1]\n",
    "print(array_advance(A))"
   ]
  },
  {
   "cell_type": "markdown",
   "metadata": {},
   "source": [
    "### 5.  Arbitrary Precision Increment\n",
    "\n",
    "Given: An array of non-negative digits that represent a decimal integer.\n",
    "\n",
    "Problem: Add one to the integer. Assume the solution still works even if implemented in a language with finite-precision arithmetic."
   ]
  },
  {
   "cell_type": "code",
   "execution_count": 23,
   "metadata": {},
   "outputs": [],
   "source": [
    "A = [1, 4, 9]\n",
    "A1 = [9,9,9]\n",
    "#s = ''.join(map(str, A))\n",
    "\n",
    "def plus_one(arr):\n",
    "    arr[-1] += 1\n",
    "    for i in reversed(range(1,len(arr))):\n",
    "        if arr[i] != 10:\n",
    "            break\n",
    "        arr[i] = 0\n",
    "        arr[i-1] += 1\n",
    "    if arr[0] == 10:\n",
    "        arr[0] = 1\n",
    "        arr.append(0)\n",
    "    return arr"
   ]
  },
  {
   "cell_type": "code",
   "execution_count": 24,
   "metadata": {},
   "outputs": [
    {
     "name": "stdout",
     "output_type": "stream",
     "text": [
      "[1, 5, 0]\n",
      "[1, 0, 0, 0]\n"
     ]
    }
   ],
   "source": [
    "print(plus_one(A))\n",
    "print(plus_one(A1))"
   ]
  },
  {
   "cell_type": "markdown",
   "metadata": {},
   "source": [
    "### 6.  Two Sum Problem\n"
   ]
  },
  {
   "cell_type": "code",
   "execution_count": 26,
   "metadata": {},
   "outputs": [
    {
     "name": "stdout",
     "output_type": "stream",
     "text": [
      "2 11\n",
      "True\n",
      "2 11\n",
      "True\n",
      "2 11\n",
      "True\n"
     ]
    }
   ],
   "source": [
    "A = [-2, 1, 2, 4, 7, 11]\n",
    "target = 13\n",
    "\n",
    "# Time Complexity: O(n^2)\n",
    "# Space Complexity: O(1)\n",
    "def two_sum_brute_force(A, target):\n",
    "  for i in range(len(A)-1):\n",
    "    for j in range(i+1, len(A)):\n",
    "      if A[i] + A[j] == target:\n",
    "        print(A[i], A[j])\n",
    "        return True\n",
    "  return False\n",
    "\n",
    "\n",
    "# Time Complexity: O(n)\n",
    "# Space Complexity: O(n)\n",
    "def two_sum_hash_table(A, target):\n",
    "  ht = dict()\n",
    "  for i in range(len(A)):\n",
    "    if A[i] in ht:\n",
    "      print(ht[A[i]], A[i])\n",
    "      return True\n",
    "    else:\n",
    "      ht[target - A[i]] = A[i]\n",
    "  return False\n",
    "\n",
    "\n",
    "# Time Complexity: O(n)\n",
    "# Space Complexity: O(1)\n",
    "def two_sum(A, target):\n",
    "  i = 0\n",
    "  j = len(A) - 1\n",
    "  while i < j:\n",
    "    if A[i] + A[j] == target:\n",
    "      print(A[i], A[j])\n",
    "      return True\n",
    "    elif A[i] + A[j] < target:\n",
    "      i += 1\n",
    "    else:\n",
    "      j -= 1\n",
    "  return False\n",
    "\n",
    "\n",
    "print(two_sum_brute_force(A, target))\n",
    "print(two_sum_hash_table(A, target))\n",
    "print(two_sum(A, target))"
   ]
  },
  {
   "cell_type": "markdown",
   "metadata": {},
   "source": [
    "### 7.  Intersection of Two Sorted Arrays\n",
    "\n"
   ]
  },
  {
   "cell_type": "code",
   "execution_count": 28,
   "metadata": {},
   "outputs": [
    {
     "name": "stdout",
     "output_type": "stream",
     "text": [
      "[3, 7]\n"
     ]
    }
   ],
   "source": [
    "def intersect_sorted_array(A, B):\n",
    "    i = 0\n",
    "    j = 0\n",
    "    intersection = []\n",
    "\n",
    "    while i < len(A) and j < len(B):\n",
    "        if A[i] == B[j]:\n",
    "            if i == 0 or A[i] != A[i - 1]:\n",
    "                intersection.append(A[i])\n",
    "            i += 1\n",
    "            j += 1\n",
    "        elif A[i] < B[j]:\n",
    "            i += 1\n",
    "        else:\n",
    "            j += 1\n",
    "    return intersection\n",
    "\n",
    "A = [2, 3, 3, 5, 7, 11]\n",
    "B = [3, 3, 7, 15, 31]\n",
    "\n",
    "print(intersect_sorted_array(A, B))"
   ]
  },
  {
   "cell_type": "markdown",
   "metadata": {},
   "source": [
    "### 8. Exercise: Buy and Sell Stock\n",
    "Problem #\n",
    "Given an array of numbers consisting of daily stock prices, calculate the maximum amount of profit that can be made from buying on one day and selling on another.\n",
    "\n",
    "In an array of prices, each index represents a day, and the value on that index represents the price of the stocks on that day.\n",
    "\n",
    "\n"
   ]
  },
  {
   "cell_type": "code",
   "execution_count": 30,
   "metadata": {},
   "outputs": [],
   "source": [
    "def buy_and_sell_stock_once(prices):\n",
    "    max_profit = 0\n",
    "    for i in range(len(prices)-1):\n",
    "        for j in range(i+1, len(prices)):\n",
    "            profit = prices[j] - prices[i]\n",
    "            if profit > max_profit:\n",
    "                max_profit = profit\n",
    "    return max_profit"
   ]
  },
  {
   "cell_type": "code",
   "execution_count": 34,
   "metadata": {},
   "outputs": [
    {
     "data": {
      "text/plain": [
       "225"
      ]
     },
     "execution_count": 34,
     "metadata": {},
     "output_type": "execute_result"
    }
   ],
   "source": [
    "buy_and_sell_stock_once([310, 315, 275, 295, 260, 270, 290, 230, 255, 250]) #30\n",
    "buy_and_sell_stock_once([100, 180, 260, 310, 40, 535, 695]) # 655\n",
    "buy_and_sell_stock_once([50, 40, 30, 20, 10]) # 0\n",
    "buy_and_sell_stock_once([110, 215, 180, 335, 5]) # 225"
   ]
  },
  {
   "cell_type": "code",
   "execution_count": null,
   "metadata": {},
   "outputs": [],
   "source": []
  }
 ],
 "metadata": {
  "kernelspec": {
   "display_name": "Python 3",
   "language": "python",
   "name": "python3"
  },
  "language_info": {
   "codemirror_mode": {
    "name": "ipython",
    "version": 3
   },
   "file_extension": ".py",
   "mimetype": "text/x-python",
   "name": "python",
   "nbconvert_exporter": "python",
   "pygments_lexer": "ipython3",
   "version": "3.7.6"
  }
 },
 "nbformat": 4,
 "nbformat_minor": 4
}
