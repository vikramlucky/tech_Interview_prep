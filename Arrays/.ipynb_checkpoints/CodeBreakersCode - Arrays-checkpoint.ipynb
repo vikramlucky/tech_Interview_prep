{
 "cells": [
  {
   "cell_type": "markdown",
   "metadata": {},
   "source": [
    "## Arrays\n"
   ]
  },
  {
   "cell_type": "markdown",
   "metadata": {},
   "source": [
    "### Activity selection problem"
   ]
  },
  {
   "cell_type": "code",
   "execution_count": 3,
   "metadata": {},
   "outputs": [
    {
     "name": "stdout",
     "output_type": "stream",
     "text": [
      "[(0, 2), (3, 3), (1, 6), (6, 7), (5, 7), (4, 9), (9, 10)]\n",
      "4\n"
     ]
    }
   ],
   "source": [
    "from operator import itemgetter\n",
    "arr = [(3,3), (1,6), (6,7), (0,2), (5,7), (9,10), (4,9)]\n",
    "arr = sorted(arr , key = itemgetter(1))\n",
    "print(arr)\n",
    "\n",
    "def ActivitySelection(arr):\n",
    "    j = 0\n",
    "    numJobs = 1\n",
    "    result = []\n",
    "    for i in range(1, len(arr)):\n",
    "        if arr[i][0] > arr[j][1]:\n",
    "            numJobs += 1\n",
    "            j = i\n",
    "    return numJobs\n",
    "\n",
    "print(ActivitySelection(arr))"
   ]
  },
  {
   "cell_type": "markdown",
   "metadata": {},
   "source": [
    "### Leetcode 134 Gas Station problem\n"
   ]
  },
  {
   "cell_type": "code",
   "execution_count": 5,
   "metadata": {},
   "outputs": [],
   "source": [
    "def canCompleteCircuit(gas, cost):\n",
    "    \n",
    "    if len(gas) != len(cost): # Check 1 if length of gas and cost mismatches\n",
    "        return\n",
    "        \n",
    "    if sum(cost) > sum(gas): # If sum of cost is greater than sum of gas, than circle is not possible\n",
    "        return -1\n",
    "         \n",
    "    currTank = 0   #starting with 0 gas  \n",
    "    startingPoint = 0 # First starting point index 0\n",
    "          \n",
    "    for i in range(len(gas)): \n",
    "            \n",
    "        currTank += gas[i] - cost[i]  #CurrenTank keep track of current gas if it goes below 0, will be resetted\n",
    "            \n",
    "        if currTank < 0:\n",
    "                \n",
    "            currTank = 0\n",
    "            startingPoint = i + 1\n",
    "            \n",
    "    return startingPoint"
   ]
  },
  {
   "cell_type": "markdown",
   "metadata": {},
   "source": [
    "### Leetcode 26  Remove Duplicates from Sorted Array"
   ]
  },
  {
   "cell_type": "code",
   "execution_count": null,
   "metadata": {},
   "outputs": [],
   "source": [
    "def removeDuplicates(nums):\n",
    "    i = 0\n",
    "    for j in range(1, len(nums)):\n",
    "        if nums[i] != nums[j]:\n",
    "            nums[i+1] = nums[j]\n",
    "            i += 1\n",
    "    return i + 1"
   ]
  },
  {
   "cell_type": "markdown",
   "metadata": {},
   "source": [
    "### Leetcode 1 Two Sum"
   ]
  },
  {
   "cell_type": "code",
   "execution_count": 7,
   "metadata": {},
   "outputs": [],
   "source": [
    "def twoSum(nums, target):\n",
    "    seen = {}\n",
    "    \n",
    "    for i in range(len(nums)):\n",
    "        \n",
    "        delta = target - nums[i]\n",
    "        if delta in seen:\n",
    "            temp =[]\n",
    "            temp.append(seen[delta])\n",
    "            temp.append(i)\n",
    "            return(temp)\n",
    "        else:\n",
    "            seen[nums[i]] = i"
   ]
  },
  {
   "cell_type": "markdown",
   "metadata": {},
   "source": [
    "### Leetcode 15: 3sum"
   ]
  },
  {
   "cell_type": "code",
   "execution_count": 8,
   "metadata": {},
   "outputs": [],
   "source": [
    "def threeSum(nums):\n",
    "    result = []\n",
    "    nums.sort()\n",
    "        \n",
    "    for i in range(len(nums) -2):\n",
    "        \n",
    "        if i == 0 or nums[i] > nums[i -1]:\n",
    "            start = i + 1\n",
    "            end = len(nums) - 1\n",
    "            \n",
    "            while start < end:\n",
    "                sumNum = nums[i] + nums[start] + nums[end]\n",
    "                if sumNum < 0:\n",
    "                    start += 1\n",
    "                    \n",
    "                elif sumNum > 0:\n",
    "                    end -= 1\n",
    "                    \n",
    "                else:\n",
    "                    result.append([nums[i], nums[start], nums[end]])\n",
    "                        \n",
    "                    while start< end and nums[start] == nums[start + 1]:\n",
    "                        start += 1\n",
    "                        \n",
    "                    while start < end and nums[end] == nums[end - 1]:\n",
    "                        end -= 1\n",
    "                        \n",
    "                    start += 1\n",
    "                    end -= 1\n",
    " \n",
    "    return result\n",
    "                            "
   ]
  },
  {
   "cell_type": "code",
   "execution_count": 10,
   "metadata": {},
   "outputs": [
    {
     "name": "stdout",
     "output_type": "stream",
     "text": [
      "[[-1, -1, 2], [-1, 0, 1]]\n"
     ]
    }
   ],
   "source": [
    "nums = [-1,0,1,2,-1,-4] # expected [[-1,-1,2],[-1,0,1]]\n",
    "print(threeSum(nums))"
   ]
  },
  {
   "cell_type": "markdown",
   "metadata": {},
   "source": [
    "### 845. Longest Mountain in Array"
   ]
  },
  {
   "cell_type": "code",
   "execution_count": 14,
   "metadata": {},
   "outputs": [],
   "source": [
    "def longestMountain(A):\n",
    "\n",
    "    length = len(A)\n",
    "\n",
    "    base = answer = end = 0\n",
    "\n",
    "    while base < length:\n",
    "\n",
    "        end = base\n",
    "\n",
    "        if end + 1 < length and A[end] < A[end + 1]:\n",
    "\n",
    "            while end + 1 < length and A[end] < A[end + 1]:\n",
    "\n",
    "                end += 1\n",
    "\n",
    "            if end + 1 < length and A[end] > A[end+1]:\n",
    "\n",
    "                while end + 1 < length and A[end] > A[end + 1]:\n",
    "                    end += 1\n",
    "\n",
    "                answer = max(answer, end - base + 1)\n",
    "\n",
    "        base = max(base + 1, end)\n",
    "\n",
    "    return answer"
   ]
  },
  {
   "cell_type": "code",
   "execution_count": 15,
   "metadata": {},
   "outputs": [
    {
     "name": "stdout",
     "output_type": "stream",
     "text": [
      "5\n"
     ]
    }
   ],
   "source": [
    "nums = [2,1,4,7,3,2,5] # Expected 5\n",
    "print(longestMountain(nums))"
   ]
  },
  {
   "cell_type": "markdown",
   "metadata": {},
   "source": [
    "### 860. Lemonade Change"
   ]
  },
  {
   "cell_type": "code",
   "execution_count": 16,
   "metadata": {},
   "outputs": [],
   "source": [
    "def lemonadeChange(bills):\n",
    "\n",
    "    fives = 0\n",
    "    tens = 0\n",
    "\n",
    "    for bill in bills:\n",
    "\n",
    "        if bill == 5:\n",
    "            fives += 1\n",
    "\n",
    "        elif bill == 10:\n",
    "            if not fives:\n",
    "                return False\n",
    "            tens += 1\n",
    "            fives -= 1\n",
    "\n",
    "        else:\n",
    "            if tens and fives:\n",
    "                tens -= 1\n",
    "                fives -= 1\n",
    "\n",
    "            elif fives >= 3:\n",
    "                fives -= 3\n",
    "\n",
    "            else:\n",
    "                return False\n",
    "\n",
    "    return True"
   ]
  },
  {
   "cell_type": "code",
   "execution_count": 17,
   "metadata": {},
   "outputs": [
    {
     "name": "stdout",
     "output_type": "stream",
     "text": [
      "True\n"
     ]
    }
   ],
   "source": [
    "nums = [5,5,5,10,20] # Expected True\n",
    "print(lemonadeChange(nums))"
   ]
  },
  {
   "cell_type": "markdown",
   "metadata": {},
   "source": [
    "### 55. Jump Game"
   ]
  },
  {
   "cell_type": "code",
   "execution_count": 20,
   "metadata": {},
   "outputs": [],
   "source": [
    "def canJump(nums):\n",
    "    goodIndex = len(nums) - 1\n",
    "\n",
    "    for i in range(len(nums) - 1, -1, -1):\n",
    "\n",
    "        if nums[i] + i >= goodIndex:\n",
    "            goodIndex = i\n",
    "\n",
    "    return goodIndex == 0"
   ]
  },
  {
   "cell_type": "markdown",
   "metadata": {},
   "source": [
    "### 122. Best Time to Buy and Sell Stock II"
   ]
  },
  {
   "cell_type": "code",
   "execution_count": 22,
   "metadata": {},
   "outputs": [],
   "source": [
    "def maxProfit(prices):\n",
    "    profit = 0\n",
    "    slow = 0\n",
    "    fast = 1\n",
    "\n",
    "    if not prices:\n",
    "        return profit\n",
    "\n",
    "    while fast < len(prices):\n",
    "        delta = prices[fast] - prices[slow]\n",
    "\n",
    "        if delta > 0:\n",
    "            profit += delta\n",
    "\n",
    "        slow += 1\n",
    "        fast += 1\n",
    "\n",
    "    return profit"
   ]
  },
  {
   "cell_type": "code",
   "execution_count": 23,
   "metadata": {},
   "outputs": [
    {
     "name": "stdout",
     "output_type": "stream",
     "text": [
      "4\n"
     ]
    }
   ],
   "source": [
    "nums = [1,2,3,4,5] # expected 4\n",
    "print(maxProfit(nums))"
   ]
  },
  {
   "cell_type": "markdown",
   "metadata": {},
   "source": [
    "### 713. Subarray Product Less Than K"
   ]
  },
  {
   "cell_type": "code",
   "execution_count": 24,
   "metadata": {},
   "outputs": [],
   "source": [
    "def numSubarrayProductLessThanK(nums, k):\n",
    "\n",
    "    if k <= 1:\n",
    "        return 0\n",
    "\n",
    "    prod = 1\n",
    "    ans = 0\n",
    "    left = 0\n",
    "\n",
    "    for right, val in enumerate(nums):\n",
    "        prod *= val\n",
    "\n",
    "        while prod >= k:\n",
    "\n",
    "            prod /= nums[left]\n",
    "            left += 1\n",
    "\n",
    "        ans += right - left + 1\n",
    "\n",
    "    return ans"
   ]
  },
  {
   "cell_type": "code",
   "execution_count": 27,
   "metadata": {},
   "outputs": [
    {
     "name": "stdout",
     "output_type": "stream",
     "text": [
      "8\n"
     ]
    }
   ],
   "source": [
    "nums = [10, 5, 2, 6]\n",
    "k = 100 # expected 8\n",
    "print(numSubarrayProductLessThanK(nums, 100))"
   ]
  },
  {
   "cell_type": "markdown",
   "metadata": {},
   "source": [
    "### Leetcode 3. Longest substring without repeating characters"
   ]
  },
  {
   "cell_type": "code",
   "execution_count": 28,
   "metadata": {},
   "outputs": [],
   "source": [
    "def lengthOfLongestSubstring(s):\n",
    "    if len(s) == 0:\n",
    "        return 0 \n",
    "\n",
    "    map = {}\n",
    "    start = 0\n",
    "    max_length = 0\n",
    "\n",
    "    for i in range(len(s)):\n",
    "        \n",
    "        if s[i] in map and start <= map[s[i]]:\n",
    "            start = map[s[i]] + 1\n",
    "        else:\n",
    "            max_length = max(max_length, i - start + 1)\n",
    "        map[s[i]] = i\n",
    "\n",
    "    return(max_length)"
   ]
  },
  {
   "cell_type": "code",
   "execution_count": 29,
   "metadata": {},
   "outputs": [
    {
     "name": "stdout",
     "output_type": "stream",
     "text": [
      "5\n"
     ]
    }
   ],
   "source": [
    "s = \"abcdecde\" # expected 5\n",
    "print(lengthOfLongestSubstring(s))"
   ]
  },
  {
   "cell_type": "markdown",
   "metadata": {},
   "source": [
    "### Two pointers"
   ]
  },
  {
   "cell_type": "markdown",
   "metadata": {},
   "source": [
    "### Container with the most water <br>\n",
    "leetcode 11 https://leetcode.com/problems/container-with-most-water/\n"
   ]
  },
  {
   "cell_type": "code",
   "execution_count": 3,
   "metadata": {},
   "outputs": [
    {
     "name": "stdout",
     "output_type": "stream",
     "text": [
      "49\n"
     ]
    }
   ],
   "source": [
    "arr = [1,8,6,2,5,4,8,3,7]\n",
    "\n",
    "# expected Output: 49\n",
    "\n",
    "# Brute Force: O(N^2)\n",
    "\n",
    "def maxArea(arr):\n",
    "  \n",
    "        max_water = float('-inf')\n",
    "        for i in range(len(arr)):\n",
    "            for j in range(i+1, len(arr)):\n",
    "                minimum = min(arr[i], arr[j])\n",
    "                max_water = max(max_water, minimum * (j-i))\n",
    "        return(max_water)\n",
    "    \n",
    "print(maxArea(arr))"
   ]
  },
  {
   "cell_type": "code",
   "execution_count": 6,
   "metadata": {},
   "outputs": [
    {
     "name": "stdout",
     "output_type": "stream",
     "text": [
      "49\n"
     ]
    }
   ],
   "source": [
    "# Two pointers O(n)\n",
    "\n",
    "def maxWater(arr):\n",
    "    i = 0\n",
    "    j = len(arr) - 1\n",
    "    max_water = float('-inf')\n",
    "    \n",
    "    while i < j:\n",
    "        minimum = min(arr[i], arr[j])\n",
    "        max_water = max(max_water, minimum * (j-i))\n",
    "        \n",
    "        if arr[i] < arr[j]:\n",
    "            i += 1\n",
    "        else:\n",
    "            j -= 1\n",
    "    return max_water\n",
    "\n",
    "print(maxArea(arr))\n",
    "        "
   ]
  },
  {
   "cell_type": "markdown",
   "metadata": {},
   "source": [
    "### Remove K digits\n",
    "\n",
    "https://leetcode.com/problems/remove-k-digits/"
   ]
  },
  {
   "cell_type": "code",
   "execution_count": 11,
   "metadata": {},
   "outputs": [],
   "source": [
    "def removeKdigits(num, k):\n",
    "\n",
    "    if len(num) == k:\n",
    "        return \"0\"\n",
    "\n",
    "    stack = []\n",
    "\n",
    "    for number in num:\n",
    "\n",
    "        while stack and k and stack[-1] > number:\n",
    "            stack.pop()\n",
    "            k -= 1\n",
    "\n",
    "        stack.append(number)\n",
    "\n",
    "\n",
    "    if k:\n",
    "        stack = stack[:-k]\n",
    "\n",
    "    i = 0\n",
    "\n",
    "    while i < len(stack) and stack[i] == \"0\":\n",
    "        i += 1\n",
    "\n",
    "    stack = stack[i:]\n",
    "\n",
    "\n",
    "    if not stack:\n",
    "        return \"0\"\n",
    "    return \"\".join(stack)"
   ]
  },
  {
   "cell_type": "code",
   "execution_count": 12,
   "metadata": {},
   "outputs": [
    {
     "name": "stdout",
     "output_type": "stream",
     "text": [
      "1219\n"
     ]
    }
   ],
   "source": [
    "num = \"1432219\"\n",
    "k = 3\n",
    "# expected = 1219\n",
    "print(removeKdigits(num,k))"
   ]
  },
  {
   "cell_type": "markdown",
   "metadata": {},
   "source": [
    "###  Maximum Subarray\n",
    "leetcode https://leetcode.com/problems/maximum-subarray/"
   ]
  },
  {
   "cell_type": "code",
   "execution_count": 13,
   "metadata": {},
   "outputs": [],
   "source": [
    "def maxSubArray(nums):\n",
    "\n",
    "    maxSum = currentSum = nums[0]\n",
    "    for i in range(1, len(nums)):\n",
    "        currentSum = max(nums[i], currentSum + nums[i])\n",
    "        maxSum = max(maxSum, currentSum)\n",
    "\n",
    "    return maxSum"
   ]
  },
  {
   "cell_type": "code",
   "execution_count": 14,
   "metadata": {},
   "outputs": [
    {
     "name": "stdout",
     "output_type": "stream",
     "text": [
      "6\n"
     ]
    }
   ],
   "source": [
    "nums = [-2,1,-3,4,-1,2,1,-5,4]\n",
    "# expected = 6\n",
    "print(maxSubArray(nums))"
   ]
  },
  {
   "cell_type": "markdown",
   "metadata": {},
   "source": [
    "### Maximum sum subarray of a size k "
   ]
  },
  {
   "cell_type": "code",
   "execution_count": 27,
   "metadata": {},
   "outputs": [],
   "source": [
    "def maxSumSub(nums, k):\n",
    "    \n",
    "    currentSum = 0\n",
    "    maxValue = float('-inf')\n",
    "    \n",
    "    for i in range(len(nums)):\n",
    "        currentSum += nums[i]   \n",
    "        if i >= k - 1:\n",
    "            maxValue = max(maxValue, currentSum)\n",
    "            currentSum -= nums[i - (k - 1)]\n",
    "        \n",
    "    return maxValue\n",
    "            "
   ]
  },
  {
   "cell_type": "code",
   "execution_count": 28,
   "metadata": {},
   "outputs": [
    {
     "name": "stdout",
     "output_type": "stream",
     "text": [
      "11\n"
     ]
    }
   ],
   "source": [
    "nums = [4, 2, -11, 7, 8, -10, 2, 8, 1, 0]\n",
    "print(maxSumSub(nums, k))"
   ]
  },
  {
   "cell_type": "markdown",
   "metadata": {},
   "source": [
    "## Smallest Subarray given sum"
   ]
  },
  {
   "cell_type": "code",
   "execution_count": 37,
   "metadata": {},
   "outputs": [],
   "source": [
    "# Given a target sum, return min size of subarray that satisfy target sum\n",
    "\n",
    "def smallestSubarray(nums, targetSum):\n",
    "    currentSum = 0\n",
    "    minSub = float(\"inf\")\n",
    "    i = 0\n",
    "    for j in range(len(nums)):\n",
    "        currentSum += nums[j]\n",
    "        \n",
    "        while currentSum >= targetSum:\n",
    "            minSub = min(minSub, ( - i + 1))\n",
    "            currentSum -= nums[i]\n",
    "            i += 1\n",
    "    return minSub"
   ]
  },
  {
   "cell_type": "code",
   "execution_count": 8,
   "metadata": {},
   "outputs": [
    {
     "ename": "NameError",
     "evalue": "name 'smallestSubarray' is not defined",
     "output_type": "error",
     "traceback": [
      "\u001b[0;31m---------------------------------------------------------------------------\u001b[0m",
      "\u001b[0;31mNameError\u001b[0m                                 Traceback (most recent call last)",
      "\u001b[0;32m<ipython-input-8-3588cd79b132>\u001b[0m in \u001b[0;36m<module>\u001b[0;34m\u001b[0m\n\u001b[1;32m      1\u001b[0m \u001b[0mnums\u001b[0m \u001b[0;34m=\u001b[0m \u001b[0;34m[\u001b[0m\u001b[0;36m4\u001b[0m\u001b[0;34m,\u001b[0m \u001b[0;36m2\u001b[0m\u001b[0;34m,\u001b[0m \u001b[0;34m-\u001b[0m\u001b[0;36m11\u001b[0m\u001b[0;34m,\u001b[0m \u001b[0;36m7\u001b[0m\u001b[0;34m,\u001b[0m \u001b[0;36m8\u001b[0m\u001b[0;34m,\u001b[0m \u001b[0;34m-\u001b[0m\u001b[0;36m10\u001b[0m\u001b[0;34m,\u001b[0m \u001b[0;36m2\u001b[0m\u001b[0;34m,\u001b[0m \u001b[0;36m8\u001b[0m\u001b[0;34m,\u001b[0m \u001b[0;36m1\u001b[0m\u001b[0;34m,\u001b[0m \u001b[0;36m0\u001b[0m\u001b[0;34m]\u001b[0m\u001b[0;34m\u001b[0m\u001b[0;34m\u001b[0m\u001b[0m\n\u001b[0;32m----> 2\u001b[0;31m \u001b[0mprint\u001b[0m\u001b[0;34m(\u001b[0m\u001b[0msmallestSubarray\u001b[0m\u001b[0;34m(\u001b[0m\u001b[0mnums\u001b[0m\u001b[0;34m,\u001b[0m \u001b[0;36m8\u001b[0m\u001b[0;34m)\u001b[0m\u001b[0;34m)\u001b[0m\u001b[0;34m\u001b[0m\u001b[0;34m\u001b[0m\u001b[0m\n\u001b[0m",
      "\u001b[0;31mNameError\u001b[0m: name 'smallestSubarray' is not defined"
     ]
    }
   ],
   "source": [
    "nums = [4, 2, -11, 7, 8, -10, 2, 8, 1, 0]\n",
    "print(smallestSubarray(nums, 8))"
   ]
  },
  {
   "cell_type": "code",
   "execution_count": 104,
   "metadata": {},
   "outputs": [],
   "source": [
    "s = \"cbbd\"\n",
    "    \n",
    "def palindrome(string):\n",
    "    \n",
    "    if len(string) % 2:\n",
    "        left = len(string) // 2 - 1\n",
    "        right = len(string) // 2 + 1\n",
    "    else:\n",
    "        left = len(string) // 2 -1\n",
    "        right = len(string) // 2\n",
    "    \n",
    "    maxSubString = \"\"\n",
    "    \n",
    "    while left >= 0 and right < len(string):\n",
    "        \n",
    "        if string[left] == string[right]:\n",
    "            maxSubString = string[left:right+1]\n",
    "            left -= 1\n",
    "            right += 1\n",
    "        else:\n",
    "            break\n",
    "    return(maxSubString)\n"
   ]
  },
  {
   "cell_type": "code",
   "execution_count": 105,
   "metadata": {},
   "outputs": [],
   "source": [
    "i = len(s)//2 - 1\n",
    "j = len(s) // 2 + 1"
   ]
  },
  {
   "cell_type": "code",
   "execution_count": 106,
   "metadata": {},
   "outputs": [
    {
     "name": "stdout",
     "output_type": "stream",
     "text": [
      "bb\n"
     ]
    }
   ],
   "source": [
    "print(palindrome(s))"
   ]
  },
  {
   "cell_type": "code",
   "execution_count": 44,
   "metadata": {},
   "outputs": [
    {
     "name": "stdout",
     "output_type": "stream",
     "text": [
      "cacac\n"
     ]
    }
   ],
   "source": [
    "print(s[2:7])"
   ]
  },
  {
   "cell_type": "code",
   "execution_count": 48,
   "metadata": {},
   "outputs": [
    {
     "name": "stdout",
     "output_type": "stream",
     "text": [
      "pca\n"
     ]
    }
   ],
   "source": [
    "maxi = \"\"\n",
    "maxi = s[1:4]\n",
    "print(maxi)"
   ]
  },
  {
   "cell_type": "code",
   "execution_count": 96,
   "metadata": {},
   "outputs": [
    {
     "name": "stdout",
     "output_type": "stream",
     "text": [
      "aaaa\n"
     ]
    }
   ],
   "source": [
    "print(max(\"aa\",\"aaaa\"))"
   ]
  },
  {
   "cell_type": "code",
   "execution_count": 160,
   "metadata": {},
   "outputs": [],
   "source": []
  },
  {
   "cell_type": "code",
   "execution_count": 155,
   "metadata": {
    "scrolled": true
   },
   "outputs": [
    {
     "name": "stdout",
     "output_type": "stream",
     "text": [
      "\n",
      "\n",
      "\n",
      "bb\n"
     ]
    }
   ],
   "source": []
  },
  {
   "cell_type": "code",
   "execution_count": 163,
   "metadata": {},
   "outputs": [
    {
     "name": "stdout",
     "output_type": "stream",
     "text": [
      "[[5, 10], [15, 20], [0, 30]]\n"
     ]
    }
   ],
   "source": []
  },
  {
   "cell_type": "code",
   "execution_count": 174,
   "metadata": {},
   "outputs": [
    {
     "name": "stdout",
     "output_type": "stream",
     "text": [
      "1\n"
     ]
    }
   ],
   "source": [
    "count = len(m)\n",
    "\n",
    "for i in range(1, len(m)):\n",
    "    if m[i-1][1] <= m[i][0]:\n",
    "        count -= 1\n",
    "print(count)\n",
    "    "
   ]
  },
  {
   "cell_type": "code",
   "execution_count": 173,
   "metadata": {},
   "outputs": [],
   "source": [
    "m = [[2,4], [7,10]]"
   ]
  },
  {
   "cell_type": "code",
   "execution_count": null,
   "metadata": {},
   "outputs": [],
   "source": []
  }
 ],
 "metadata": {
  "kernelspec": {
   "display_name": "Python 3",
   "language": "python",
   "name": "python3"
  },
  "language_info": {
   "codemirror_mode": {
    "name": "ipython",
    "version": 3
   },
   "file_extension": ".py",
   "mimetype": "text/x-python",
   "name": "python",
   "nbconvert_exporter": "python",
   "pygments_lexer": "ipython3",
   "version": "3.7.6"
  }
 },
 "nbformat": 4,
 "nbformat_minor": 4
}
