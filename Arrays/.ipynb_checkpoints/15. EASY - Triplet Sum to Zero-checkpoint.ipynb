{
 "cells": [
  {
   "cell_type": "markdown",
   "metadata": {},
   "source": [
    "## Problem Statement #\n",
    "#### Given an array of unsorted numbers, find all unique triplets in it that add up to zero.\n",
    "\n"
   ]
  },
  {
   "cell_type": "code",
   "execution_count": 1,
   "metadata": {},
   "outputs": [
    {
     "name": "stdout",
     "output_type": "stream",
     "text": [
      "[[-3, 1, 2], [-2, 0, 2], [-2, 1, 1], [-1, 0, 1]]\n",
      "[[-5, 2, 3], [-2, -1, 3]]\n"
     ]
    }
   ],
   "source": [
    "def search_triplets(arr):\n",
    "  arr.sort()\n",
    "  triplets = []\n",
    "  for i in range(len(arr)):\n",
    "    if i > 0 and arr[i] == arr[i-1]:  # skip same element to avoid duplicate triplets\n",
    "      continue\n",
    "    search_pair(arr, -arr[i], i+1, triplets)\n",
    "\n",
    "  return triplets\n",
    "\n",
    "\n",
    "def search_pair(arr, target_sum, left, triplets):\n",
    "  right = len(arr) - 1\n",
    "  while(left < right):\n",
    "    current_sum = arr[left] + arr[right]\n",
    "    if current_sum == target_sum:  # found the triplet\n",
    "      triplets.append([-target_sum, arr[left], arr[right]])\n",
    "      left += 1\n",
    "      right -= 1\n",
    "      while left < right and arr[left] == arr[left - 1]:\n",
    "        left += 1  # skip same element to avoid duplicate triplets\n",
    "      while left < right and arr[right] == arr[right + 1]:\n",
    "        right -= 1  # skip same element to avoid duplicate triplets\n",
    "    elif target_sum > current_sum:\n",
    "      left += 1  # we need a pair with a bigger sum\n",
    "    else:\n",
    "      right -= 1  # we need a pair with a smaller sum\n",
    "\n",
    "\n",
    "def main():\n",
    "  print(search_triplets([-3, 0, 1, 2, -1, 1, -2]))\n",
    "  print(search_triplets([-5, 2, -1, -2, 3]))\n",
    "\n",
    "\n",
    "main()\n"
   ]
  },
  {
   "cell_type": "code",
   "execution_count": null,
   "metadata": {},
   "outputs": [],
   "source": []
  }
 ],
 "metadata": {
  "kernelspec": {
   "display_name": "Python 3",
   "language": "python",
   "name": "python3"
  },
  "language_info": {
   "codemirror_mode": {
    "name": "ipython",
    "version": 3
   },
   "file_extension": ".py",
   "mimetype": "text/x-python",
   "name": "python",
   "nbconvert_exporter": "python",
   "pygments_lexer": "ipython3",
   "version": "3.7.6"
  }
 },
 "nbformat": 4,
 "nbformat_minor": 4
}
