{
 "cells": [
  {
   "cell_type": "code",
   "execution_count": 1,
   "metadata": {},
   "outputs": [],
   "source": [
    "# Implementation of graphs, based on adjacency list model.\n"
   ]
  },
  {
   "cell_type": "code",
   "execution_count": 2,
   "metadata": {},
   "outputs": [],
   "source": [
    "class Node:\n",
    "    def __init__(self, data):\n",
    "        self.data = data\n",
    "        self.next_element = None\n",
    "        \n",
    "class LinkedList:\n",
    "    def __init__(self):\n",
    "        self.head_node = None\n",
    "    \n",
    "    def get_head(self):\n",
    "        return self.head_node\n",
    "    \n",
    "    def is_empty(self):\n",
    "        if(self.head_node is None):\n",
    "            return True\n",
    "        else:\n",
    "            return False\n",
    "    \n",
    "    def insert_at_head(self, dt):\n",
    "        temp_node = Node(dt)     \n",
    "        if(self.is_empty()):\n",
    "            self.head_node = temp_node\n",
    "            return self.head_node\n",
    "        \n",
    "        temp_node.next_element = self.head_node\n",
    "        self.head_node = temp_node\n",
    "        return self.head_node\n",
    "    \n",
    "    def insert_at_tail(self, value):\n",
    "        new_node = Node(value)\n",
    "        \n",
    "        if self.get_head() is None:\n",
    "            self.head_node = new_node\n",
    "            return\n",
    "    \n",
    "        temp = self.get_head()\n",
    "        \n",
    "        while temp.next_element is not None:\n",
    "            temp = temp.next\n",
    "        \n",
    "        temp.next = new_node\n",
    "        return\n",
    "    \n",
    "    def length(self):\n",
    "        curr = self.get_head()\n",
    "        length = 0\n",
    "        \n",
    "        while curr is not None:\n",
    "            length += 1\n",
    "            curr = curr.next_element\n",
    "        return length\n",
    "    \n",
    "    def print_list(self):\n",
    "        if (self.is_empty()):\n",
    "            print(\"List is Empty!\")\n",
    "            return False\n",
    "        temp = self.head_node\n",
    "        while temp.next_element is not None:\n",
    "            print(temp.data, end =\" -> \")\n",
    "            temp = temp.next_element\n",
    "        print(temp.data, \"-> None\")\n",
    "        return True\n",
    "    \n",
    "    def delete_at_head(self):\n",
    "        first_element = self.get_head()\n",
    "        \n",
    "        if (first_element is not None):\n",
    "            self.head_node = first_element.next_element\n",
    "            first_element.next_element = None\n",
    "        return\n",
    "    \n",
    "    def delete(self, value):\n",
    "        deleted = False\n",
    "        if self.is_empty():\n",
    "            print(\"List is empty\")\n",
    "            return deleted\n",
    "        \n",
    "        current_node = self.get_head()\n",
    "        previous_node = None\n",
    "        \n",
    "        if current_ndoe.data is value:\n",
    "            self.delete_at_head()\n",
    "            deleted = True\n",
    "            return deleted\n",
    "        \n",
    "        while current_node is not None:\n",
    "            \n",
    "            if value is current_node.data:\n",
    "                previous_node.next_element = current_node.next_element\n",
    "                current_node.next_element = None\n",
    "                deleted = True\n",
    "                break\n",
    "            previous_node = current_node\n",
    "            current_node = current_node.next_element\n",
    "            \n",
    "        return deleted\n",
    "                \n",
    "    \n",
    "    def search(self, dt):\n",
    "        \n",
    "        if self.is_empty():\n",
    "            print(\"List is Empty!\")\n",
    "            return None\n",
    "        \n",
    "        temp = self.head_node    \n",
    "        while temp:\n",
    "            if temp.data == dt:\n",
    "                return temp\n",
    "            temp = temp.next_element\n",
    "        \n",
    "        print(dt, \" is not in List\")\n",
    "        return None\n",
    "\n",
    "    def remove_duplicates(self):\n",
    "        \n",
    "        if self.is_empty() or self.get_head().next_element is None:\n",
    "            return\n",
    "        \n",
    "        outer_node = self.get_head()\n",
    "        while outer_node:\n",
    "            inner_node = outer_node\n",
    "            while inner_node:\n",
    "                if inner_node.next_element:          \n",
    "                    if outer_node.data == inner_node.next_element.data:\n",
    "                        new_next_element = inner_node.next_element.next_element\n",
    "                        inner_node.next_element = new_next_element\n",
    "                    else:\n",
    "                        inner_node = inner_node.next_element\n",
    "                else:\n",
    "                    inner_node = inner_node.next_element\n",
    "            outer_node = outer_node.next_element\n",
    "        return"
   ]
  },
  {
   "cell_type": "markdown",
   "metadata": {},
   "source": [
    "### The Graph Class\n",
    "\n",
    "Graph class consists of two data members:<br>\n",
    "\n",
    "    -The total number of vertices in the graph <br>\n",
    "    -A list of linked lists to store adjacent vertices<br>"
   ]
  },
  {
   "cell_type": "code",
   "execution_count": 3,
   "metadata": {},
   "outputs": [],
   "source": [
    "class Graph:\n",
    "    def __init__(self, vertices):\n",
    "        self.vertices = vertices # total number of vertices\n",
    "        self.array = [] # A list which can hold multiple LinkedLists, equal to the # of vertices in the graph\n",
    "        \n",
    "        for i in range(vertices): # creating a new Linkedlist for each vertex / index of the list\n",
    "            temp = LinkedList()\n",
    "            self.array.append(temp)\n",
    "    \n",
    "    def add_edge(self, source, destination):\n",
    "        if (source < self.vertices and destination < self.vertices):\n",
    "            self.array[source].insert_at_head(destination)\n",
    "            \n",
    "    def print_graph(self):\n",
    "        \n",
    "        print(\">>Adjacency List of Directed Graph<<\")\n",
    "        print\n",
    "        for i in range(self.vertices):\n",
    "            print(\"|\", i, end=\" | => \")\n",
    "            temp = self.array[i].get_head()\n",
    "            while temp:\n",
    "                print(\"[\", temp.data, end=\" ] -> \")\n",
    "                temp = temp.next_element\n",
    "            print(\"None\")"
   ]
  },
  {
   "cell_type": "code",
   "execution_count": 4,
   "metadata": {},
   "outputs": [
    {
     "name": "stdout",
     "output_type": "stream",
     "text": [
      ">>Adjacency List of Directed Graph<<\n",
      "| 0 | => [ 2 ] -> [ 1 ] -> None\n",
      "| 1 | => [ 3 ] -> None\n",
      "| 2 | => [ 3 ] -> None\n",
      "| 3 | => None\n",
      "3\n"
     ]
    }
   ],
   "source": [
    "g = Graph(4)\n",
    "g.add_edge(0, 1)\n",
    "g.add_edge(0, 2)\n",
    "g.add_edge(1, 3)\n",
    "g.add_edge(2, 3)\n",
    "g.print_graph()\n",
    "\n",
    "print(g.array[1].get_head().data)"
   ]
  },
  {
   "cell_type": "markdown",
   "metadata": {},
   "source": [
    "### Challenge 1: Implement Breadth First Search\n"
   ]
  },
  {
   "cell_type": "code",
   "execution_count": null,
   "metadata": {},
   "outputs": [],
   "source": []
  },
  {
   "cell_type": "code",
   "execution_count": null,
   "metadata": {},
   "outputs": [],
   "source": []
  },
  {
   "cell_type": "code",
   "execution_count": null,
   "metadata": {},
   "outputs": [],
   "source": []
  },
  {
   "cell_type": "code",
   "execution_count": null,
   "metadata": {},
   "outputs": [],
   "source": []
  },
  {
   "cell_type": "code",
   "execution_count": null,
   "metadata": {},
   "outputs": [],
   "source": []
  },
  {
   "cell_type": "code",
   "execution_count": null,
   "metadata": {},
   "outputs": [],
   "source": []
  },
  {
   "cell_type": "code",
   "execution_count": null,
   "metadata": {},
   "outputs": [],
   "source": []
  },
  {
   "cell_type": "code",
   "execution_count": null,
   "metadata": {},
   "outputs": [],
   "source": []
  },
  {
   "cell_type": "code",
   "execution_count": null,
   "metadata": {},
   "outputs": [],
   "source": []
  },
  {
   "cell_type": "code",
   "execution_count": null,
   "metadata": {},
   "outputs": [],
   "source": []
  },
  {
   "cell_type": "code",
   "execution_count": null,
   "metadata": {},
   "outputs": [],
   "source": []
  },
  {
   "cell_type": "code",
   "execution_count": null,
   "metadata": {},
   "outputs": [],
   "source": []
  },
  {
   "cell_type": "code",
   "execution_count": null,
   "metadata": {},
   "outputs": [],
   "source": []
  },
  {
   "cell_type": "code",
   "execution_count": null,
   "metadata": {},
   "outputs": [],
   "source": []
  },
  {
   "cell_type": "code",
   "execution_count": null,
   "metadata": {},
   "outputs": [],
   "source": []
  }
 ],
 "metadata": {
  "kernelspec": {
   "display_name": "Python 3",
   "language": "python",
   "name": "python3"
  },
  "language_info": {
   "codemirror_mode": {
    "name": "ipython",
    "version": 3
   },
   "file_extension": ".py",
   "mimetype": "text/x-python",
   "name": "python",
   "nbconvert_exporter": "python",
   "pygments_lexer": "ipython3",
   "version": "3.7.6"
  }
 },
 "nbformat": 4,
 "nbformat_minor": 4
}
