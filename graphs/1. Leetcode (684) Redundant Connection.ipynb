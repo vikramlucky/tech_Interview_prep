{
 "cells": [
  {
   "cell_type": "markdown",
   "metadata": {},
   "source": [
    "In this problem, a tree is an undirected graph that is connected and has no cycles.\n",
    "\n",
    "The given input is a graph that started as a tree with N nodes (with distinct values 1, 2, ..., N), with one additional edge added. The added edge has two different vertices chosen from 1 to N, and was not an edge that already existed.\n",
    "\n",
    "The resulting graph is given as a 2D-array of edges. Each element of edges is a pair [u, v] with u < v, that represents an undirected edge connecting nodes u and v.\n",
    "\n",
    "Return an edge that can be removed so that the resulting graph is a tree of N nodes. If there are multiple answers, return the answer that occurs last in the given 2D-array. The answer edge [u, v] should be in the same format, with u < v.\n",
    "\n",
    "Example 1:\n",
    "\n",
    "Input: [[1,2], [1,3], [2,3]]\n",
    "Output: [2,3]\n",
    "Explanation: The given undirected graph will be like this: <br>\n",
    "      1  <br>\n",
    "   /   \\  <br>\n",
    "2  -   3  <br>\n",
    "Example 2:\n",
    "\n",
    "Input: [[1,2], [2,3], [3,4], [1,4], [1,5]]\n",
    "Output: [1,4]\n",
    "Explanation: The given undirected graph will be like this: <br>\n",
    "5 - 1 - 2 <br>\n",
    "......|......| <br>\n",
    "......4.. -3 <br>\n",
    "\n",
    "Note:\n",
    "\n",
    "The size of the input 2D-array will be between 3 and 1000.\n",
    "Every integer represented in the 2D-array will be between 1 and N, where N is the size of the input array."
   ]
  },
  {
   "cell_type": "code",
   "execution_count": null,
   "metadata": {},
   "outputs": [],
   "source": [
    "import collections\n",
    "\n",
    "class Solution:\n",
    "    \n",
    "    def findRedundantConnection(self, edges):\n",
    "        \n",
    "        global parent\n",
    "        parent = [i for i in range(len(edges) + 1)]\n",
    "        \n",
    "        for x, y in edges:\n",
    "            if not self.union(x, y):\n",
    "                return [x,y]\n",
    "    \n",
    "    def find(self, x):\n",
    "        global parent\n",
    "        if parent[x] == x:\n",
    "            return x\n",
    "        parent[x] = self.find(parent[x])\n",
    "        return parent[x]\n",
    "    \n",
    "    def union(self, x, y):\n",
    "        \n",
    "        global parent\n",
    "        \n",
    "        rootX = self.find(x)\n",
    "        rootY = self.find(y)\n",
    "        \n",
    "        if rootX == rootY:\n",
    "            return False\n",
    "        \n",
    "        parent[rootY] = rootX\n",
    "        return True\n",
    "\n",
    "\n"
   ]
  },
  {
   "cell_type": "markdown",
   "metadata": {},
   "source": [
    "DFS approach:\n",
    "\n",
    "create a graph\n",
    "check if vertices are present in the graph if they present check if path exist between them, if there is path that means current edge is redundant, and we can just simple return that edge. "
   ]
  },
  {
   "cell_type": "code",
   "execution_count": null,
   "metadata": {},
   "outputs": [],
   "source": [
    "    def findRedundantConnection(self, edges: List[List[int]]) -> List[int]:\n",
    "        graph = collections.defaultdict(set)\n",
    "        \n",
    "        for edge in edges:\n",
    "            child, parent = edge\n",
    "            \n",
    "            if child in graph and parent in graph and self.dfs_pathFinder(graph, child, parent, set()):\n",
    "                return edge\n",
    "            \n",
    "            graph[child].add(parent)\n",
    "            graph[parent].add(child)\n",
    "            \n",
    "        return graph\n",
    "    \n",
    "    def dfs_pathFinder(self, graph, source, destination, visited):\n",
    "        \n",
    "        if source in visited:\n",
    "            return False\n",
    "        \n",
    "        visited.add(source)\n",
    "        \n",
    "        if source == destination:\n",
    "            return True\n",
    "        \n",
    "        for node in graph[source]:\n",
    "            \n",
    "            if self.dfs_pathFinder(graph, node, destination, visited):\n",
    "                return True\n",
    "            \n",
    "        return False"
   ]
  },
  {
   "cell_type": "code",
   "execution_count": null,
   "metadata": {},
   "outputs": [],
   "source": []
  },
  {
   "cell_type": "code",
   "execution_count": null,
   "metadata": {},
   "outputs": [],
   "source": []
  },
  {
   "cell_type": "code",
   "execution_count": null,
   "metadata": {},
   "outputs": [],
   "source": []
  },
  {
   "cell_type": "code",
   "execution_count": null,
   "metadata": {},
   "outputs": [],
   "source": []
  }
 ],
 "metadata": {
  "kernelspec": {
   "display_name": "Python 3",
   "language": "python",
   "name": "python3"
  },
  "language_info": {
   "codemirror_mode": {
    "name": "ipython",
    "version": 3
   },
   "file_extension": ".py",
   "mimetype": "text/x-python",
   "name": "python",
   "nbconvert_exporter": "python",
   "pygments_lexer": "ipython3",
   "version": "3.7.6"
  }
 },
 "nbformat": 4,
 "nbformat_minor": 4
}
