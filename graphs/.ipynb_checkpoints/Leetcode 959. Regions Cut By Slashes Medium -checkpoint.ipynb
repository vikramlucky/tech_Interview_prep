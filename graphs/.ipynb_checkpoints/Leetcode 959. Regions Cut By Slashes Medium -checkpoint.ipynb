{
 "cells": [
  {
   "cell_type": "markdown",
   "metadata": {},
   "source": [
    "959. Regions Cut By Slashes\n",
    "Medium\n",
    "\n",
    "1094\n",
    "\n",
    "212\n",
    "\n",
    "Add to List\n",
    "\n",
    "Share\n",
    "In a N x N grid composed of 1 x 1 squares, each 1 x 1 square consists of a /, \\, or blank space.  These characters divide the square into contiguous regions.\n",
    "\n",
    "(Note that backslash characters are escaped, so a \\ is represented as \"\\\\\".)\n",
    "\n",
    "Return the number of regions."
   ]
  },
  {
   "cell_type": "code",
   "execution_count": null,
   "metadata": {},
   "outputs": [],
   "source": [
    "class Solution:\n",
    "    def regionsBySlashes(self, grid: List[str]) -> int:\n",
    "        \n",
    "        n = len(grid) * 3\n",
    "        bigGrid = [[True for x in range(n)] for j in range(n)]\n",
    "        \n",
    "        for i in range(len(grid)):\n",
    "            for j in range(len(grid[0])):\n",
    "                if grid[i][j] == \"/\":\n",
    "                    bigGrid[(3*i)][(3*j) + 2] = False\n",
    "                    bigGrid[(3*i)+1][(3*j) + 1] = False\n",
    "                    bigGrid[(3*i) + 2][3 * j] = False\n",
    "                    \n",
    "                elif grid[i][j] == \"\\\\\":\n",
    "                    bigGrid[3*i][3*j] = False\n",
    "                    bigGrid[(3*i)+1][(3*j) + 1] = False\n",
    "                    bigGrid[(3*i)+2][(3*j) + 2] = False\n",
    "\n",
    "\n",
    "        row = len(bigGrid)\n",
    "        col = len(bigGrid[0])\n",
    "        visited = set()\n",
    "        number_of_regions = 0\n",
    "        for i, row in enumerate(bigGrid):\n",
    "            for j, is_char in enumerate(row):\n",
    "                if is_char and (i, j) not in visited:\n",
    "                    self.explore(i, j, bigGrid, visited)\n",
    "\n",
    "                    number_of_regions += 1\n",
    "        return number_of_regions \n",
    "\n",
    "    def explore(self, e, s, bigGrid, visited):\n",
    "\n",
    "        if self.boundries_validation(e, s, bigGrid, visited):\n",
    "            return\n",
    "        \n",
    "        visited.add((e,s))\n",
    "\n",
    "        self.explore(e + 1, s, bigGrid, visited)\n",
    "        self.explore(e - 1, s, bigGrid, visited)\n",
    "        self.explore(e, s + 1, bigGrid, visited)\n",
    "        self.explore(e, s - 1, bigGrid, visited)\n",
    "\n",
    "    def boundries_validation(self, q, w, biggrid, visited,):\n",
    "        return q < 0 or q >= len(biggrid) or w < 0 or w >= len(biggrid[0]) or biggrid[q][w] == False or (q,w) in visited\n",
    "   \n",
    "        "
   ]
  }
 ],
 "metadata": {
  "kernelspec": {
   "display_name": "Python 3",
   "language": "python",
   "name": "python3"
  },
  "language_info": {
   "codemirror_mode": {
    "name": "ipython",
    "version": 3
   },
   "file_extension": ".py",
   "mimetype": "text/x-python",
   "name": "python",
   "nbconvert_exporter": "python",
   "pygments_lexer": "ipython3",
   "version": "3.7.6"
  }
 },
 "nbformat": 4,
 "nbformat_minor": 4
}
