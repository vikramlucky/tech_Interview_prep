{
 "cells": [
  {
   "cell_type": "markdown",
   "metadata": {},
   "source": [
    "River Sizes\n",
    "\n",
    "You are given a two-dimensional array (or matrix) of potentially unequal height and width containing only 0s, 1s. Each 0 represents land, and each 1 represents part of a river. A river consists of any number of 1s that are either horizontally or vertically adjacent (but not diagonaly adjacent). The number of adjacent 1s forming a river determine its size.\n",
    "\n",
    "Note that a river can twist. In other words, it doesn't have to be a straight vertical line or a straight horizontal line, it can be L-shaped."
   ]
  },
  {
   "cell_type": "code",
   "execution_count": null,
   "metadata": {},
   "outputs": [],
   "source": [
    "def riverSizes(matrix):\n",
    "    # Write your code here.\n",
    "\t\n",
    "\tif not matrix:\n",
    "\t\treturn []\n",
    "\t\n",
    "\tglobal n\n",
    "    n = len(matrix)\n",
    "\tglobal m\n",
    "\tm = len(matrix[0])\n",
    "\t\n",
    "\tglobal visited\n",
    "\tvisited = [[False for x in range(m)] for k in range(n)]\n",
    "\tsizes = []\n",
    "\t\n",
    "\tfor i in range(n):\n",
    "\t\tfor j in range(m):\n",
    "\t\t\tif matrix[i][j] == 1 and not visited[i][j]:\n",
    "\t\t\t\tsizes.append(helper(i, j, matrix))\n",
    "\treturn sizes\n",
    "\n",
    "def helper(i, j, matrix):\n",
    "\tcount = 0\n",
    "\tif not within_boundries(matrix, i, j):\n",
    "\t\treturn count\n",
    "\t\n",
    "\tvisited[i][j] = True\n",
    "\tcount = 1\n",
    "\t\n",
    "\tdirections = [(-1, 0), (1,0), (0, 1), (0,-1)]\n",
    "\tfor x, y in directions:\n",
    "\t\tcount += helper(i + x, j + y, matrix)\n",
    "\n",
    "\treturn count\n",
    "\n",
    "def within_boundries(matrix, i, j):\n",
    "\tif i < 0 or i >= n or j < 0 or j >= m or visited[i][j] or matrix[i][j] == 0:\n",
    "\t\treturn False\n",
    "\treturn True\n",
    "\n"
   ]
  }
 ],
 "metadata": {
  "kernelspec": {
   "display_name": "Python 3",
   "language": "python",
   "name": "python3"
  },
  "language_info": {
   "codemirror_mode": {
    "name": "ipython",
    "version": 3
   },
   "file_extension": ".py",
   "mimetype": "text/x-python",
   "name": "python",
   "nbconvert_exporter": "python",
   "pygments_lexer": "ipython3",
   "version": "3.7.6"
  }
 },
 "nbformat": 4,
 "nbformat_minor": 4
}
