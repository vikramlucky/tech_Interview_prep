{
 "cells": [
  {
   "cell_type": "code",
   "execution_count": 2,
   "metadata": {},
   "outputs": [
    {
     "ename": "IndentationError",
     "evalue": "unindent does not match any outer indentation level (<tokenize>, line 19)",
     "output_type": "error",
     "traceback": [
      "\u001b[0;36m  File \u001b[0;32m\"<tokenize>\"\u001b[0;36m, line \u001b[0;32m19\u001b[0m\n\u001b[0;31m    for v in range(V):\u001b[0m\n\u001b[0m    ^\u001b[0m\n\u001b[0;31mIndentationError\u001b[0m\u001b[0;31m:\u001b[0m unindent does not match any outer indentation level\n"
     ]
    }
   ],
   "source": [
    "class Solution:\n",
    "    \n",
    "    #Function to detect cycle in an undirected graph.\n",
    "    def isCycleUtils(self, node, adj, visited, parent):\n",
    "        visited[node] = True\n",
    "        for i in adj[node]:\n",
    "            if visited[i] == False:\n",
    "                if self.isCycleUtils(i, adj, visited, node):\n",
    "                    return True\n",
    "                    \n",
    "            elif parent != i:\n",
    "                return True\n",
    "        return False\n",
    "            \n",
    "        \n",
    "\tdef isCycle(self, V, adj):\n",
    "\t\t#Code here\n",
    "\t\tvisited = [False] * V\n",
    "\t    for v in range(V):\n",
    "\t        if visited[v] == False:\n",
    "\t            if self.isCycleUtils(v, adj, visited, -1):\n",
    "\t                return True\n",
    "        return False\n",
    "\n",
    "#{ \n",
    "#  Driver Code Starts\n",
    "\n",
    "\n",
    "\n",
    "if __name__ == '__main__':\n",
    "\n",
    "\tT=int(input())\n",
    "\tfor i in range(T):\n",
    "\t\tV, E = map(int, input().split())\n",
    "\t\tadj = [[] for i in range(V)]\n",
    "\t\tfor _ in range(E):\n",
    "\t\t\tu, v = map(int, input().split())\n",
    "\t\t\tadj[u].append(v)\n",
    "\t\t\tadj[v].append(u)\n",
    "\t\tobj = Solution()\n",
    "\t\tans = obj.isCycle(V, adj)\n",
    "\t\tif(ans):\n",
    "\t\t\tprint(\"1\")\n",
    "\t\telse:\n",
    "\t\t\tprint(\"0\")\n",
    "\n",
    "# } Driver Code Ends"
   ]
  },
  {
   "cell_type": "code",
   "execution_count": null,
   "metadata": {},
   "outputs": [],
   "source": []
  }
 ],
 "metadata": {
  "kernelspec": {
   "display_name": "Python 3",
   "language": "python",
   "name": "python3"
  },
  "language_info": {
   "codemirror_mode": {
    "name": "ipython",
    "version": 3
   },
   "file_extension": ".py",
   "mimetype": "text/x-python",
   "name": "python",
   "nbconvert_exporter": "python",
   "pygments_lexer": "ipython3",
   "version": "3.7.6"
  }
 },
 "nbformat": 4,
 "nbformat_minor": 4
}
