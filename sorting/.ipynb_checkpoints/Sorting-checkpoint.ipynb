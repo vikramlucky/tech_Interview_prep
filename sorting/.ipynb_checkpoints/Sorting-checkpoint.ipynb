{
 "cells": [
  {
   "cell_type": "markdown",
   "metadata": {},
   "source": [
    "### 912 LeetCode: Sort an Array"
   ]
  },
  {
   "cell_type": "code",
   "execution_count": 3,
   "metadata": {},
   "outputs": [],
   "source": [
    "\n",
    "def sortArray(nums):\n",
    "    if len(nums) == 1:\n",
    "        return nums\n",
    "\n",
    "    middleIdx = len(nums) // 2\n",
    "    leftHalf = nums[:middleIdx]\n",
    "    rightHalf = nums[middleIdx:]\n",
    "\n",
    "    left = sortArray(leftHalf)\n",
    "    right = sortArray(rightHalf)\n",
    "\n",
    "    return sort(left, right)\n",
    "\n",
    "def sort(left, right):\n",
    "\n",
    "    result = []\n",
    "\n",
    "    while left and right:\n",
    "        if left[0] <= right[0]:\n",
    "            result.append(left.pop(0))\n",
    "        else:\n",
    "            result.append(right.pop(0))\n",
    "\n",
    "\n",
    "    if left:\n",
    "        result += left\n",
    "\n",
    "    if right:\n",
    "        result += right\n",
    "\n",
    "\n",
    "    return result\n",
    "\n"
   ]
  },
  {
   "cell_type": "code",
   "execution_count": 4,
   "metadata": {},
   "outputs": [
    {
     "name": "stdout",
     "output_type": "stream",
     "text": [
      "[1, 2, 3, 5]\n"
     ]
    }
   ],
   "source": [
    "nums = [5,2,3,1]\n",
    "print(sortArray(nums))"
   ]
  },
  {
   "cell_type": "markdown",
   "metadata": {},
   "source": [
    "### Leetcode 56. Merge Intervals"
   ]
  },
  {
   "cell_type": "code",
   "execution_count": 7,
   "metadata": {},
   "outputs": [],
   "source": [
    "intervals = [[1,3],[2,6],[8,10],[15,18]]\n",
    "# expected [[1,6],[8,10],[15,18]]\n",
    "\n",
    "def mergeIntervals(intervals):\n",
    "    \n",
    "    if len(intervals) <= 1:\n",
    "        return intervals\n",
    "    \n",
    "    intervals.sort(key = lambda x: x[0])\n",
    "    \n",
    "    i = 1\n",
    "    \n",
    "    while i < len(intervals):\n",
    "        \n",
    "        if intervals[i][0] <= intervals[i-1][1]:\n",
    "            \n",
    "            intervals[i-1][1] = max(intervals[i-1][1], intervals[i][1])\n",
    "            intervals.pop(i)\n",
    "            \n",
    "        else:\n",
    "            i += 1\n",
    "        \n",
    "        return intervals"
   ]
  },
  {
   "cell_type": "code",
   "execution_count": 8,
   "metadata": {},
   "outputs": [
    {
     "name": "stdout",
     "output_type": "stream",
     "text": [
      "[[1, 6], [8, 10], [15, 18]]\n"
     ]
    }
   ],
   "source": [
    "print(mergeIntervals(intervals))"
   ]
  },
  {
   "cell_type": "markdown",
   "metadata": {},
   "source": [
    "### 88. Merge Sorted Array"
   ]
  },
  {
   "cell_type": "code",
   "execution_count": 15,
   "metadata": {},
   "outputs": [],
   "source": [
    "def merge(nums1, m, nums2, n):\n",
    "    \"\"\"\n",
    "    Do not return anything, modify nums1 in-place instead.\n",
    "    \"\"\"\n",
    "\n",
    "    temp_nums1 = nums1[:m]\n",
    "    nums1[:] = []\n",
    "\n",
    "    p1 = 0\n",
    "    p2 = 0\n",
    "\n",
    "    while p1 < m and p2 < n:\n",
    "\n",
    "        if temp_nums1[p1] < nums2[p2]:\n",
    "            nums1.append(temp_nums1[p1])\n",
    "            p1 += 1\n",
    "        else:\n",
    "            nums1.append(nums2[p2])\n",
    "            p2 += 1\n",
    "\n",
    "\n",
    "    if p1 < m:\n",
    "        nums1[p1 + p2:] = temp_nums1[p1:]\n",
    "\n",
    "    if p2 < n:\n",
    "        nums1[p1 + p2:] = nums2[p2:]\n",
    "    return nums1\n"
   ]
  },
  {
   "cell_type": "code",
   "execution_count": 16,
   "metadata": {},
   "outputs": [
    {
     "name": "stdout",
     "output_type": "stream",
     "text": [
      "[1, 2, 2, 3, 5, 6]\n"
     ]
    }
   ],
   "source": [
    "nums1 = [1,2,3,0,0,0]\n",
    "m = 3\n",
    "nums2 = [2,5,6]\n",
    "n = 3\n",
    "\n",
    "#Output: [1,2,2,3,5,6]\n",
    "print(merge(nums1, m, nums2, n))"
   ]
  },
  {
   "cell_type": "markdown",
   "metadata": {},
   "source": [
    "### 75. Sort Colors"
   ]
  },
  {
   "cell_type": "code",
   "execution_count": 3,
   "metadata": {},
   "outputs": [],
   "source": [
    "def sortColors(nums):\n",
    "    \"\"\"\n",
    "    Do not return anything, modify nums in-place instead.\n",
    "    \"\"\"\n",
    "    p0 = 0\n",
    "    curr = 0\n",
    "    p2 = len(nums) - 1\n",
    "\n",
    "    while curr <= p2:\n",
    "\n",
    "        if nums[curr] == 0:\n",
    "            nums[p0], nums[curr] = nums[curr], nums[p0]\n",
    "            curr += 1\n",
    "            p0 += 1\n",
    "\n",
    "\n",
    "        elif nums[curr] == 2:\n",
    "            nums[p2], nums[curr] = nums[curr], nums[p2]\n",
    "            p2 -= 1\n",
    "        else:\n",
    "            curr += 1"
   ]
  },
  {
   "cell_type": "markdown",
   "metadata": {},
   "source": [
    "### Insertion Sort Linked LIst"
   ]
  },
  {
   "cell_type": "code",
   "execution_count": null,
   "metadata": {},
   "outputs": [],
   "source": []
  }
 ],
 "metadata": {
  "kernelspec": {
   "display_name": "Python 3",
   "language": "python",
   "name": "python3"
  },
  "language_info": {
   "codemirror_mode": {
    "name": "ipython",
    "version": 3
   },
   "file_extension": ".py",
   "mimetype": "text/x-python",
   "name": "python",
   "nbconvert_exporter": "python",
   "pygments_lexer": "ipython3",
   "version": "3.7.6"
  }
 },
 "nbformat": 4,
 "nbformat_minor": 4
}
