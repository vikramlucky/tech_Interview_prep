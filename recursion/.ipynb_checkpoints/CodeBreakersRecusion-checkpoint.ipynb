{
 "cells": [
  {
   "cell_type": "markdown",
   "metadata": {},
   "source": [
    "### 1. Two Sum https://leetcode.com/problems/two-sum/"
   ]
  },
  {
   "cell_type": "code",
   "execution_count": 2,
   "metadata": {},
   "outputs": [],
   "source": [
    "def twoSum(nums, target):\n",
    "    dictionary = {}\n",
    "    for i in range(len(nums)):\n",
    "        diff = target - nums[i]\n",
    "        if diff in dictionary:\n",
    "            return(i, dictionary[diff])\n",
    "        else:\n",
    "            dictionary[nums[i]] = i"
   ]
  },
  {
   "cell_type": "markdown",
   "metadata": {},
   "source": [
    "### 2. Nth Fibonacci https://leetcode.com/problems/fibonacci-number/"
   ]
  },
  {
   "cell_type": "code",
   "execution_count": 4,
   "metadata": {},
   "outputs": [],
   "source": [
    "# using caching O(N) Time O(1) Space\n",
    "\n",
    "def getNthFib(n, memoize = {1: 0, 2: 1}):\n",
    "    if n in memoize:\n",
    "        return memoize[n]\n",
    "    else:\n",
    "        memoize[n] = getNthFib[n-1, memoize] + getNthFib[n - 2, memoize]\n",
    "        return memoize[n]"
   ]
  },
  {
   "cell_type": "code",
   "execution_count": 5,
   "metadata": {},
   "outputs": [],
   "source": [
    "def getNthFib(n):\n",
    "    firstTwo = [0, 1]\n",
    "    while counter <= n:\n",
    "        nextFib = sum(firstTwo)\n",
    "        fistTwo[0] = firstTwo[1]\n",
    "        firstTwo[1] = nextFib\n",
    "        counter += 1\n",
    "    return lastTwo[1] if n > 1 else firstTwo[0]"
   ]
  },
  {
   "cell_type": "markdown",
   "metadata": {},
   "source": [
    "### 3. PowerSet https://leetcode.com/problems/subsets/"
   ]
  },
  {
   "cell_type": "code",
   "execution_count": 7,
   "metadata": {},
   "outputs": [],
   "source": [
    "# Input: nums = [1,2,3]\n",
    "# Time (N * 2 ^ N) SPACE (N * 2 ^ N)\n",
    "# Recursively\n",
    "def powerSet(array, idx = None):\n",
    "    \n",
    "    if idx is None:\n",
    "        idx = len(array) -1\n",
    "    \n",
    "    if idx < 0:\n",
    "        return [[]]\n",
    "    \n",
    "    element = array[idx]\n",
    "\n",
    "    subsets = powerSet(array, idx - 1)\n",
    "    \n",
    "    for i in range(len(subsets)):\n",
    "        currentSubset = subsets[i]\n",
    "        subsets.append(currentSubset + [element])\n",
    "    \n",
    "    return subsets\n",
    "\n",
    "def iterativePowerSet(array):\n",
    "    subsets = [[]]\n",
    "    \n",
    "    for element in array:\n",
    "        for i in range(len(subsets)):\n",
    "            currentSubset = subsets[i]\n",
    "            subsets.append(currentSubset + [element])\n",
    "    return subsets"
   ]
  },
  {
   "cell_type": "code",
   "execution_count": 8,
   "metadata": {},
   "outputs": [
    {
     "name": "stdout",
     "output_type": "stream",
     "text": [
      "[[], [1], [2], [1, 2], [3], [1, 3], [2, 3], [1, 2, 3]]\n"
     ]
    }
   ],
   "source": [
    "print(powerSet([1,2,3]))"
   ]
  },
  {
   "cell_type": "code",
   "execution_count": 9,
   "metadata": {},
   "outputs": [
    {
     "name": "stdout",
     "output_type": "stream",
     "text": [
      "[[], [1], [2], [1, 2], [3], [1, 3], [2, 3], [1, 2, 3]]\n"
     ]
    }
   ],
   "source": [
    "print(iterativePowerSet([1,2,3]))"
   ]
  },
  {
   "cell_type": "code",
   "execution_count": null,
   "metadata": {},
   "outputs": [],
   "source": []
  }
 ],
 "metadata": {
  "kernelspec": {
   "display_name": "Python 3",
   "language": "python",
   "name": "python3"
  },
  "language_info": {
   "codemirror_mode": {
    "name": "ipython",
    "version": 3
   },
   "file_extension": ".py",
   "mimetype": "text/x-python",
   "name": "python",
   "nbconvert_exporter": "python",
   "pygments_lexer": "ipython3",
   "version": "3.7.6"
  }
 },
 "nbformat": 4,
 "nbformat_minor": 4
}
