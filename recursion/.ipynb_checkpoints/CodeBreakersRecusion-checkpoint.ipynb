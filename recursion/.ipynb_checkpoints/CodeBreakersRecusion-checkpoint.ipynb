{
 "cells": [
  {
   "cell_type": "markdown",
   "metadata": {},
   "source": [
    "### 1. Two Sum https://leetcode.com/problems/two-sum/"
   ]
  },
  {
   "cell_type": "code",
   "execution_count": 2,
   "metadata": {},
   "outputs": [],
   "source": [
    "def twoSum(nums, target):\n",
    "    dictionary = {}\n",
    "    for i in range(len(nums)):\n",
    "        diff = target - nums[i]\n",
    "        if diff in dictionary:\n",
    "            return(i, dictionary[diff])\n",
    "        else:\n",
    "            dictionary[nums[i]] = i"
   ]
  },
  {
   "cell_type": "markdown",
   "metadata": {},
   "source": [
    "### 2. Nth Fibonacci https://leetcode.com/problems/fibonacci-number/"
   ]
  },
  {
   "cell_type": "code",
   "execution_count": 4,
   "metadata": {},
   "outputs": [],
   "source": [
    "# using caching O(N) Time O(1) Space\n",
    "\n",
    "def getNthFib(n, memoize = {1: 0, 2: 1}):\n",
    "    if n in memoize:\n",
    "        return memoize[n]\n",
    "    else:\n",
    "        memoize[n] = getNthFib[n-1, memoize] + getNthFib[n - 2, memoize]\n",
    "        return memoize[n]"
   ]
  },
  {
   "cell_type": "code",
   "execution_count": 5,
   "metadata": {},
   "outputs": [],
   "source": [
    "def getNthFib(n):\n",
    "    firstTwo = [0, 1]\n",
    "    while counter <= n:\n",
    "        nextFib = sum(firstTwo)\n",
    "        fistTwo[0] = firstTwo[1]\n",
    "        firstTwo[1] = nextFib\n",
    "        counter += 1\n",
    "    return lastTwo[1] if n > 1 else firstTwo[0]"
   ]
  },
  {
   "cell_type": "markdown",
   "metadata": {},
   "source": [
    "### 3. PowerSet https://leetcode.com/problems/subsets/"
   ]
  },
  {
   "cell_type": "code",
   "execution_count": 7,
   "metadata": {},
   "outputs": [],
   "source": [
    "# Input: nums = [1,2,3]\n",
    "# Time (N * 2 ^ N) SPACE (N * 2 ^ N)\n",
    "# Recursively\n",
    "def powerSet(array, idx = None):\n",
    "    \n",
    "    if idx is None:\n",
    "        idx = len(array) -1\n",
    "    \n",
    "    if idx < 0:\n",
    "        return [[]]\n",
    "    \n",
    "    element = array[idx]\n",
    "\n",
    "    subsets = powerSet(array, idx - 1)\n",
    "    \n",
    "    for i in range(len(subsets)):\n",
    "        currentSubset = subsets[i]\n",
    "        subsets.append(currentSubset + [element])\n",
    "    \n",
    "    return subsets\n",
    "\n",
    "def iterativePowerSet(array):\n",
    "    subsets = [[]]\n",
    "    \n",
    "    for element in array:\n",
    "        for i in range(len(subsets)):\n",
    "            currentSubset = subsets[i]\n",
    "            subsets.append(currentSubset + [element])\n",
    "    return subsets"
   ]
  },
  {
   "cell_type": "code",
   "execution_count": 8,
   "metadata": {},
   "outputs": [
    {
     "name": "stdout",
     "output_type": "stream",
     "text": [
      "[[], [1], [2], [1, 2], [3], [1, 3], [2, 3], [1, 2, 3]]\n"
     ]
    }
   ],
   "source": [
    "print(powerSet([1,2,3]))"
   ]
  },
  {
   "cell_type": "code",
   "execution_count": 9,
   "metadata": {},
   "outputs": [
    {
     "name": "stdout",
     "output_type": "stream",
     "text": [
      "[[], [1], [2], [1, 2], [3], [1, 3], [2, 3], [1, 2, 3]]\n"
     ]
    }
   ],
   "source": [
    "print(iterativePowerSet([1,2,3]))"
   ]
  },
  {
   "cell_type": "markdown",
   "metadata": {},
   "source": [
    "### 4. Find First and Last Position of Element in Sorted Array https://leetcode.com/problems/find-first-and-last-position-of-element-in-sorted-array/"
   ]
  },
  {
   "cell_type": "code",
   "execution_count": 5,
   "metadata": {},
   "outputs": [],
   "source": [
    "\n",
    "def searchRange(nums, target):\n",
    "\n",
    "    result = [0,0]\n",
    "    result[0] = leftIdx(nums, target)\n",
    "    result[1] = rightIdx(nums, target)\n",
    "\n",
    "    return result\n",
    "\n",
    "def leftIdx(nums, target):\n",
    "\n",
    "    index = -1\n",
    "    l = 0\n",
    "    r = len(nums) -1\n",
    "\n",
    "    while l <= r:\n",
    "        middle = (l + r) // 2\n",
    "\n",
    "        if nums[middle] >= target:\n",
    "            r = middle - 1\n",
    "        else:\n",
    "            l = middle + 1\n",
    "\n",
    "        if nums[middle] == target:\n",
    "            index = middle\n",
    "\n",
    "    return index\n",
    "\n",
    "def rightIdx(nums, target):\n",
    "\n",
    "    index = -1\n",
    "    l = 0\n",
    "    r = len(nums) - 1\n",
    "\n",
    "    while  l <= r:\n",
    "\n",
    "        middle = (l + r) // 2\n",
    "\n",
    "        if nums[middle] <= target:\n",
    "            l = middle + 1\n",
    "        else:\n",
    "            r = middle - 1\n",
    "\n",
    "        if nums[middle] == target:\n",
    "            index = middle\n",
    "    return index"
   ]
  },
  {
   "cell_type": "code",
   "execution_count": 6,
   "metadata": {},
   "outputs": [
    {
     "name": "stdout",
     "output_type": "stream",
     "text": [
      "[0, 4]\n"
     ]
    }
   ],
   "source": [
    "print(searchRange([7,7,7,7,7] , 7))"
   ]
  },
  {
   "cell_type": "markdown",
   "metadata": {},
   "source": [
    "### 5. Find Minimum in Rotated Sorted Array"
   ]
  },
  {
   "cell_type": "code",
   "execution_count": null,
   "metadata": {},
   "outputs": [],
   "source": [
    "class Solution:\n",
    "    def findMin(self, nums: List[int]) -> int:\n",
    "        return self.findMinRecursive(nums, 0, len(nums)-1)\n",
    "        # Iterative\n",
    "        \n",
    "#         lo = 0\n",
    "#         hi = len(nums) -1\n",
    "        \n",
    "#         while lo < hi:\n",
    "#             mid = (lo + hi) // 2\n",
    "#             if nums[mid] > nums[hi]:\n",
    "#                 lo = mid + 1\n",
    "#             else:\n",
    "#                 hi = mid\n",
    "                \n",
    "#         return nums[lo]\n",
    "        \n",
    "    # recursive\n",
    "        \n",
    "    def findMinRecursive(self, array, lo, hi):\n",
    "        \n",
    "        if hi < lo:\n",
    "            return array[0]\n",
    "        \n",
    "        if hi == lo:\n",
    "            return array[lo]\n",
    "        \n",
    "        mid = (lo + hi) // 2\n",
    "        \n",
    "        if mid < hi and array[mid] > array[mid+1]:\n",
    "            return array[mid+1]\n",
    "        \n",
    "        elif mid > lo and array[mid] < array[mid-1]:\n",
    "            return array[mid]\n",
    "        \n",
    "        if array[hi] > array[mid]:\n",
    "            return self.findMinRecursive(array, lo, mid -1)\n",
    "        return self.findMinRecursive(array, mid + 1, hi)"
   ]
  },
  {
   "cell_type": "markdown",
   "metadata": {},
   "source": [
    "### 6. Search a 2D Matrix"
   ]
  },
  {
   "cell_type": "code",
   "execution_count": 2,
   "metadata": {},
   "outputs": [],
   "source": [
    "def searchMatrix(matrix, target):\n",
    "    if not len(matrix):\n",
    "        return False\n",
    "    left = 0 \n",
    "    right = (len(matrix[0]) * len(matrix)) - 1\n",
    "\n",
    "    while left <= right:\n",
    "\n",
    "        pivotIdx = (left + right) // 2\n",
    "        pivotElement = matrix[pivotIdx // len(matrix[0])][pivotIdx % len(matrix[0])]\n",
    "\n",
    "        if target == pivotElement:\n",
    "            return True\n",
    "\n",
    "        else:\n",
    "\n",
    "            if pivotElement > target:\n",
    "                right = pivotIdx - 1\n",
    "            else:\n",
    "                left = pivotIdx + 1\n",
    "    return False"
   ]
  },
  {
   "cell_type": "markdown",
   "metadata": {},
   "source": [
    "### 7. Validate BST https://leetcode.com/problems/validate-binary-search-tree/"
   ]
  },
  {
   "cell_type": "code",
   "execution_count": 3,
   "metadata": {},
   "outputs": [],
   "source": [
    "# Definition for a binary tree node.\n",
    "# class TreeNode:\n",
    "#     def __init__(self, val=0, left=None, right=None):\n",
    "#         self.val = val\n",
    "#         self.left = left\n",
    "#         self.right = right\n",
    "def isValidBST(root):\n",
    "\n",
    "    return self.isValidBSTHelper(root, minimum = float('-inf'), maximum = float(\"inf\"))\n",
    "\n",
    "def isValidBSTHelper(self, root, minimum, maximum):\n",
    "\n",
    "    if root is None:\n",
    "        return True\n",
    "\n",
    "    if root.val <= minimum or root.val >= maximum:\n",
    "        return False\n",
    "\n",
    "    leftIsValid = self.isValidBSTHelper(root.left, minimum, root.val)\n",
    "\n",
    "    rightIsValid = self.isValidBSTHelper(root.right, root.val, maximum)\n",
    "\n",
    "    return leftIsValid and rightIsValid"
   ]
  },
  {
   "cell_type": "markdown",
   "metadata": {},
   "source": [
    "### 8 (270). Closest Binary Search Tree Value https://leetcode.com/problems/closest-binary-search-tree-value/"
   ]
  },
  {
   "cell_type": "code",
   "execution_count": 5,
   "metadata": {},
   "outputs": [],
   "source": [
    "# Definition for a binary tree node.\n",
    "# class TreeNode:\n",
    "#     def __init__(self, val=0, left=None, right=None):\n",
    "#         self.val = val\n",
    "#         self.left = left\n",
    "#         self.right = right\n",
    "def closestValue(root, target):\n",
    "\n",
    "    return self.helper(root, target, root.val)\n",
    "\n",
    "def helper(self, root, target, closest):\n",
    "\n",
    "    if root is None:\n",
    "        return closest\n",
    "\n",
    "    if abs(target - closest) > abs(target - root.val):\n",
    "        closest = root.val\n",
    "\n",
    "    if target < root.val:\n",
    "\n",
    "        return self.helper(root.left, target, closest)\n",
    "\n",
    "    elif target > root.val:\n",
    "        return self.helper(root.right, target, closest)\n",
    "\n",
    "    else:\n",
    "        return closest"
   ]
  },
  {
   "cell_type": "code",
   "execution_count": 8,
   "metadata": {},
   "outputs": [],
   "source": [
    "# def closestValue(self, root: TreeNode, target: float) -> int:\n",
    "#     closest = root.val\n",
    "#     while root:\n",
    "#         closest = min(root.val, closest, key = lambda x: abs(target - x))\n",
    "#         root = root.left if target < root.val else root.right\n",
    "#     return closest"
   ]
  },
  {
   "cell_type": "markdown",
   "metadata": {},
   "source": [
    "### 9. Insert into Bst https://leetcode.com/problems/insert-into-a-binary-search-tree/"
   ]
  },
  {
   "cell_type": "code",
   "execution_count": 11,
   "metadata": {},
   "outputs": [],
   "source": [
    "def insert(root, val):\n",
    "    \n",
    "    if not root:\n",
    "        return TreeNode(val)\n",
    "    \n",
    "    if root.val > val:\n",
    "        return insert(root.left, val)\n",
    "    else:\n",
    "        return insert(root.right, val)\n",
    "    return root"
   ]
  },
  {
   "cell_type": "markdown",
   "metadata": {},
   "source": [
    "### 10.  (226.) Invert Binary Tree"
   ]
  },
  {
   "cell_type": "code",
   "execution_count": 10,
   "metadata": {},
   "outputs": [],
   "source": [
    "# Definition for a binary tree node.\n",
    "# class TreeNode:\n",
    "#     def __init__(self, val=0, left=None, right=None):\n",
    "#         self.val = val\n",
    "#         self.left = left\n",
    "#         self.right = right\n",
    "\n",
    "def invertTree(root):\n",
    "    if not root:\n",
    "        return None\n",
    "\n",
    "    q = []\n",
    "    q.insert(0, root)\n",
    "\n",
    "    while q:\n",
    "        node = q.pop()\n",
    "\n",
    "        node.left, node.right = node.right, node.left\n",
    "\n",
    "        if node.left:\n",
    "            q.insert(0, node.left)\n",
    "\n",
    "        if node.right:\n",
    "            q.insert(0, node.right)\n",
    "\n",
    "    return root"
   ]
  },
  {
   "cell_type": "markdown",
   "metadata": {},
   "source": [
    "### 11. (100) Same Tree"
   ]
  },
  {
   "cell_type": "code",
   "execution_count": 12,
   "metadata": {},
   "outputs": [],
   "source": [
    "# Definition for a binary tree node.\n",
    "# class TreeNode:\n",
    "#     def __init__(self, val=0, left=None, right=None):\n",
    "#         self.val = val\n",
    "#         self.left = left\n",
    "#         self.right = right\n",
    "def isSameTree(p, q):\n",
    "\n",
    "    def check(p1, p2):\n",
    "\n",
    "        if not p and not q:\n",
    "            return True\n",
    "\n",
    "        if not q or not p:\n",
    "            return False\n",
    "\n",
    "        if p.val != q.val:\n",
    "            return False\n",
    "\n",
    "        return True\n",
    "\n",
    "    arr = []\n",
    "\n",
    "    arr.insert(0, (p,q))\n",
    "\n",
    "    while arr:\n",
    "\n",
    "        p, q = arr.pop()\n",
    "\n",
    "        if not check(p, q):\n",
    "            return False\n",
    "\n",
    "        if p:\n",
    "            arr.insert(0, (p.left, q.left))\n",
    "            arr.insert(0, (p.right, q.right))\n",
    "    return True"
   ]
  },
  {
   "cell_type": "markdown",
   "metadata": {},
   "source": [
    "### 12 (404) Sum of Left Leaves"
   ]
  },
  {
   "cell_type": "code",
   "execution_count": null,
   "metadata": {},
   "outputs": [],
   "source": [
    "def sumOfLeftLeaves(root):\n",
    "\n",
    "    if root is None:\n",
    "        return 0\n",
    "\n",
    "    q = []\n",
    "    q.insert(0, root)\n",
    "    total = 0\n",
    "\n",
    "    while q:\n",
    "\n",
    "        node = q.pop()\n",
    "\n",
    "        if node.left and node.left.left is None and node.left.right is None:\n",
    "            total += node.left.val\n",
    "\n",
    "        if node.left:\n",
    "            q.insert(0, node.left)\n",
    "\n",
    "        if node.right:\n",
    "            q.insert(0, node.right)\n",
    "\n",
    "    return total"
   ]
  },
  {
   "cell_type": "markdown",
   "metadata": {},
   "source": [
    "### 13. (124). Binary Tree Maximum Path Sum"
   ]
  },
  {
   "cell_type": "code",
   "execution_count": null,
   "metadata": {},
   "outputs": [],
   "source": [
    "def maxPathSum(root):\n",
    "\n",
    "    def maxPathHelper(root):\n",
    "\n",
    "        if root is None:\n",
    "            return 0\n",
    "\n",
    "        left = maxPathHelper(root.left)\n",
    "        right = maxPathHelper(root.right)\n",
    "\n",
    "        branchSum = max(max(left, right) + root.val, root.val)\n",
    "        currentMax = max(branchSum, left + right + root.val)\n",
    "        self.maximum = max(self.maximum, currentMax)\n",
    "\n",
    "        return branchSum\n",
    "\n",
    "    self.maximum = float(\"-inf\")\n",
    "\n",
    "    maxPathHelper(root)\n",
    "    return self.maximum\n"
   ]
  }
 ],
 "metadata": {
  "kernelspec": {
   "display_name": "Python 3",
   "language": "python",
   "name": "python3"
  },
  "language_info": {
   "codemirror_mode": {
    "name": "ipython",
    "version": 3
   },
   "file_extension": ".py",
   "mimetype": "text/x-python",
   "name": "python",
   "nbconvert_exporter": "python",
   "pygments_lexer": "ipython3",
   "version": "3.7.6"
  }
 },
 "nbformat": 4,
 "nbformat_minor": 4
}
