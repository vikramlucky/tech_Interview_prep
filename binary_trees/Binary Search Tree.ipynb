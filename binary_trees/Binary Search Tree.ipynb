{
 "cells": [
  {
   "cell_type": "markdown",
   "metadata": {},
   "source": [
    "__A binary search tree__ is a tree data structure in which nodes are arranged according to the BST property which is as follows:\n",
    "\n",
    "The value of the left child of any node in a binary search tree will be less than whatever value we have in that node, and the value of the right child of a node will be greater than the value in that node."
   ]
  },
  {
   "cell_type": "markdown",
   "metadata": {},
   "source": [
    "Algorithm: insert, search, delete ==> O(log N) worst case ==> O(N).\n",
    "Worst case: when we have linear structure. example(looking for smallest value in reverse sortes array)"
   ]
  },
  {
   "cell_type": "code",
   "execution_count": 1,
   "metadata": {},
   "outputs": [],
   "source": [
    "# Implementation\n",
    "# The implementation of BST (Binary Search Tree) class is similar to Binary tree class.\n",
    "\n",
    "class Node(object):\n",
    "    def __init__(self, data):\n",
    "        self.data = data\n",
    "        self.left = None\n",
    "        self.right = None\n",
    "        \n",
    "class BST(object):\n",
    "    def __init__(self, root):\n",
    "        self.root = Node(root)"
   ]
  },
  {
   "cell_type": "code",
   "execution_count": 2,
   "metadata": {},
   "outputs": [],
   "source": [
    "# Insert\n",
    "def insert(self, new_val):\n",
    "    self.insert_helper(self.root, new_val)\n",
    "    \n",
    "def insert_helper(self, current, new_val):\n",
    "    \n",
    "    if current.data < new_val:\n",
    "        if current.right:\n",
    "            self.insert_helper(current.right, new_val)\n",
    "        else:\n",
    "            current.right = Node(new_val)\n",
    "    else:\n",
    "        if current.left:\n",
    "            self.insert_helper(current.left, new_val)\n",
    "        else:\n",
    "            current.left = Node(new_val)"
   ]
  },
  {
   "cell_type": "code",
   "execution_count": 3,
   "metadata": {},
   "outputs": [],
   "source": [
    "# Search\n",
    "def seatch(self, find_val):\n",
    "    return self.search_helper(self.root, find_val)\n",
    "\n",
    "def search_helper(self, current, find_val):\n",
    "    if current:\n",
    "        if current.data == find_val:\n",
    "            return True\n",
    "        elif current.data < find_val:\n",
    "            return self.search_helper(current.right, find_val)\n",
    "        else:\n",
    "            return self.search_helper(current.left, find_val)"
   ]
  },
  {
   "cell_type": "markdown",
   "metadata": {},
   "source": [
    "# Algorithms"
   ]
  },
  {
   "cell_type": "markdown",
   "metadata": {},
   "source": [
    "## Binary Search (Iterative):\n"
   ]
  },
  {
   "cell_type": "code",
   "execution_count": 4,
   "metadata": {},
   "outputs": [],
   "source": [
    "def binary_search_iterative(data, target):\n",
    "    low = 0 \n",
    "    high = len(data) - 1\n",
    "    \n",
    "    while low <= high:\n",
    "        mid = (low + high)//2\n",
    "        if target == data[mid]:\n",
    "            return True\n",
    "        elif target < data[mid]:\n",
    "            high = mid -1\n",
    "        else:\n",
    "            low = mid + 1"
   ]
  },
  {
   "cell_type": "markdown",
   "metadata": {},
   "source": [
    "## Binary Search (Recursive):\n",
    "\n"
   ]
  },
  {
   "cell_type": "code",
   "execution_count": 5,
   "metadata": {},
   "outputs": [],
   "source": [
    "def binary_search_recursive(data, target, low, high):\n",
    "    \n",
    "    if low > high:\n",
    "        return False\n",
    "    else:\n",
    "        mid = (low + high)//2\n",
    "        \n",
    "        if target == data[mid]:\n",
    "            return True\n",
    "        \n",
    "        elif target < data[mid]:\n",
    "            return binary_search_recursive(data, target, low, mid - 1)\n",
    "        \n",
    "        else:\n",
    "            return binary_search_recursive(data, target, mid + 1, high)\n",
    "            \n",
    "# Time complexity O(log N)"
   ]
  },
  {
   "cell_type": "markdown",
   "metadata": {},
   "source": [
    "### Find the closest number <br>\n",
    "Given a sorted array and a target number. Our goal is to find a number in the array that is closest to the target number. We will be making use of a binary search to solve this problem, so make sure that you have gone through the previous lesson.\n",
    "\n",
    "The array may contain duplicate values and negative numbers."
   ]
  },
  {
   "cell_type": "code",
   "execution_count": 6,
   "metadata": {},
   "outputs": [
    {
     "name": "stdout",
     "output_type": "stream",
     "text": [
      "inf\n"
     ]
    }
   ],
   "source": [
    "print(float(\"inf\"))"
   ]
  },
  {
   "cell_type": "code",
   "execution_count": 7,
   "metadata": {},
   "outputs": [],
   "source": [
    "def find_closest_num(A, target):\n",
    "    \n",
    "    min_diff = float(\"inf\")\n",
    "    low = 0\n",
    "    high = len(A) - 1\n",
    "    closest = None\n",
    "    \n",
    "    # edge cases\n",
    "    if len(A) == 0:\n",
    "        return None\n",
    "    if len(A) == 1:\n",
    "        return A[0]\n",
    "    \n",
    "    while low <= high:\n",
    "        mid = (low + high) // 2\n",
    "        \n",
    "        # ensuring we dont read beyond the bounds\n",
    "        if mid + 1 < len(A):\n",
    "            min_diff_right = abs(A[mid+1] - target)\n",
    "        if mid - 1 > 0:\n",
    "            min_diff_left = abs(A[mid-1] - target)\n",
    "            \n",
    "        if min_diff_right < min_diff:\n",
    "            min_diff = min_diff_right\n",
    "            closest = A[mid+1]\n",
    "            \n",
    "        if min_diff_left < min_diff:\n",
    "            min_diff = min_diff_left\n",
    "            closest = A[mid-1]\n",
    "        \n",
    "        if A[mid] < target:\n",
    "            low = mid + 1\n",
    "            \n",
    "        elif A[mid] > target:\n",
    "            high = mid - 1\n",
    "            \n",
    "        else:\n",
    "            return A[mid]\n",
    "    \n",
    "    return closest\n",
    "        \n",
    "        \n",
    "            \n",
    "            "
   ]
  },
  {
   "cell_type": "code",
   "execution_count": 8,
   "metadata": {},
   "outputs": [
    {
     "name": "stdout",
     "output_type": "stream",
     "text": [
      "9\n",
      "5\n"
     ]
    }
   ],
   "source": [
    "A1 = [1, 2, 4, 5, 6, 6, 8, 9]\n",
    "A2 = [2, 5, 6, 7, 8, 8, 9]\n",
    "print(find_closest_num(A1, 11))\n",
    "print(find_closest_num(A2, 4))"
   ]
  },
  {
   "cell_type": "markdown",
   "metadata": {},
   "source": [
    "## Find Fixed Number\n",
    "Given an array of \n",
    "n\n",
    "n distinct integers sorted in ascending order, write a function that returns a fixed point in the array. If there is not a fixed point, return None.\n",
    "\n",
    "    A fixed point in an array A is an index i such that A[i] is equal to i.\n"
   ]
  },
  {
   "cell_type": "code",
   "execution_count": 9,
   "metadata": {},
   "outputs": [],
   "source": [
    "# Brute Force\n",
    "\n",
    "# Fixed point is 3:\n",
    "A1 = [-10, -5, 0, 3, 7]\n",
    "\n",
    "# Fixed point is 0:\n",
    "A2 = [0, 2, 5, 8, 17]\n",
    "\n",
    "# No fixed point. Return \"None\":\n",
    "A3 = [-10, -5, 3, 4, 7, 9]\n",
    "\n",
    "def fixed_point(arr):\n",
    "    \n",
    "    if len(arr) == 0:\n",
    "        return None\n",
    "    for i in range(len(arr)):\n",
    "        if arr[i] == i:\n",
    "            return i\n",
    "    return None\n",
    "\n",
    "# O(N)"
   ]
  },
  {
   "cell_type": "code",
   "execution_count": 10,
   "metadata": {},
   "outputs": [
    {
     "name": "stdout",
     "output_type": "stream",
     "text": [
      "3\n",
      "0\n",
      "None\n"
     ]
    }
   ],
   "source": [
    "print(fixed_point(A1))\n",
    "print(fixed_point(A2))\n",
    "print(fixed_point(A3))"
   ]
  },
  {
   "cell_type": "markdown",
   "metadata": {},
   "source": [
    "Now we need to think about how we can improve the solution above. We can use the following two facts to our advantage: <br>\n",
    "\n",
    "    The list is sorted.\n",
    "    The list contains distinct elements.\n",
    "    \n",
    "Let’s look at the slides below to get a rough idea of how we have taken advantage of the above facts.\n",
    "\n"
   ]
  },
  {
   "cell_type": "code",
   "execution_count": 11,
   "metadata": {},
   "outputs": [],
   "source": [
    "# O(log N)\n",
    "# O(1)\n",
    "def find_fixed_point(arr):\n",
    "    low = 0\n",
    "    high = len(arr) - 1\n",
    "    \n",
    "    while low <= high:\n",
    "        \n",
    "        mid = (low + high) // 2\n",
    "        \n",
    "        if arr[mid] > mid:\n",
    "            high = mid - 1\n",
    "            \n",
    "        if arr[mid] < mid:\n",
    "            low = mid + 1\n",
    "        \n",
    "        else:\n",
    "            return arr[mid]\n",
    "    \n",
    "    return None\n",
    "\n",
    "# Fixed point is 3:\n",
    "A1 = [-10, -5, 0, 3, 7]\n",
    "\n",
    "# Fixed point is 0:\n",
    "A2 = [0, 2, 5, 8, 17]\n",
    "\n",
    "# No fixed point. Return \"None\":\n",
    "A3 = [-10, -5, 3, 4, 7, 9]"
   ]
  },
  {
   "cell_type": "code",
   "execution_count": 12,
   "metadata": {},
   "outputs": [
    {
     "name": "stdout",
     "output_type": "stream",
     "text": [
      "3\n",
      "0\n",
      "None\n"
     ]
    }
   ],
   "source": [
    "print(fixed_point(A1))\n",
    "print(fixed_point(A2))\n",
    "print(fixed_point(A3))"
   ]
  },
  {
   "cell_type": "markdown",
   "metadata": {},
   "source": [
    "## Find Bitonic Peak"
   ]
  },
  {
   "cell_type": "markdown",
   "metadata": {},
   "source": [
    "Given an array that is bitonically sorted, an array that starts off with increasing terms and then concludes with decreasing terms. In any such sequence, there is a “peak” element which is the largest element in the sequence. We will be writing a solution to help us find the peak element of a bitonic sequence.\n"
   ]
  },
  {
   "cell_type": "code",
   "execution_count": 13,
   "metadata": {},
   "outputs": [],
   "source": [
    "def find_highest_number(A):\n",
    "    low = 0\n",
    "    high = len(A) - 1\n",
    "    \n",
    "    if len(A) < 3:\n",
    "        return None\n",
    "    \n",
    "    while low <= high:\n",
    "        \n",
    "        mid = (low + high)//2\n",
    "        \n",
    "        mid_left = A[mid -1] if mid - 1 > 0 else float(\"-inf\")\n",
    "        mid_right = A[mid+1] if mid + 1 < len(A) else float(\"inf\")\n",
    "        \n",
    "        if mid_left < A[mid] and A[mid] < mid_right:\n",
    "            low = mid + 1\n",
    "            \n",
    "        elif mid_left > A[mid] and A[mid] > mid_right:\n",
    "            high = mid - 1 \n",
    "            \n",
    "        elif mid_left < A[mid] and A[mid] > mid_right:\n",
    "            return A[mid]\n",
    "        \n",
    "    return None\n",
    "        "
   ]
  },
  {
   "cell_type": "code",
   "execution_count": 14,
   "metadata": {},
   "outputs": [
    {
     "name": "stdout",
     "output_type": "stream",
     "text": [
      "5\n",
      "6\n",
      "None\n",
      "5\n"
     ]
    }
   ],
   "source": [
    "# Peak element is \"5\".\n",
    "A = [1, 2, 3, 4, 5, 4, 3, 2, 1]\n",
    "print(find_highest_number(A))\n",
    "\n",
    "A = [1, 6, 5, 4, 3, 2, 1]\n",
    "print(find_highest_number(A))\n",
    "\n",
    "A = [1, 2, 3, 4, 5]\n",
    "print(find_highest_number(A))\n",
    "\n",
    "A = [5, 4, 3, 2, 1]\n",
    "print(find_highest_number(A))"
   ]
  },
  {
   "cell_type": "markdown",
   "metadata": {},
   "source": [
    "## Find First Entry in List with Duplicates\n",
    "\n",
    "write a function that takes an array of sorted integers and a key and returns the index of the first occurrence of that key from the array."
   ]
  },
  {
   "cell_type": "code",
   "execution_count": 15,
   "metadata": {},
   "outputs": [],
   "source": [
    "def first_occurrence(arr, key):\n",
    "    if len(arr) == 0:\n",
    "        return None\n",
    "    for i in range(len(arr)):\n",
    "        if arr[i] == key:\n",
    "            return i\n",
    "# time complexity == > O(N)\n",
    "# space ==> O(1)"
   ]
  },
  {
   "cell_type": "code",
   "execution_count": 16,
   "metadata": {},
   "outputs": [
    {
     "name": "stdout",
     "output_type": "stream",
     "text": [
      "3\n"
     ]
    }
   ],
   "source": [
    "a =[-14, -10, 2, 108, 108, 243, 285, 285, 285, 401]\n",
    "target = 108\n",
    "print(first_occurrence(a, target))"
   ]
  },
  {
   "cell_type": "code",
   "execution_count": 17,
   "metadata": {},
   "outputs": [],
   "source": [
    "def first_occurrence(arr, key):\n",
    "    low = 0\n",
    "    high = len(arr) - 1\n",
    "    \n",
    "    while low <= high:    \n",
    "        mid = (low + high)//2\n",
    "        if arr[mid] > key:\n",
    "            high = mid - 1\n",
    "            \n",
    "        elif arr[mid] < key:\n",
    "            low = mid + 1\n",
    "        \n",
    "        else:\n",
    "            if mid - 1 < 0: # since array can contain duplicate values, we checking if target is on 1 index\n",
    "                return mid\n",
    "            elif arr[mid - 1] != target: # since array is in ascending we checking left value for duplicates\n",
    "                return mid\n",
    "            \n",
    "            high = mid - 1\n",
    "        \n",
    "        "
   ]
  },
  {
   "cell_type": "markdown",
   "metadata": {},
   "source": [
    "### Python Bisect method\n",
    "A Python's function that takes an array of sorted integers and a key and returns the index of the first occurrence of that key from the array.\n"
   ]
  },
  {
   "cell_type": "markdown",
   "metadata": {},
   "source": [
    "__bisect_left()__ \n",
    "\n",
    "The bisect_left function finds the index of the target element. In the event where duplicate entries are satisfying the target element, the bisect_left function returns the left-most occurrence. The input parameters to the method are the sorted list and the target element to be searched."
   ]
  },
  {
   "cell_type": "code",
   "execution_count": 18,
   "metadata": {},
   "outputs": [
    {
     "name": "stdout",
     "output_type": "stream",
     "text": [
      "1\n",
      "6\n"
     ]
    }
   ],
   "source": [
    "# Import allows us to make use of the bisect module.\n",
    "import bisect\n",
    "\n",
    "# This sorted list will be used throughout this lesson\n",
    "# to showcase the functionality of the \"bisect\" method.\n",
    "A = [-14, -10, 2, 108, 108, 243, 285, 285, 285, 401]\n",
    "\n",
    "# -10 is at index 1\n",
    "print(bisect.bisect_left(A, -10))\n",
    "\n",
    "# First occurrence of 285 is at index 6\n",
    "print(bisect.bisect_left(A, 285))\n"
   ]
  },
  {
   "cell_type": "markdown",
   "metadata": {},
   "source": [
    "__bisect_right()__ \n",
    "\n",
    "The bisect_right function returns the insertion point which comes after, or to the right of, any existing entries of the target element in the list. It takes in a sorted list as the first parameter and the target element to be searched as the second parameter."
   ]
  },
  {
   "cell_type": "code",
   "execution_count": 19,
   "metadata": {},
   "outputs": [
    {
     "name": "stdout",
     "output_type": "stream",
     "text": [
      "2\n",
      "9\n"
     ]
    }
   ],
   "source": [
    "import bisect\n",
    "\n",
    "# This sorted list will be used throughout this lesson\n",
    "# to showcase the functionality of the \"bisect\" method.\n",
    "A = [-14, -10, 2, 108, 108, 243, 285, 285, 285, 401]\n",
    "\n",
    "# Index position to right of -10 is 2.\n",
    "print(bisect.bisect_right(A, -10)) \n",
    "\n",
    "# Index position after last occurrence of 285 is 9.\n",
    "print(bisect.bisect_right(A, 285))"
   ]
  },
  {
   "cell_type": "markdown",
   "metadata": {},
   "source": [
    "### insort_left() and insort_right #\n",
    "\n",
    "Given that the list A is sorted, it is possible to insert elements into A so that the list remains sorted. Functions insort_left and insort_right behave in a similar way to bisect_left and bisect_right, only the insort functions insert at the index positions. The input parameters to the method are the sorted list and the element to be inserted at a position so that the list remains sorted."
   ]
  },
  {
   "cell_type": "code",
   "execution_count": 20,
   "metadata": {},
   "outputs": [
    {
     "name": "stdout",
     "output_type": "stream",
     "text": [
      "[-14, -10, 2, 108, 108, 243, 285, 285, 285, 401]\n",
      "[-14, -10, 2, 108, 108, 108, 243, 285, 285, 285, 401]\n",
      "[-14, -10, 2, 108, 108, 108, 108, 243, 285, 285, 285, 401]\n"
     ]
    }
   ],
   "source": [
    "# Import allows us to make use of the bisect module.\n",
    "import bisect\n",
    "\n",
    "# This sorted list will be used throughout this lesson\n",
    "# to showcase the functionality of the \"bisect\" method.\n",
    "A = [-14, -10, 2, 108, 108, 243, 285, 285, 285, 401]\n",
    "\n",
    "\n",
    "print(A)\n",
    "bisect.insort_left(A, 108)\n",
    "print(A)\n",
    "\n",
    "bisect.insort_right(A, 108)\n",
    "print(A)"
   ]
  },
  {
   "cell_type": "markdown",
   "metadata": {},
   "source": [
    "### Integer Square root"
   ]
  },
  {
   "cell_type": "markdown",
   "metadata": {},
   "source": [
    "__Problem__:\n",
    "\n",
    "You are required to write a function that takes a non-negative integer, k, and returns the largest integer whose square is less than or equal to the specified integer k."
   ]
  },
  {
   "cell_type": "code",
   "execution_count": 21,
   "metadata": {},
   "outputs": [
    {
     "data": {
      "text/plain": [
       "17.029386365926403"
      ]
     },
     "execution_count": 21,
     "metadata": {},
     "output_type": "execute_result"
    }
   ],
   "source": [
    "import math\n",
    "math.sqrt(290)"
   ]
  },
  {
   "cell_type": "code",
   "execution_count": 22,
   "metadata": {},
   "outputs": [
    {
     "data": {
      "text/plain": [
       "324"
      ]
     },
     "execution_count": 22,
     "metadata": {},
     "output_type": "execute_result"
    }
   ],
   "source": [
    "18 * 18"
   ]
  },
  {
   "cell_type": "code",
   "execution_count": 23,
   "metadata": {},
   "outputs": [
    {
     "data": {
      "text/plain": [
       "[0, 1, 2, 3, 4, 5, 6, 7, 8, 9, 10]"
      ]
     },
     "execution_count": 23,
     "metadata": {},
     "output_type": "execute_result"
    }
   ],
   "source": [
    "arr = [x for x in range(11)]\n",
    "arr"
   ]
  },
  {
   "cell_type": "markdown",
   "metadata": {},
   "source": [
    "### Binary Tree Examples"
   ]
  },
  {
   "cell_type": "code",
   "execution_count": 1,
   "metadata": {},
   "outputs": [],
   "source": [
    "class Node(object):\n",
    "    def __init__(self, value):\n",
    "        self.value = value\n",
    "        self.right = None\n",
    "        self.left  = None\n",
    "        \n",
    "class BinaryTree(object):\n",
    "    def __init__(self, root):\n",
    "        self.root = Node(root)"
   ]
  },
  {
   "cell_type": "code",
   "execution_count": 3,
   "metadata": {},
   "outputs": [],
   "source": [
    "class Node:\n",
    "    def __init__(self, value):\n",
    "        self.value = value\n",
    "        self.right = None\n",
    "        self.left = None\n",
    "        \n",
    "class BinaryTree:\n",
    "    def __init__(self, root):\n",
    "        self.root = Node(root)\n",
    "\n",
    "    "
   ]
  },
  {
   "cell_type": "code",
   "execution_count": 4,
   "metadata": {},
   "outputs": [],
   "source": [
    "tree = BinaryTree(1)\n",
    "tree.root.left = Node(3)\n",
    "tree.root.right = Node(5)\n",
    "tree.root.left.left = Node(10)\n",
    "tree.root.left.right = Node(15)\n",
    "tree.root.right.left = Node(6)\n",
    "tree.root.right.right = Node(99)"
   ]
  },
  {
   "cell_type": "code",
   "execution_count": 9,
   "metadata": {},
   "outputs": [],
   "source": [
    "def pre_order(root):\n",
    "    if root:\n",
    "        pre_order(root.left)\n",
    "        pre_order(root.right)\n",
    "        print(root.value)"
   ]
  },
  {
   "cell_type": "code",
   "execution_count": 10,
   "metadata": {},
   "outputs": [
    {
     "name": "stdout",
     "output_type": "stream",
     "text": [
      "10\n",
      "15\n",
      "3\n",
      "6\n",
      "99\n",
      "5\n",
      "1\n"
     ]
    }
   ],
   "source": [
    "pre_order(tree.root)"
   ]
  },
  {
   "cell_type": "code",
   "execution_count": 18,
   "metadata": {},
   "outputs": [
    {
     "name": "stdout",
     "output_type": "stream",
     "text": [
      "1\n",
      "3\n",
      "5\n",
      "10\n",
      "15\n",
      "6\n",
      "99\n"
     ]
    }
   ],
   "source": [
    "def level_order(root):\n",
    "    if root:\n",
    "        q = []\n",
    "        q.insert(0,root)\n",
    "        while len(q) > 0:\n",
    "            print(q[-1].value)\n",
    "            Node = q.pop()\n",
    "            if Node.left:\n",
    "                q.insert(0, Node.left)\n",
    "            if Node.right:\n",
    "                q.insert(0, Node.right)\n",
    "\n",
    "level_order(tree.root)\n",
    "            "
   ]
  },
  {
   "cell_type": "code",
   "execution_count": 19,
   "metadata": {},
   "outputs": [],
   "source": [
    "def reverse_level_order(root):\n",
    "    if not root:\n",
    "        return\n",
    "    \n",
    "    q = []\n",
    "    s = []\n",
    "    \n",
    "    q.insert(0, root)\n",
    "    while len(q) > 0:\n",
    "        node = q.pop()\n",
    "        s.append(node.value)\n",
    "        if node.right:\n",
    "            q.insert(0, node.right)\n",
    "        if node.left:\n",
    "            q.insert(0, node.left)\n",
    "    while s:\n",
    "        print(s.pop())\n",
    "    "
   ]
  },
  {
   "cell_type": "code",
   "execution_count": 20,
   "metadata": {},
   "outputs": [
    {
     "name": "stdout",
     "output_type": "stream",
     "text": [
      "10\n",
      "15\n",
      "6\n",
      "99\n",
      "3\n",
      "5\n",
      "1\n"
     ]
    }
   ],
   "source": [
    "reverse_level_order(tree.root)"
   ]
  },
  {
   "cell_type": "markdown",
   "metadata": {},
   "source": [
    "            1\n",
    "         /     \\\n",
    "        3       5\n",
    "       / \\     / \\\n",
    "      10  15  6  99 "
   ]
  },
  {
   "cell_type": "code",
   "execution_count": 26,
   "metadata": {},
   "outputs": [
    {
     "name": "stdout",
     "output_type": "stream",
     "text": [
      "2\n"
     ]
    }
   ],
   "source": [
    "# Height of a tree:\n",
    "def height(root):\n",
    "    if root is None:\n",
    "        return -1\n",
    "    max_height = max(height(root.left), height(root.right))\n",
    "    return 1 + max_height\n",
    "\n",
    "print(height(tree.root))\n",
    "        "
   ]
  },
  {
   "cell_type": "markdown",
   "metadata": {},
   "source": [
    "## Solution Review: Find Nodes at \"k\" distance from the Root"
   ]
  },
  {
   "cell_type": "code",
   "execution_count": 30,
   "metadata": {},
   "outputs": [
    {
     "name": "stdout",
     "output_type": "stream",
     "text": [
      "[10, 15, 6, 99]\n"
     ]
    }
   ],
   "source": [
    "def findK(root, k, res):\n",
    "    if root is None:\n",
    "        return\n",
    "    if k == 0:\n",
    "        res.append(root.value)\n",
    "    else:\n",
    "        findK(root.left, k - 1, res)\n",
    "        findK(root.right, k - 1, res)\n",
    "    \n",
    "def findKNodes(root, k):\n",
    "    res = []\n",
    "    findK(root, k, res)  # recurse the tree for node at k distance\n",
    "    return str(res)\n",
    "print(findKNodes(tree.root, 2))"
   ]
  },
  {
   "cell_type": "raw",
   "metadata": {},
   "source": [
    "def pre_order(root, x):\n",
    "    \"\"\"Root --> Left --> Right\"\"\"\n",
    "    if root:\n",
    "        x.append(root.value)\n",
    "        x = pre_order(root.left, x)\n",
    "        x = pre_order(root.right, x)\n",
    "    return x\n",
    "\n",
    "print(pre_order(tree.root,[]))\n",
    "        "
   ]
  },
  {
   "cell_type": "code",
   "execution_count": 52,
   "metadata": {},
   "outputs": [
    {
     "name": "stdout",
     "output_type": "stream",
     "text": [
      "[10, 3, 15, 1, 6, 5, 99]\n"
     ]
    }
   ],
   "source": [
    "def in_order(root, x):\n",
    "    \"\"\"Left --> Root --> Right\"\"\"\n",
    "    if root:\n",
    "        x = in_order(root.left, x)\n",
    "        x.append(root.value)\n",
    "        x = in_order(root.right, x)\n",
    "    return x\n",
    "print(in_order(tree.root,[]))"
   ]
  },
  {
   "cell_type": "markdown",
   "metadata": {},
   "source": [
    "            1\n",
    "          /   \\\n",
    "         /     \\\n",
    "        3       5\n",
    "       / \\     / \\\n",
    "      10  15  6  99 "
   ]
  },
  {
   "cell_type": "code",
   "execution_count": 54,
   "metadata": {},
   "outputs": [
    {
     "name": "stdout",
     "output_type": "stream",
     "text": [
      "[10, 15, 3, 6, 99, 5, 1]\n"
     ]
    }
   ],
   "source": [
    "def post_order(root, x):\n",
    "    \"\"\"Left --> Right --> Root\"\"\"\n",
    "    if root:\n",
    "        x = post_order(root.left, x)\n",
    "        x = post_order(root.right, x)\n",
    "        x.append(root.value)\n",
    "    return x\n",
    "print(post_order(tree.root,[]))"
   ]
  },
  {
   "cell_type": "markdown",
   "metadata": {},
   "source": [
    "### Level-Order Traversal"
   ]
  },
  {
   "cell_type": "code",
   "execution_count": 67,
   "metadata": {},
   "outputs": [
    {
     "name": "stdout",
     "output_type": "stream",
     "text": [
      "[1, 3, 5, 10, 15, 6, 99]\n"
     ]
    }
   ],
   "source": [
    "q = []\n",
    "result = []\n",
    "q.insert(0,tree.root)\n",
    "while len(q) > 0:\n",
    "    result.append(q[-1].value)\n",
    "    node = q.pop()\n",
    "    if node.left:\n",
    "        q.insert(0,node.left)\n",
    "        \n",
    "    if node.right:\n",
    "        q.insert(0, node.right)\n",
    "    \n",
    "print(result)\n",
    "    \n",
    "    "
   ]
  },
  {
   "cell_type": "markdown",
   "metadata": {},
   "source": [
    "            1\n",
    "          /   \\\n",
    "         /     \\\n",
    "        3       5\n",
    "       / \\     / \\\n",
    "      10  15  6  99 "
   ]
  },
  {
   "cell_type": "markdown",
   "metadata": {},
   "source": [
    "## Reverse Level Order"
   ]
  },
  {
   "cell_type": "code",
   "execution_count": 72,
   "metadata": {},
   "outputs": [
    {
     "name": "stdout",
     "output_type": "stream",
     "text": [
      "10\n",
      "15\n",
      "6\n",
      "99\n",
      "3\n",
      "5\n",
      "1\n"
     ]
    }
   ],
   "source": [
    "queue = []\n",
    "stack = []\n",
    "queue.append(tree.root)\n",
    "\n",
    "while len(queue) > 0:\n",
    "    node = queue.pop()\n",
    "    stack.append(node.value)\n",
    "    if node.right:\n",
    "        queue.insert(0, node.right)\n",
    "    if node.left:\n",
    "        queue.insert(0, node.left)\n",
    "        \n",
    "while len(stack) > 0:\n",
    "    print(stack.pop())"
   ]
  },
  {
   "cell_type": "markdown",
   "metadata": {},
   "source": [
    "## Binary Search Tree Implementation\n"
   ]
  },
  {
   "cell_type": "code",
   "execution_count": 74,
   "metadata": {},
   "outputs": [],
   "source": [
    "class Node:\n",
    "    def __init__(self, val):\n",
    "        self.val = val\n",
    "        self.leftChild = None\n",
    "        self.rightChild = None\n",
    "    \n",
    "    def insert(self, val):\n",
    "        current = self\n",
    "        parent = None\n",
    "        \n",
    "        while current:\n",
    "            parent = current\n",
    "            if val < current.val:\n",
    "                current = current.leftChild\n",
    "            else:\n",
    "                current = current.rightChild\n",
    "                \n",
    "        if parent is None:\n",
    "            parent = Node(val)\n",
    "            \n",
    "        elif(val < parent.val):\n",
    "            parent.leftChild = Node(val)\n",
    "        else:\n",
    "            parent.rightChild = Node(val)\n",
    "        \n",
    "    "
   ]
  },
  {
   "cell_type": "code",
   "execution_count": 75,
   "metadata": {},
   "outputs": [],
   "source": [
    "class BinarySearchTree:\n",
    "    def __init__(self, val):\n",
    "        self.root = Node(val)\n",
    "        \n",
    "    def insert(self, val):\n",
    "        \n",
    "        if self.root:\n",
    "            return self.root.insert(val)\n",
    "        else:\n",
    "            self.root = Node(val)\n",
    "            return True\n"
   ]
  },
  {
   "cell_type": "code",
   "execution_count": 76,
   "metadata": {},
   "outputs": [],
   "source": [
    "bst = BinarySearchTree(8)\n",
    "bst.insert(88)\n",
    "bst.insert(5)\n",
    "bst.insert(22)\n",
    "bst.insert(3)\n",
    "bst.insert(2)\n",
    "bst.insert(1)\n",
    "bst.insert(4)\n",
    "bst.insert(99)"
   ]
  },
  {
   "cell_type": "markdown",
   "metadata": {},
   "source": [
    "                 8\n",
    "               /   \\\n",
    "              5     88\n",
    "             /      / \\\n",
    "            3      22  99\n",
    "           / \\\n",
    "          2   4\n",
    "         / \n",
    "        1 "
   ]
  },
  {
   "cell_type": "code",
   "execution_count": 78,
   "metadata": {},
   "outputs": [
    {
     "name": "stdout",
     "output_type": "stream",
     "text": [
      "[8, 5, 3, 2, 1, 4, 88, 22, 99]\n"
     ]
    }
   ],
   "source": [
    "x = []\n",
    "def pre_order(root, x):\n",
    "    if root:\n",
    "        x.append(root.val)\n",
    "        x = pre_order(root.leftChild, x)\n",
    "        x = pre_order(root.rightChild, x)\n",
    "    return x \n",
    "\n",
    "print(pre_order(bst.root, []))"
   ]
  },
  {
   "cell_type": "code",
   "execution_count": 84,
   "metadata": {},
   "outputs": [
    {
     "name": "stdout",
     "output_type": "stream",
     "text": [
      "[1, 2, 3, 4, 5, 8, 22, 88, 99]\n"
     ]
    }
   ],
   "source": [
    "def in_order(root, x):\n",
    "    if root:\n",
    "        x = in_order(root.leftChild, x)\n",
    "        x.append(root.val)\n",
    "        x = in_order(root.rightChild, x)\n",
    "    return x\n",
    "\n",
    "print(in_order(bst.root, []))\n",
    "        "
   ]
  },
  {
   "cell_type": "code",
   "execution_count": null,
   "metadata": {},
   "outputs": [],
   "source": [
    "def in_order(root, x):\n",
    "    \"\"\"Left --> Root --> Right\"\"\"\n",
    "    if root:\n",
    "        x = in_order(root.left, x)\n",
    "        x.append(root.value)\n",
    "        x = in_order(root.right, x)\n",
    "    return x\n",
    "print(in_order(tree.root,[]))"
   ]
  },
  {
   "cell_type": "code",
   "execution_count": 7,
   "metadata": {},
   "outputs": [
    {
     "name": "stdout",
     "output_type": "stream",
     "text": [
      "[7, 4, 1]\n"
     ]
    }
   ],
   "source": []
  },
  {
   "cell_type": "markdown",
   "metadata": {},
   "source": [
    "## Binary Tree Review\n"
   ]
  },
  {
   "cell_type": "code",
   "execution_count": 51,
   "metadata": {},
   "outputs": [],
   "source": [
    "class Node:\n",
    "    def __init__(self, val):\n",
    "        self.val = val\n",
    "        self.left = None\n",
    "        self.right = None\n",
    "    \n",
    "    def insert(self, val):\n",
    "        current = self\n",
    "        parent = None\n",
    "        \n",
    "        while current:\n",
    "            parent = current\n",
    "            if val < current.val:\n",
    "                current = current.left\n",
    "            else:\n",
    "                current = current.right\n",
    "        \n",
    "        if parent is None:\n",
    "            parent = Node(val)\n",
    "        elif val < parent.val:\n",
    "            parent.left = Node(val)\n",
    "        else:\n",
    "            parent.right = Node(val)\n",
    "            \n",
    "    def search(self, val):\n",
    "        \n",
    "        if val < self.val:\n",
    "            if self.left:\n",
    "                return self.search(self.left, val)\n",
    "            else:\n",
    "                return False\n",
    "        \n",
    "        elif val > self.val:\n",
    "            if self.right:\n",
    "                return self.search(self.right, val)\n",
    "            else:\n",
    "                return False\n",
    "        else:\n",
    "            return True\n",
    "        \n",
    "        return False\n",
    "    \n",
    "    def delete(self, val):\n",
    "        \n",
    "        if val < self.val:\n",
    "            if self.left:\n",
    "                self.left.delete(self.left, val)\n",
    "            else:\n",
    "                print(\"No such value in the tree.\")\n",
    "                \n",
    "        elif val > self.right:\n",
    "            if self.right:\n",
    "                self.right.delete(self.right, val)\n",
    "            else:\n",
    "                print(\"No such value in the tree\")\n",
    "        \n",
    "        else:\n",
    "            \n",
    "            if not self.right and not self.left:\n",
    "                self = None\n",
    "                return None\n",
    "            \n",
    "            elif self.right is None:\n",
    "                tmp = self.left\n",
    "                self = None\n",
    "                return tmp\n",
    "            \n",
    "            elif self.left is None:\n",
    "                tmp = self.right\n",
    "                self = None\n",
    "                return self.right\n",
    "            else:\n",
    "                current = self.right\n",
    "                while current.left is not None:\n",
    "                    current = current.left\n",
    "                self.val = current.val\n",
    "                self.right = self.right.delete(current.val)\n",
    "            \n",
    "        return self\n",
    "        \n",
    "            \n",
    "    \n",
    "    '''\n",
    "    # Recursive\n",
    "    def insert(self, val):\n",
    "        if val < self.val:\n",
    "            if self.left:\n",
    "                self.left.insert(val)\n",
    "            else:\n",
    "                self.left = Node(val)\n",
    "                return\n",
    "        else:\n",
    "            if self.right:\n",
    "                self.right.insert(val)\n",
    "            else:\n",
    "                self.right = Node(val)\n",
    "                return\n",
    "    '''\n",
    "        \n",
    "    \n",
    "class BST:\n",
    "    def __init__(self, val):\n",
    "        self.root = Node(val)\n",
    "        \n",
    "    def insert(self, val):\n",
    "        if self.root:\n",
    "            return self.root.insert(val)\n",
    "        else:\n",
    "            self.root = Node(val)\n",
    "            return True"
   ]
  },
  {
   "cell_type": "code",
   "execution_count": 109,
   "metadata": {},
   "outputs": [],
   "source": [
    "lucky = BST(99)\n",
    "lucky.insert(55)\n",
    "lucky.insert(7)\n",
    "lucky.insert(101)\n",
    "lucky.insert(100)\n",
    "lucky.insert(102)\n",
    "lucky.insert(1000)\n",
    "lucky.insert(57)"
   ]
  },
  {
   "cell_type": "markdown",
   "metadata": {},
   "source": [
    "                  99\n",
    "                /    \\\n",
    "              55     101\n",
    "             /  \\    /  \\\n",
    "           7    57  100  102\n",
    "                           \\\n",
    "                           1000"
   ]
  },
  {
   "cell_type": "code",
   "execution_count": 126,
   "metadata": {},
   "outputs": [],
   "source": [
    "def height(node):\n",
    "    if node is None:\n",
    "        return -1\n",
    "    max_height = max(height(node.left), height(node.right))\n",
    "    return 1 + max_height\n"
   ]
  },
  {
   "cell_type": "code",
   "execution_count": 127,
   "metadata": {},
   "outputs": [
    {
     "name": "stdout",
     "output_type": "stream",
     "text": [
      "3\n"
     ]
    }
   ],
   "source": [
    "print(height(lucky.root))"
   ]
  },
  {
   "cell_type": "code",
   "execution_count": 175,
   "metadata": {},
   "outputs": [
    {
     "name": "stdout",
     "output_type": "stream",
     "text": [
      "55\n"
     ]
    }
   ],
   "source": [
    "binary_Search(lucky.root, 55)"
   ]
  },
  {
   "cell_type": "code",
   "execution_count": 174,
   "metadata": {},
   "outputs": [],
   "source": [
    "def binary_Search(node, k):\n",
    "    while node:\n",
    "        if k < node.val:\n",
    "            node = node.left\n",
    "        elif k > node.val:\n",
    "            node = node.right\n",
    "        else:\n",
    "            print(node.val)\n",
    "            break"
   ]
  },
  {
   "cell_type": "code",
   "execution_count": 129,
   "metadata": {},
   "outputs": [],
   "source": [
    "def h(node):\n",
    "    if node is None:\n",
    "        return -1\n",
    "    left = h(node.left)\n",
    "    right = h(node.right)\n",
    "    return 1 + max(left, right)"
   ]
  },
  {
   "cell_type": "code",
   "execution_count": 130,
   "metadata": {},
   "outputs": [
    {
     "name": "stdout",
     "output_type": "stream",
     "text": [
      "3\n"
     ]
    }
   ],
   "source": [
    "print(h(lucky.root))"
   ]
  },
  {
   "cell_type": "code",
   "execution_count": 164,
   "metadata": {},
   "outputs": [],
   "source": [
    "def fin_(node, k):\n",
    "    current = node\n",
    "    parent= None\n",
    "    \n",
    "    while current:\n",
    "        parent = current\n",
    "        \n",
    "        if k < current.val:\n",
    "            if k == current.left.val:\n",
    "                print(current.val)\n",
    "                break\n",
    "            else:\n",
    "                current = current.left\n",
    "\n",
    "        elif  k > current.val:\n",
    "            if k == current.right.val:\n",
    "                print(current.val)\n",
    "                break\n",
    "            else:\n",
    "                current = current.right\n",
    "        else:\n",
    "            print(\"No Suck value\")\n"
   ]
  },
  {
   "cell_type": "code",
   "execution_count": 167,
   "metadata": {},
   "outputs": [
    {
     "name": "stdout",
     "output_type": "stream",
     "text": [
      "99\n"
     ]
    }
   ],
   "source": [
    "fin_(lucky.root, 55)"
   ]
  },
  {
   "cell_type": "code",
   "execution_count": null,
   "metadata": {},
   "outputs": [],
   "source": []
  }
 ],
 "metadata": {
  "kernelspec": {
   "display_name": "Python 3",
   "language": "python",
   "name": "python3"
  },
  "language_info": {
   "codemirror_mode": {
    "name": "ipython",
    "version": 3
   },
   "file_extension": ".py",
   "mimetype": "text/x-python",
   "name": "python",
   "nbconvert_exporter": "python",
   "pygments_lexer": "ipython3",
   "version": "3.7.6"
  }
 },
 "nbformat": 4,
 "nbformat_minor": 4
}
