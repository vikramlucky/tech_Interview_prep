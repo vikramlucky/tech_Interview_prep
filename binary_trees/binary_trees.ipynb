{
 "cells": [
  {
   "cell_type": "markdown",
   "metadata": {},
   "source": [
    "### Binary Tree\n",
    "A binary tree is a tree data structure in which each node has at most two children, which are referred to as the left child and the right child. Have a look at an elementary example of a binary tree:\n",
    "#### Types of Binary Trees \n",
    "##### Complete Binary Tree #\n",
    "In a complete binary tree, every level except possibly the last, is completely filled and all nodes in the last level are as far left as possible.\n",
    "\n",
    "#### Full Binary Tree #\n",
    "A full binary tree (sometimes referred to as a proper or plane binary tree) is a tree in which every node has either 0 or 2 children."
   ]
  },
  {
   "cell_type": "code",
   "execution_count": 19,
   "metadata": {},
   "outputs": [],
   "source": [
    "class Node(object):\n",
    "    def __init__(self,value):\n",
    "        self.value = value\n",
    "        self.right = None\n",
    "        self.left = None\n",
    "\n",
    "    \n",
    "class BinaryTree(object):\n",
    "    def __init__(self, root):\n",
    "        self.root = Node(root)\n",
    "\n",
    "\n",
    "tree = BinaryTree(1)\n",
    "tree.root.left = Node(2)\n",
    "tree.root.right = Node(3)\n",
    "tree.root.left.left = Node(4)\n",
    "tree.root.left.right = Node(5)\n",
    "tree.root.right.left = Node(6)\n",
    "tree.root.right.right = Node(7)\n",
    "    "
   ]
  },
  {
   "cell_type": "markdown",
   "metadata": {},
   "source": [
    "## Traversal Algorithms"
   ]
  },
  {
   "cell_type": "markdown",
   "metadata": {},
   "source": [
    "#### Tree Traversal is the process of visiting (checking or updating) each node in a tree data structure, exactly once. Unlike linked lists or one-dimensional arrays that are canonically traversed in linear order, trees may be traversed in multiple ways. They may be traversed in depth-first or breadth-first order.\n",
    "\n",
    "#### There are three common ways to traverse a tree in depth-first order:\n",
    "\n",
    "### In-order\n",
    "### Pre-order\n",
    "### Post-order\n",
    "#### Let’s begin with the Pre-order Traversal.\n",
    "\n",
    "### Pre-order Traversal #\n",
    "#### Here is the algorithm for a pre-order traversal:\n",
    "\n",
    "     -Check if the current node is empty/null.\n",
    "     -Display the data part of the root (or current node).\n",
    "     -Traverse the left subtree by recursively calling the pre-order method.\n",
    "     -Traverse the right subtree by recursively calling the pre-order method."
   ]
  },
  {
   "cell_type": "code",
   "execution_count": 10,
   "metadata": {},
   "outputs": [],
   "source": [
    "def preorder_print(self, start, traversal):\n",
    "    '''Root-> Left -> Right'''\n",
    "    if start:\n",
    "        traversal += (str(start.value) + \"-\")\n",
    "        traversal = self.preorder_print(start.left, traversal)\n",
    "        traversal = self.preorder_print(start.right, traversal)\n",
    "        return traversal"
   ]
  },
  {
   "cell_type": "markdown",
   "metadata": {},
   "source": [
    "### In-order Traversal #\n",
    "#### Here is the algorithm for an in-order traversal:\n",
    "\n",
    "    -Check if the current node is empty/null.\n",
    "    -Traverse the left subtree by recursively calling the in-order method.\n",
    "    -Display the data part of the root (or current node).\n",
    "    -Traverse the right subtree by recursively calling the in-order method."
   ]
  },
  {
   "cell_type": "code",
   "execution_count": 12,
   "metadata": {},
   "outputs": [],
   "source": [
    "def inorder_print(self, start, traversal):\n",
    "        \"\"\"Left->Root->Right\"\"\"\n",
    "        if start:\n",
    "            traversal = self.inorder_print(start.left, traversal)\n",
    "            traversal += (str(start.value) + \"-\")\n",
    "            traversal = self.inorder_print(start.right, traversal)\n",
    "        return traversal"
   ]
  },
  {
   "cell_type": "markdown",
   "metadata": {},
   "source": [
    "The inorder_print is pretty much the same as the preorder_print except that the order Root->Left->Right from pre-order changes to Left->Root->Right in in-order traversal. In order to achieve this order, we just change the order of statements in the if-condition, i.e., we first make a recursive call on the left child and after we are done will all the subsequent calls from line 4, we concatenate the value of the current node with traversal on line 5. Then, we can make a recursive call to right subtree on line 6. This will help us keep the order required for the in-order traversa"
   ]
  },
  {
   "cell_type": "markdown",
   "metadata": {},
   "source": [
    "### Post-order Traversal #\n",
    "#### At this point, it will be very easy for you to guess the algorithm for post-order traversal. There you go:\n",
    "\n",
    "    -Check if the current node is empty/null.\n",
    "    -Traverse the left subtree by recursively calling the post-order method.\n",
    "    -Traverse the right subtree by recursively calling the post-order method.\n",
    "    -Display the data part of the root (or current node)."
   ]
  },
  {
   "cell_type": "code",
   "execution_count": 13,
   "metadata": {},
   "outputs": [],
   "source": [
    "def postorder_print(self, start, traversal):\n",
    "  \"\"\"Left->Right->Root\"\"\"\n",
    "  if start:\n",
    "    traversal = self.postorder_print(start.left, traversal)\n",
    "    traversal = self.postorder_print(start.right, traversal)\n",
    "    traversal += (str(start.value) + \"-\")\n",
    "  return traversal"
   ]
  },
  {
   "cell_type": "code",
   "execution_count": 15,
   "metadata": {},
   "outputs": [
    {
     "name": "stdout",
     "output_type": "stream",
     "text": [
      "1-2-4-5-3-6-7-\n",
      "4-2-5-1-6-3-7-\n",
      "4-5-2-6-7-3-1-\n"
     ]
    }
   ],
   "source": [
    "class Node(object):\n",
    "    def __init__(self, value):\n",
    "        self.value = value\n",
    "        self.left = None\n",
    "        self.right = None\n",
    "\n",
    "\n",
    "class BinaryTree(object):\n",
    "    def __init__(self, root):\n",
    "        self.root = Node(root)\n",
    "\n",
    "    def print_tree(self, traversal_type):\n",
    "        if traversal_type == \"preorder\":\n",
    "            return self.preorder_print(tree.root, \"\")\n",
    "        elif traversal_type == \"inorder\":\n",
    "            return self.inorder_print(tree.root, \"\")\n",
    "        elif traversal_type == \"postorder\":\n",
    "            return self.postorder_print(tree.root, \"\")\n",
    "\n",
    "        else:\n",
    "            print(\"Traversal type \" + str(traversal_type) + \" is not supported.\")\n",
    "            return False\n",
    "\n",
    "    def preorder_print(self, start, traversal):\n",
    "        \"\"\"Root->Left->Right\"\"\"\n",
    "        if start:\n",
    "            traversal += (str(start.value) + \"-\")\n",
    "            traversal = self.preorder_print(start.left, traversal)\n",
    "            traversal = self.preorder_print(start.right, traversal)\n",
    "        return traversal\n",
    "\n",
    "    def inorder_print(self, start, traversal):\n",
    "        \"\"\"Left->Root->Right\"\"\"\n",
    "        if start:\n",
    "            traversal = self.inorder_print(start.left, traversal)\n",
    "            traversal += (str(start.value) + \"-\")\n",
    "            traversal = self.inorder_print(start.right, traversal)\n",
    "        return traversal\n",
    "\n",
    "    def postorder_print(self, start, traversal):\n",
    "        \"\"\"Left->Right->Root\"\"\"\n",
    "        if start:\n",
    "            traversal = self.postorder_print(start.left, traversal)\n",
    "            traversal = self.postorder_print(start.right, traversal)\n",
    "            traversal += (str(start.value) + \"-\")\n",
    "        return traversal\n",
    "\n",
    "# 1-2-4-5-3-6-7-\n",
    "# 4-2-5-1-6-3-7\n",
    "# 4-2-5-6-3-7-1\n",
    "#               1\n",
    "#           /       \\  \n",
    "#          2          3  \n",
    "#         /  \\      /   \\\n",
    "#        4    5     6   7 \n",
    "\n",
    "# Set up tree:\n",
    "tree = BinaryTree(1)\n",
    "tree.root.left = Node(2)\n",
    "tree.root.right = Node(3)\n",
    "tree.root.left.left = Node(4)\n",
    "tree.root.left.right = Node(5)\n",
    "tree.root.right.left = Node(6)\n",
    "tree.root.right.right = Node(7)\n",
    "\n",
    "print(tree.print_tree(\"preorder\"))\n",
    "print(tree.print_tree(\"inorder\"))\n",
    "print(tree.print_tree(\"postorder\"))"
   ]
  },
  {
   "cell_type": "markdown",
   "metadata": {},
   "source": [
    "### Level - Order Traversal\n",
    "To do a level-order traversal of a binary tree, we require a queue.\n"
   ]
  },
  {
   "cell_type": "code",
   "execution_count": null,
   "metadata": {},
   "outputs": [],
   "source": [
    "# Let's implement Queue class\n",
    "class Queue(self):\n",
    "    def __init__(self):\n",
    "        self.items = []\n",
    "        \n",
    "    def enqueue(self, data):\n",
    "        self.items.insert(0, data)\n",
    "        \n",
    "    def dequeue(self):\n",
    "        if not self.items.is_empty():\n",
    "            return self.items.pop()\n",
    "        \n",
    "    def is_empty(self):\n",
    "        return len(self.items) == 0\n",
    "    \n",
    "    def peek(self):\n",
    "        if not self.items.is_empty():\n",
    "            return self.items[-1].data\n",
    "    \n",
    "    def __len__(self):\n",
    "        return(len(self.items))\n",
    "    \n",
    "    \n",
    "    "
   ]
  },
  {
   "cell_type": "code",
   "execution_count": 1,
   "metadata": {},
   "outputs": [],
   "source": [
    "def levelorder_print(self, start):\n",
    "    if start is None:\n",
    "        return\n",
    "    \n",
    "    queue = Queue()\n",
    "    queue.enqueue(start)\n",
    "    \n",
    "    traversal = \"\"\n",
    "    while len(queue) > 0:\n",
    "        traversal += str(queue.peek()) + \"-\"\n",
    "        node = queue.dequeue()\n",
    "        \n",
    "        if node.left:\n",
    "            queue.enqueue(0, node.left)\n",
    "        if node.right:\n",
    "            queue.enqueue(0, node.right)\n",
    "    return traversal\n",
    "    "
   ]
  },
  {
   "cell_type": "code",
   "execution_count": 18,
   "metadata": {},
   "outputs": [
    {
     "name": "stdout",
     "output_type": "stream",
     "text": [
      "1-2-3-4-5-\n"
     ]
    }
   ],
   "source": [
    "class Queue(object):\n",
    "    def __init__(self):\n",
    "        self.items = []\n",
    "\n",
    "    def enqueue(self, item):\n",
    "        self.items.insert(0, item)\n",
    "\n",
    "    def dequeue(self):\n",
    "        if not self.is_empty():\n",
    "            return self.items.pop()\n",
    "\n",
    "    def is_empty(self):\n",
    "        return len(self.items) == 0\n",
    "\n",
    "    def peek(self):\n",
    "        if not self.is_empty():\n",
    "            return self.items[-1].value\n",
    "\n",
    "    def __len__(self):\n",
    "        return self.size()\n",
    "\n",
    "    def size(self):\n",
    "        return len(self.items)\n",
    "\n",
    "\n",
    "class Node(object):\n",
    "    def __init__(self, value):\n",
    "        self.value = value\n",
    "        self.left = None\n",
    "        self.right = None\n",
    "\n",
    "\n",
    "class BinaryTree(object):\n",
    "    \n",
    "    def __init__(self, root):\n",
    "        self.root = Node(root)\n",
    "\n",
    "    def print_tree(self, traversal_type):\n",
    "        if traversal_type == \"preorder\":\n",
    "            return self.preorder_print(tree.root, \"\")\n",
    "        elif traversal_type == \"inorder\":\n",
    "            return self.inorder_print(tree.root, \"\")\n",
    "        elif traversal_type == \"postorder\":\n",
    "            return self.postorder_print(tree.root, \"\")\n",
    "        elif traversal_type == \"levelorder\":\n",
    "            return self.levelorder_print(tree.root)\n",
    "\n",
    "        else:\n",
    "            print(\"Traversal type \" + str(traversal_type) + \" is not supported.\")\n",
    "            return False\n",
    "\n",
    "    def preorder_print(self, start, traversal):\n",
    "        \"\"\"Root->Left->Right\"\"\"\n",
    "        if start:\n",
    "            traversal += (str(start.value) + \"-\")\n",
    "            traversal = self.preorder_print(start.left, traversal)\n",
    "            traversal = self.preorder_print(start.right, traversal)\n",
    "        return traversal\n",
    "\n",
    "    def inorder_print(self, start, traversal):\n",
    "        \"\"\"Left->Root->Right\"\"\"\n",
    "        if start:\n",
    "            traversal = self.inorder_print(start.left, traversal)\n",
    "            traversal += (str(start.value) + \"-\")\n",
    "            traversal = self.inorder_print(start.right, traversal)\n",
    "        return traversal\n",
    "\n",
    "    def postorder_print(self, start, traversal):\n",
    "        \"\"\"Left->Right->Root\"\"\"\n",
    "        if start:\n",
    "            traversal = self.inorder_print(start.left, traversal)\n",
    "            traversal = self.inorder_print(start.right, traversal)\n",
    "            traversal += (str(start.value) + \"-\")\n",
    "        return traversal\n",
    "\n",
    "    def levelorder_print(self, start):\n",
    "        if start is None:\n",
    "            return \n",
    "\n",
    "        queue = Queue()\n",
    "        queue.enqueue(start)\n",
    "\n",
    "        traversal = \"\"\n",
    "        while len(queue) > 0:\n",
    "            traversal += str(queue.peek()) + \"-\"\n",
    "            node = queue.dequeue()\n",
    "\n",
    "            if node.left:\n",
    "                queue.enqueue(node.left)\n",
    "            if node.right:\n",
    "                queue.enqueue(node.right)\n",
    "\n",
    "        return traversal\n",
    "    \n",
    "    # Reverse Level order \n",
    "    def reverse_levelorder_print(self, start):\n",
    "        \n",
    "        if start is None:\n",
    "            return\n",
    "        queue = Queue()\n",
    "        stack = Stack()\n",
    "        queue.enqueue(start)\n",
    "        \n",
    "        traversal = \"\"\n",
    "        while len(queue) > 0:\n",
    "            node = queue.dequeue()\n",
    "            stack.push(node)\n",
    "            \n",
    "            if node.right:\n",
    "                queue.enqueue(node.right)\n",
    "            if node.left:\n",
    "                queue.enqueue(node.left)\n",
    "                \n",
    "        while len(stack) > 0:\n",
    "            node = stack.pop()\n",
    "            traversal += str(node.value) + \"-\"\n",
    "            \n",
    "        return traversal\n",
    "    \n",
    "    \n",
    "    # Calculating the Height of a Binary Tree\n",
    "    def height(self, node):\n",
    "        if node is None:\n",
    "            return -1 \n",
    "        left_height = self.height(node.left)\n",
    "        right_height = self.height(node.right)\n",
    "        \n",
    "        return 1 + max(left_height, right_height)\n",
    "\n",
    "\n",
    "tree = BinaryTree(1)\n",
    "tree.root.left = Node(2)\n",
    "tree.root.right = Node(3)\n",
    "tree.root.left.left = Node(4)\n",
    "tree.root.left.right = Node(5)\n",
    "\n",
    "print(tree.print_tree(\"levelorder\"))"
   ]
  },
  {
   "cell_type": "code",
   "execution_count": 45,
   "metadata": {},
   "outputs": [],
   "source": [
    "class Node:\n",
    "    def __init__(self, val):\n",
    "        self.val = val\n",
    "        self.left = None\n",
    "        self.right = None\n",
    "    \n",
    "    def insert(self, val):\n",
    "        current = self\n",
    "        parent = None\n",
    "        \n",
    "        while current:\n",
    "            parent = current\n",
    "            if  val > current.val:\n",
    "                current = current.right\n",
    "            else:\n",
    "                current = current.left\n",
    "        \n",
    "        if parent is None:\n",
    "            parent = Node(val)\n",
    "        \n",
    "        elif val < parent.val:\n",
    "            parent.left= Node(val)\n",
    "        else:\n",
    "            parent.right = Node(val)\n",
    "            \n",
    "            \n",
    "            \n",
    "            "
   ]
  },
  {
   "cell_type": "code",
   "execution_count": 46,
   "metadata": {},
   "outputs": [],
   "source": [
    "class BST:\n",
    "    def __init__(self, val):\n",
    "        self.root = Node(val)\n",
    "        \n",
    "    def insert(self, val):\n",
    "        \n",
    "        if self.root:\n",
    "            return self.root.insert(val)\n",
    "        else:\n",
    "            self.root = Node(val)\n",
    "            return True"
   ]
  },
  {
   "cell_type": "code",
   "execution_count": 47,
   "metadata": {},
   "outputs": [],
   "source": [
    "lucky = BST(99)"
   ]
  },
  {
   "cell_type": "code",
   "execution_count": 48,
   "metadata": {},
   "outputs": [],
   "source": [
    "lucky.insert(55)\n",
    "lucky.insert(7)\n",
    "lucky.insert(101)\n",
    "lucky.insert(100)\n",
    "lucky.insert(102)\n",
    "lucky.insert(57)"
   ]
  },
  {
   "cell_type": "markdown",
   "metadata": {},
   "source": [
    "                  99\n",
    "                /    \\\n",
    "              55     101\n",
    "             /  \\    /  \\\n",
    "           7    57  100  102\n",
    "           \n",
    "           "
   ]
  },
  {
   "cell_type": "code",
   "execution_count": 64,
   "metadata": {},
   "outputs": [],
   "source": [
    "def preorder(root, x):\n",
    "    if root:\n",
    "        x.append(root.val)\n",
    "        x = preorder(root.left, x)\n",
    "        x = preorder(root.right, x)\n",
    "    return x\n",
    "        "
   ]
  },
  {
   "cell_type": "code",
   "execution_count": 65,
   "metadata": {},
   "outputs": [
    {
     "data": {
      "text/plain": [
       "[99, 55, 7, 57, 101, 100, 102]"
      ]
     },
     "execution_count": 65,
     "metadata": {},
     "output_type": "execute_result"
    }
   ],
   "source": [
    "x = []\n",
    "preorder(lucky.root, x)"
   ]
  },
  {
   "cell_type": "code",
   "execution_count": 67,
   "metadata": {},
   "outputs": [
    {
     "data": {
      "text/plain": [
       "[7, 55, 57, 99, 100, 101, 102]"
      ]
     },
     "execution_count": 67,
     "metadata": {},
     "output_type": "execute_result"
    }
   ],
   "source": [
    "def inorder(root, x):\n",
    "    if root:\n",
    "        x = inorder(root.left, x)\n",
    "        x.append(root.val)\n",
    "        x = inorder(root.right, x)\n",
    "    return x\n",
    "x = []\n",
    "inorder(lucky.root, x)"
   ]
  },
  {
   "cell_type": "code",
   "execution_count": 72,
   "metadata": {},
   "outputs": [
    {
     "name": "stdout",
     "output_type": "stream",
     "text": [
      "[7, 57, 55, 100, 102, 101, 99]\n"
     ]
    }
   ],
   "source": [
    "def post_order(root, x):\n",
    "    \"\"\"Left --> Right --> Root\"\"\"\n",
    "    if root:\n",
    "        x = post_order(root.left, x)\n",
    "        x = post_order(root.right, x)\n",
    "        x.append(root.val)\n",
    "    return x\n",
    "print(post_order(lucky.root,[]))\n"
   ]
  },
  {
   "cell_type": "code",
   "execution_count": 73,
   "metadata": {},
   "outputs": [
    {
     "name": "stdout",
     "output_type": "stream",
     "text": [
      "99\n",
      "55\n",
      "7\n",
      "57\n",
      "101\n",
      "100\n",
      "102\n"
     ]
    }
   ],
   "source": [
    "def preorder(root):\n",
    "    if root:\n",
    "        print(root.val)\n",
    "        preorder(root.left)\n",
    "        preorder(root.right)\n",
    "preorder(lucky.root)"
   ]
  },
  {
   "cell_type": "code",
   "execution_count": null,
   "metadata": {},
   "outputs": [],
   "source": []
  },
  {
   "cell_type": "code",
   "execution_count": null,
   "metadata": {},
   "outputs": [],
   "source": []
  },
  {
   "cell_type": "code",
   "execution_count": null,
   "metadata": {},
   "outputs": [],
   "source": []
  },
  {
   "cell_type": "code",
   "execution_count": null,
   "metadata": {},
   "outputs": [],
   "source": []
  },
  {
   "cell_type": "code",
   "execution_count": null,
   "metadata": {},
   "outputs": [],
   "source": []
  },
  {
   "cell_type": "code",
   "execution_count": null,
   "metadata": {},
   "outputs": [],
   "source": []
  },
  {
   "cell_type": "code",
   "execution_count": null,
   "metadata": {},
   "outputs": [],
   "source": []
  }
 ],
 "metadata": {
  "kernelspec": {
   "display_name": "Python 3",
   "language": "python",
   "name": "python3"
  },
  "language_info": {
   "codemirror_mode": {
    "name": "ipython",
    "version": 3
   },
   "file_extension": ".py",
   "mimetype": "text/x-python",
   "name": "python",
   "nbconvert_exporter": "python",
   "pygments_lexer": "ipython3",
   "version": "3.7.6"
  }
 },
 "nbformat": 4,
 "nbformat_minor": 4
}
