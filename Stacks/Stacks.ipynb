{
 "cells": [
  {
   "cell_type": "markdown",
   "metadata": {},
   "source": [
    "## Generate Binary Numbers from 1 to n using a Queue\n",
    "\n",
    "Problem Statement #\n",
    "Implement a function findBin(n) which will generate binary numbers from \n",
    "1\n",
    "1 till \n",
    "n\n",
    "n in the form of a string using a queue.\n",
    "Input #\n",
    "A positive integer \n",
    "n\n",
    "n\n",
    "\n",
    "Output #\n",
    "Returns binary numbers in the form of strings from 1 up to n\n",
    "\n"
   ]
  },
  {
   "cell_type": "code",
   "execution_count": 24,
   "metadata": {},
   "outputs": [],
   "source": [
    "def findBin(n):\n",
    "    if n <= 0:\n",
    "        return None\n",
    "    q = []\n",
    "    q.insert(0, \"1\")\n",
    "    result = []\n",
    "    \n",
    "    for i in range(n):\n",
    "        val = q.pop()\n",
    "        result.append(val)\n",
    "        q.insert(0, val + \"0\")\n",
    "        q.insert(0, val + \"1\")\n",
    "    \n",
    "    result = list(map(int, result))\n",
    "    return result\n",
    "    "
   ]
  },
  {
   "cell_type": "code",
   "execution_count": 25,
   "metadata": {},
   "outputs": [
    {
     "name": "stdout",
     "output_type": "stream",
     "text": [
      "[1, 10, 11, 100, 101, 110, 111, 1000, 1001, 1010]\n"
     ]
    }
   ],
   "source": [
    "print(findBin(10))"
   ]
  },
  {
   "cell_type": "markdown",
   "metadata": {},
   "source": [
    "### Reversing First k Elements of Queue"
   ]
  },
  {
   "cell_type": "code",
   "execution_count": 26,
   "metadata": {},
   "outputs": [],
   "source": [
    "def reverseK(queue, k):\n",
    "    if queue.isEmpty() is True or k > queue.size() or k < 0:\n",
    "        # Handling invalid input\n",
    "        return None\n",
    "\n",
    "    stack = myStack()\n",
    "    for i in range(k):\n",
    "        stack.push(queue.dequeue())\n",
    "\n",
    "    while stack.isEmpty() is False:\n",
    "        queue.enqueue(stack.pop())\n",
    "\n",
    "    size = queue.size()\n",
    "\n",
    "    for i in range(size - k):\n",
    "        queue.enqueue(queue.dequeue())\n",
    "\n",
    "    return queue\n"
   ]
  },
  {
   "cell_type": "markdown",
   "metadata": {},
   "source": [
    "## Sort Values in Stack:\n",
    "Implement a function called sortStack() which takes a stack and sorts all of its elements in ascending order such that when they are popped and printed, they come out in ascending order. So the element that was pushed last to the stack has to be the smallest."
   ]
  },
  {
   "cell_type": "code",
   "execution_count": 33,
   "metadata": {},
   "outputs": [],
   "source": [
    "def sortStack(s):\n",
    "    l = []\n",
    "    for i in range(len(s)):\n",
    "        l.append(s.pop())\n",
    "    l = sorted(l, reverse = True)\n",
    "    for i in range(len(l)):\n",
    "        s.append(l[i])\n",
    "    return s\n"
   ]
  },
  {
   "cell_type": "code",
   "execution_count": 34,
   "metadata": {},
   "outputs": [
    {
     "name": "stdout",
     "output_type": "stream",
     "text": [
      "[800, 33, 7, 6, 4, 3, 1]\n"
     ]
    }
   ],
   "source": [
    "p = [1,4,7,3,6,800,33]\n",
    "print(sortStack(p))"
   ]
  },
  {
   "cell_type": "code",
   "execution_count": 37,
   "metadata": {},
   "outputs": [],
   "source": [
    "# Solution #2: Using a Temporary Stack #\n",
    "def sortStack2(stack):\n",
    "    temp_stack = []\n",
    "    \n",
    "    while stack:\n",
    "        val = stack.pop()\n",
    "        \n",
    "        if len(temp_stack) == 0 or temp_stack[-1] <= val:\n",
    "            temp_stack.append(val)\n",
    "        else:\n",
    "            while temp_stack:\n",
    "                stack.append(temp_stack.pop())\n",
    "            temp_stack.append(val)\n",
    "            \n",
    "    while temp_stack:\n",
    "        stack.append(temp_stack.pop())\n",
    "    \n",
    "    return stack\n",
    "        "
   ]
  },
  {
   "cell_type": "code",
   "execution_count": 38,
   "metadata": {},
   "outputs": [
    {
     "name": "stdout",
     "output_type": "stream",
     "text": [
      "[800, 33, 7, 6, 4, 3, 1]\n"
     ]
    }
   ],
   "source": [
    "p = [1,4,7,3,6,800,33]\n",
    "print(sortStack2(p))"
   ]
  },
  {
   "cell_type": "markdown",
   "metadata": {},
   "source": [
    "## Evaluate postfix"
   ]
  },
  {
   "cell_type": "code",
   "execution_count": 42,
   "metadata": {},
   "outputs": [],
   "source": [
    "def evaluatePostFix(expression):\n",
    "    s = []\n",
    "    try:\n",
    "        for element in expression:\n",
    "            if element.isdigit():\n",
    "                s.append(element)\n",
    "            else:\n",
    "                right = s.pop()\n",
    "                left  = s.pop()\n",
    "                s.append(str(eval(left + element + right)))\n",
    "        return(int(float(s.pop())))\n",
    "    except TypeError:\n",
    "        print(\"Invalid sequence\")\n",
    "    "
   ]
  },
  {
   "cell_type": "code",
   "execution_count": 43,
   "metadata": {},
   "outputs": [
    {
     "name": "stdout",
     "output_type": "stream",
     "text": [
      "3\n"
     ]
    }
   ],
   "source": [
    "print(evaluatePostFix(\"921*-8-4+\")) # 3"
   ]
  },
  {
   "cell_type": "markdown",
   "metadata": {},
   "source": [
    "## Next Greater Element"
   ]
  },
  {
   "cell_type": "markdown",
   "metadata": {},
   "source": [
    "Implement __nextGreaterElement()__ function. For each element \n",
    "__i__ in a list, it finds the first element to its right which is greater than \n",
    "__i__ . For any element that such a value does not exist, the answer is -1. <br>\n",
    "\n",
    "Sample Input # <br>\n",
    "list = [4, 6, 3, 2, 8, 1] <br>\n",
    "result = [6, 8, 8, 8, -1, -1]<br>"
   ]
  },
  {
   "cell_type": "code",
   "execution_count": 55,
   "metadata": {},
   "outputs": [],
   "source": [
    "def nextGreaterElement(lst):\n",
    "    \n",
    "    result = [-1 for x in range(len(lst))] # set all the values equal to -1 \n",
    "    \n",
    "    for i in range(len(lst)):\n",
    "        \n",
    "        while stack and lst[stack[-1]] < lst[i]: # As long as there is a value in stack and lst[last_elementofstack] is less than list[i]\n",
    "            result[stack.pop()] = lst[i]\n",
    "            \n",
    "        stack.append(i)\n",
    "    return result"
   ]
  },
  {
   "cell_type": "code",
   "execution_count": 56,
   "metadata": {},
   "outputs": [
    {
     "name": "stdout",
     "output_type": "stream",
     "text": [
      "[6, 8, 8, 8, -1, -1]\n"
     ]
    }
   ],
   "source": [
    "x = [4, 6, 3, 2, 8, 1]\n",
    "print(nextGreaterElement(x))"
   ]
  },
  {
   "cell_type": "markdown",
   "metadata": {},
   "source": [
    "## Check Balanced Parentheses Using Stack"
   ]
  },
  {
   "cell_type": "code",
   "execution_count": 61,
   "metadata": {},
   "outputs": [],
   "source": [
    "def is_matched(p1, p2):\n",
    "    if p1 == \"(\" and p2 == \")\":\n",
    "        return True\n",
    "    elif p1 == \"[\" and p2 == \"]\":\n",
    "        return True\n",
    "    elif p1 == \"{\" and p2 == \"}\":\n",
    "        return True\n",
    "    else:\n",
    "        return False\n",
    "    \n",
    "def isBalanced(exp):\n",
    "    \n",
    "    stack = []\n",
    "    i = 0\n",
    "    is_balanced = True\n",
    "    \n",
    "    while i < len(exp) and is_balanced:\n",
    "        if exp[i] in \"([{\":\n",
    "            stack.append(exp[i])\n",
    "        else:\n",
    "            if len(stack) == 0:\n",
    "                is_balanced = False\n",
    "            else:\n",
    "                opening = stack.pop()\n",
    "                if not is_matched(opening, exp[i]):\n",
    "                    is_balanced = False\n",
    "        i += 1\n",
    "    if len(stack) == 0 and is_balanced:\n",
    "        return True\n",
    "    else:\n",
    "        return False"
   ]
  },
  {
   "cell_type": "code",
   "execution_count": 62,
   "metadata": {},
   "outputs": [
    {
     "data": {
      "text/plain": [
       "True"
      ]
     },
     "execution_count": 62,
     "metadata": {},
     "output_type": "execute_result"
    }
   ],
   "source": [
    "isBalanced('{[()]}')"
   ]
  },
  {
   "cell_type": "code",
   "execution_count": 63,
   "metadata": {},
   "outputs": [
    {
     "data": {
      "text/plain": [
       "False"
      ]
     },
     "execution_count": 63,
     "metadata": {},
     "output_type": "execute_result"
    }
   ],
   "source": [
    "isBalanced('[{(}]')"
   ]
  },
  {
   "cell_type": "code",
   "execution_count": null,
   "metadata": {},
   "outputs": [],
   "source": []
  },
  {
   "cell_type": "code",
   "execution_count": null,
   "metadata": {},
   "outputs": [],
   "source": []
  },
  {
   "cell_type": "code",
   "execution_count": null,
   "metadata": {},
   "outputs": [],
   "source": []
  },
  {
   "cell_type": "code",
   "execution_count": null,
   "metadata": {},
   "outputs": [],
   "source": []
  },
  {
   "cell_type": "code",
   "execution_count": null,
   "metadata": {},
   "outputs": [],
   "source": []
  },
  {
   "cell_type": "code",
   "execution_count": null,
   "metadata": {},
   "outputs": [],
   "source": []
  },
  {
   "cell_type": "code",
   "execution_count": null,
   "metadata": {},
   "outputs": [],
   "source": []
  }
 ],
 "metadata": {
  "kernelspec": {
   "display_name": "Python 3",
   "language": "python",
   "name": "python3"
  },
  "language_info": {
   "codemirror_mode": {
    "name": "ipython",
    "version": 3
   },
   "file_extension": ".py",
   "mimetype": "text/x-python",
   "name": "python",
   "nbconvert_exporter": "python",
   "pygments_lexer": "ipython3",
   "version": "3.7.6"
  }
 },
 "nbformat": 4,
 "nbformat_minor": 4
}
