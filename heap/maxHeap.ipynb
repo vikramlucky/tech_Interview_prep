{
 "cells": [
  {
   "cell_type": "code",
   "execution_count": 105,
   "metadata": {},
   "outputs": [],
   "source": [
    "# Mine \n",
    "class MaxHeap:\n",
    "    \n",
    "    def __init__(self):\n",
    "        self.heap = []\n",
    "       \n",
    "    def insert(self, val):\n",
    "        self.heap.append(val)\n",
    "        self.__percolateUp(len(self.heap) - 1)\n",
    "    \n",
    "    def getMax(self):\n",
    "        if self.heap:\n",
    "            return self.heap[0]\n",
    "        return None\n",
    "        \n",
    "    def remove_Max(self):\n",
    "        \n",
    "        if len(self.heap) > 1:\n",
    "            maximum_val = self.heap[0]\n",
    "            self.heap[0] = self.heap[-1]\n",
    "            del self.heap[-1]\n",
    "            self.__maxHeapify(0)\n",
    "            return maximum_val\n",
    "        \n",
    "        elif len(self.heap) == 1:\n",
    "            maximum_val = self.heap[0]\n",
    "            del self.heap[0]\n",
    "            return maximum_val\n",
    "        \n",
    "        else:\n",
    "            return None\n",
    "            \n",
    "    def __percolateUp(self, index):\n",
    " \n",
    "        parent = (index - 1) // 2\n",
    "        \n",
    "        if index <= 0:\n",
    "            return\n",
    "        \n",
    "        elif self.heap[parent] < self.heap[index]:\n",
    "            self.heap[parent], self.heap[index] = self.heap[index], self.heap[parent]\n",
    "            self.__percolateUp(parent)\n",
    "            \n",
    "    def __maxHeapify(self, index):\n",
    "        \n",
    "        left = (index * 2) + 1\n",
    "        right = (index * 2) + 2\n",
    "        largest = index\n",
    "        \n",
    "        if len(self.heap) > left and self.heap[largest] < self.heap[left]:\n",
    "            largest = left\n",
    "            \n",
    "        if len(self.heap) > right and self.heap[largest] < self.heap[right]:\n",
    "            largest = right\n",
    "            \n",
    "        if largest != index:\n",
    "            self.heap[largest], self.heap[index] = self.heap[index], self.heap[largest]\n",
    "            self.__maxHeapify(largest)\n",
    "     \n",
    "    def buildHeap(self, arr):\n",
    "        self.heap = arr\n",
    "        for i in range(len(arr) - 1, -1, -1):\n",
    "            self.__maxHeapify(i)\n",
    "            "
   ]
  },
  {
   "cell_type": "code",
   "execution_count": 106,
   "metadata": {},
   "outputs": [],
   "source": [
    "arr = [1,3,4,88,4,555,35,77,35,65,6,7]\n",
    "heap = MaxHeap()\n",
    "heap.buildHeap(arr)"
   ]
  },
  {
   "cell_type": "code",
   "execution_count": 110,
   "metadata": {},
   "outputs": [
    {
     "data": {
      "text/plain": [
       "77"
      ]
     },
     "execution_count": 110,
     "metadata": {},
     "output_type": "execute_result"
    }
   ],
   "source": [
    "heap.getMax()\n",
    "heap.remove_Max()\n",
    "heap.getMax()"
   ]
  },
  {
   "cell_type": "code",
   "execution_count": null,
   "metadata": {},
   "outputs": [],
   "source": []
  },
  {
   "cell_type": "code",
   "execution_count": null,
   "metadata": {},
   "outputs": [],
   "source": []
  }
 ],
 "metadata": {
  "kernelspec": {
   "display_name": "Python 3",
   "language": "python",
   "name": "python3"
  },
  "language_info": {
   "codemirror_mode": {
    "name": "ipython",
    "version": 3
   },
   "file_extension": ".py",
   "mimetype": "text/x-python",
   "name": "python",
   "nbconvert_exporter": "python",
   "pygments_lexer": "ipython3",
   "version": "3.7.6"
  }
 },
 "nbformat": 4,
 "nbformat_minor": 4
}
