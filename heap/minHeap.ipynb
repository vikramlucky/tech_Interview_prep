{
 "cells": [
  {
   "cell_type": "code",
   "execution_count": 7,
   "metadata": {},
   "outputs": [],
   "source": [
    "class MinHeap:\n",
    "    \n",
    "    def __init__(self):\n",
    "        self.heap = []\n",
    "        \n",
    "    def insert(self, val):\n",
    "        self.heap.append(val)\n",
    "        self.__percolateUp(len(self.heap)-1)\n",
    "    \n",
    "    def getMin(self):\n",
    "        if self.heap:\n",
    "            return self.heap[0]\n",
    "        return None\n",
    "    \n",
    "    def removeMin(self):\n",
    "        \n",
    "        if len(self.heap) > 1:\n",
    "            min = self.heap[0]\n",
    "            self.heap[0] = self.heap[-1]\n",
    "            self.__minHeapify(0)\n",
    "            del self.heap[-1]\n",
    "            return min\n",
    "            \n",
    "        elif len(self.heap) == 1:\n",
    "            min = self.heap[0]\n",
    "            del self.heap[0]\n",
    "            return min\n",
    "        \n",
    "        else:\n",
    "            return None\n",
    "    \n",
    "    def __percolateUp(self, index):\n",
    "        parent = index // 2\n",
    "        \n",
    "        if index <= 0:\n",
    "            return\n",
    "        elif self.heap[parent] > self.heap[index]:\n",
    "            self.heap[parent], self.heap[index] = self.heap[index], self.heap[parent]\n",
    "            self.__percolateUp(parent)\n",
    "            \n",
    "    def __minHeapify(self, index):\n",
    "        \n",
    "        left = (index * 2) + 1\n",
    "        right = (index * 2) + 2\n",
    "        smallest = index\n",
    "        \n",
    "        if len(self.heap) > left and self.heap[smallest] > self.heap[left]:\n",
    "            smallest = left\n",
    "        if len(self.heap) > right and self.heap[smallest] > self.heap[right]:\n",
    "            smallest = right\n",
    "            \n",
    "        if smallest != index:\n",
    "            self.heap[smallest], self.heap[index] = self.heap[index], self.heap[smallest]\n",
    "            self.__minHeapify(smallest)\n",
    "    \n",
    "    def buildHeap(self, arr):\n",
    "        self.heap = arr\n",
    "        for i in range(len(arr)-1, -1, -1):\n",
    "            self.__minHeapify(i)\n"
   ]
  },
  {
   "cell_type": "code",
   "execution_count": 8,
   "metadata": {},
   "outputs": [],
   "source": [
    "arr = [1,3,4,88,4,555,35,77,35,65,6,7]\n",
    "heap = MinHeap()\n",
    "heap.buildHeap(arr)"
   ]
  },
  {
   "cell_type": "code",
   "execution_count": 9,
   "metadata": {},
   "outputs": [
    {
     "name": "stdout",
     "output_type": "stream",
     "text": [
      "1\n",
      "1\n",
      "3\n"
     ]
    }
   ],
   "source": [
    "print(heap.getMin())\n",
    "print(heap.removeMin())\n",
    "print(heap.getMin())"
   ]
  },
  {
   "cell_type": "markdown",
   "metadata": {},
   "source": [
    "### Challenge 1: Convert Max-Heap to Min-Heap \n",
    "Given a Max-Heap convert it into a Min-Heap."
   ]
  },
  {
   "cell_type": "code",
   "execution_count": 20,
   "metadata": {},
   "outputs": [],
   "source": [
    "def minHeapify(heap, index):\n",
    "    left = (index * 2) + 1\n",
    "    right  = (index * 2) + 2\n",
    "    smallest = index\n",
    "    \n",
    "    if len(heap) > left and heap[left] < heap[smallest]:\n",
    "        smallest = left\n",
    "    if len(heap) > right and heap[right] < heap[smallest]:\n",
    "        smallest = right\n",
    "    if smallest != index:\n",
    "        heap[smallest], heap[index] = heap[index], heap[smallest]\n",
    "        minHeapify(heap, smallest)\n",
    "    return heap\n",
    "        \n",
    "def convertMax(heap):\n",
    "    for i in range(len(heap)//2, -1, -1):\n",
    "        minHeap = minHeapify(heap, i)\n",
    "    return minHeap\n",
    "# minHeapify function takes logn time and its called on n/2 nodes so overall runtime is nlogn"
   ]
  },
  {
   "cell_type": "code",
   "execution_count": 21,
   "metadata": {},
   "outputs": [
    {
     "name": "stdout",
     "output_type": "stream",
     "text": [
      "[-2, 1, 5, 9, 4, 6, 7]\n"
     ]
    }
   ],
   "source": [
    "maxHeap = [9,4,7,1,-2,6,5] \n",
    "print(convertMax(maxHeap))"
   ]
  },
  {
   "cell_type": "code",
   "execution_count": null,
   "metadata": {},
   "outputs": [],
   "source": []
  },
  {
   "cell_type": "code",
   "execution_count": null,
   "metadata": {},
   "outputs": [],
   "source": []
  },
  {
   "cell_type": "code",
   "execution_count": null,
   "metadata": {},
   "outputs": [],
   "source": []
  },
  {
   "cell_type": "code",
   "execution_count": null,
   "metadata": {},
   "outputs": [],
   "source": []
  },
  {
   "cell_type": "code",
   "execution_count": null,
   "metadata": {},
   "outputs": [],
   "source": []
  },
  {
   "cell_type": "code",
   "execution_count": null,
   "metadata": {},
   "outputs": [],
   "source": []
  },
  {
   "cell_type": "code",
   "execution_count": null,
   "metadata": {},
   "outputs": [],
   "source": []
  },
  {
   "cell_type": "code",
   "execution_count": null,
   "metadata": {},
   "outputs": [],
   "source": []
  },
  {
   "cell_type": "code",
   "execution_count": null,
   "metadata": {},
   "outputs": [],
   "source": []
  },
  {
   "cell_type": "code",
   "execution_count": null,
   "metadata": {},
   "outputs": [],
   "source": []
  }
 ],
 "metadata": {
  "kernelspec": {
   "display_name": "Python 3",
   "language": "python",
   "name": "python3"
  },
  "language_info": {
   "codemirror_mode": {
    "name": "ipython",
    "version": 3
   },
   "file_extension": ".py",
   "mimetype": "text/x-python",
   "name": "python",
   "nbconvert_exporter": "python",
   "pygments_lexer": "ipython3",
   "version": "3.7.6"
  }
 },
 "nbformat": 4,
 "nbformat_minor": 4
}
