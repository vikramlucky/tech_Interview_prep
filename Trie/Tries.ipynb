{
 "cells": [
  {
   "cell_type": "code",
   "execution_count": 4,
   "metadata": {},
   "outputs": [],
   "source": [
    "# Trie Inplementation using dictionary as child\n",
    "class TrieNode:\n",
    "    def __init__(self, char = \" \"):\n",
    "        self.char = char\n",
    "        self.is_end_word = False\n",
    "        self.children = {}\n",
    "    \n",
    "    def mark_as_lead(self):\n",
    "        self.is_end_word = True\n",
    "    \n",
    "    def unmark_as_lead(self):\n",
    "        self.is_end_word = False\n",
    "\n",
    "class Trie:\n",
    "    def __init__(self):\n",
    "        self.root = TrieNode()\n",
    "        self.count = 0\n",
    "        \n",
    "    def insert(self, key):\n",
    "        current_node = self.root\n",
    "        \n",
    "        for ch in key:\n",
    "            current_node.children[ch] = TrieNode()\n",
    "            current_node = current_node.children[ch]\n",
    "        current_node.mark_as_lead()\n",
    "        self.count += 1\n",
    "    \n",
    "    def search(self, word):\n",
    "        \n",
    "        cur_trie = self.root\n",
    "        for char in word:\n",
    "            if char not in cur_trie.children:\n",
    "                return False\n",
    "            cur_trie = cur_trie.children[char]\n",
    "        return cur_trie.is_end_word \n",
    "    \n",
    "    def starts_with(self, prefix):\n",
    "        current = self.root\n",
    "        for char in prefix:\n",
    "            if char not in current.children:\n",
    "                return False\n",
    "            current = current.children[char]\n",
    "            \n",
    "        if current is not None:\n",
    "            return True\n",
    "    "
   ]
  },
  {
   "cell_type": "code",
   "execution_count": 73,
   "metadata": {},
   "outputs": [],
   "source": [
    "keys = [\"the\", \"a\", \"there\", \"answer\", \"any\", \"by\", \"bye\", \"their\", \"abc\"]\n",
    "\n",
    "t = Trie()\n",
    "\n",
    "for word in keys:\n",
    "    t.insert(word)"
   ]
  },
  {
   "cell_type": "code",
   "execution_count": null,
   "metadata": {},
   "outputs": [],
   "source": []
  },
  {
   "cell_type": "code",
   "execution_count": 76,
   "metadata": {},
   "outputs": [],
   "source": [
    "def total_words(root):\n",
    "    result = 0\n",
    "    if root.is_end_word:\n",
    "        result += 1\n",
    "    \n",
    "    for k, v in root.children.items():\n",
    "        if root.children[k] is not None:\n",
    "            result += total_words(root.children[k])\n",
    "    return result"
   ]
  },
  {
   "cell_type": "code",
   "execution_count": 77,
   "metadata": {},
   "outputs": [
    {
     "name": "stdout",
     "output_type": "stream",
     "text": [
      "3\n"
     ]
    }
   ],
   "source": [
    "print(total_words(t.root))"
   ]
  },
  {
   "cell_type": "code",
   "execution_count": null,
   "metadata": {},
   "outputs": [],
   "source": []
  },
  {
   "cell_type": "markdown",
   "metadata": {},
   "source": [
    "Above implementatio of Trie is much simpler, it uses python dictionary to store childrens. Below we are using lists.\n"
   ]
  },
  {
   "cell_type": "code",
   "execution_count": 1,
   "metadata": {},
   "outputs": [],
   "source": [
    "class TrieNode:\n",
    "    def __init__(self, char = \" \"):\n",
    "        self.char = char\n",
    "        self.is_end_word = False # True if node represents the end word\n",
    "        self.children = [None] * 26\n",
    "    \n",
    "    def mark_as_leaf(self):\n",
    "        self.is_end_word = True\n",
    "        \n",
    "    def unmark_as_lear(self):\n",
    "        self.is_end_word = False\n",
    "        "
   ]
  },
  {
   "cell_type": "code",
   "execution_count": 3,
   "metadata": {},
   "outputs": [],
   "source": [
    "class Trie:\n",
    "    \n",
    "    def __init__(self):\n",
    "        self.root = TrieNode() # root node\n",
    "    \n",
    "    def get_index(self, character):\n",
    "        return ord(character) - ord('a')\n",
    "    \n",
    "    def insert(self, key):\n",
    "        '''\n",
    "        case 1: No Common prefix\n",
    "        case 2: Common prefix\n",
    "        case 3: word exists\n",
    "        \n",
    "        '''\n",
    "        \n",
    "        if key is None:\n",
    "            return\n",
    "        \n",
    "        key = key.lower()\n",
    "        index = 0 \n",
    "        current_node = self.root\n",
    "        \n",
    "        for level in range(len(key)):\n",
    "            index = self.get_index(key[level])\n",
    "            \n",
    "            if current_node.children[index] is None:\n",
    "                current_node.children[index] = TrieNode(key[level])\n",
    "                \n",
    "            current_node = current_node.children[index]\n",
    "            \n",
    "        current_node.mark_as_leaf()\n",
    "    \n",
    "    def search(self, key):\n",
    "        '''\n",
    "        case 1: Non-existent word\n",
    "        case 2: word exists as a substring\n",
    "        case 3: word exist\n",
    "        '''\n",
    "        if key is None:\n",
    "            return\n",
    "        \n",
    "        key = key.lower()\n",
    "        index = 0 \n",
    "        current_node = self.root\n",
    "        \n",
    "        for level in range(len(key)):\n",
    "            index = self.get_index(key[level])\n",
    "            \n",
    "            if current_node.children[index] is None:\n",
    "                return False\n",
    "            current_node = current_node.children[index]\n",
    "        \n",
    "        if current_node is not None and current_node.is_end_word:\n",
    "            return True\n",
    "        return False\n",
    "\n",
    "    \n",
    "    def has_no_children(self, current_node):\n",
    "        for i in range(len(current_node.children)):\n",
    "            if current_node.children[i] is not None:\n",
    "                return False\n",
    "        return True\n",
    "    # recursive function to delete given key\n",
    "    def delete_helper(self, key, current_node, length, level):\n",
    "        \n",
    "        deleted_self = False\n",
    "        \n",
    "        if current_node is None:\n",
    "            return deleted_self\n",
    "        \n",
    "        # Base case:\n",
    "        if level is length:\n",
    "            if self.has_no_children(current_node):\n",
    "                current_node = None\n",
    "                deleted_self = True\n",
    "            else:\n",
    "                current_node.unMarkAsLeaf()\n",
    "                deleted_self = False\n",
    "        else:\n",
    "            child_node = current_node.children[self.get_index(key[level])]\n",
    "            child_deleted = self.delete_helper(key, child_node, length, level + 1)\n",
    "            if child_deleted:\n",
    "                current_node.children[self.get_index(key[level])] = None\n",
    "            \n",
    "                if current_node.is_end_word:\n",
    "                    deleted_self = False\n",
    "                \n",
    "                elif self.has_no_children(current_node) is False:\n",
    "                    deleted_self = False\n",
    "                else:\n",
    "                    current_node = None\n",
    "                    deleted_selt = True\n",
    "            else:\n",
    "                deleted_self = False\n",
    "                \n",
    "        return deleted_self\n",
    "    \n",
    "    def delete(self, key):\n",
    "        if self.root is None and key is None:\n",
    "            return\n",
    "    \n",
    "        self.delete_helper(key, self.root, len(key), 0)\n",
    "                "
   ]
  },
  {
   "cell_type": "code",
   "execution_count": 40,
   "metadata": {},
   "outputs": [],
   "source": [
    "keys = [\"the\", \"a\", \"there\", \"answer\", \"any\", \"by\", \"bye\", \"their\", \"abc\"]\n",
    "\n",
    "t = Trie()\n",
    "\n",
    "for word in keys:\n",
    "    t.insert(word)"
   ]
  },
  {
   "cell_type": "code",
   "execution_count": 31,
   "metadata": {},
   "outputs": [],
   "source": [
    "t.delete('abc')"
   ]
  },
  {
   "cell_type": "markdown",
   "metadata": {},
   "source": [
    "## Challenge 1: Total Number of Words in a Trie"
   ]
  },
  {
   "cell_type": "code",
   "execution_count": 41,
   "metadata": {},
   "outputs": [],
   "source": [
    "def total_words(root):\n",
    "    result = 0\n",
    "    \n",
    "    if root.is_end_word:\n",
    "        result += 1\n",
    "    \n",
    "    for i in range(26):\n",
    "        if root.children[i] is not None:\n",
    "            result += total_words(root.children[i])\n",
    "    return result"
   ]
  },
  {
   "cell_type": "code",
   "execution_count": 42,
   "metadata": {},
   "outputs": [],
   "source": [
    "a = total_words(t.root)\n"
   ]
  },
  {
   "cell_type": "code",
   "execution_count": 43,
   "metadata": {},
   "outputs": [
    {
     "name": "stdout",
     "output_type": "stream",
     "text": [
      "9\n"
     ]
    }
   ],
   "source": [
    "print(a)"
   ]
  },
  {
   "cell_type": "code",
   "execution_count": 3,
   "metadata": {},
   "outputs": [],
   "source": [
    "def total_words(root):\n",
    "    result = 0\n",
    "    \n",
    "    if root.is_end_word:\n",
    "        result += 1\n",
    "    \n",
    "    for i in range(26):\n",
    "        if root.children[i] is not None:\n",
    "            result += total_words(root.children[i])        \n",
    "    return result"
   ]
  },
  {
   "cell_type": "code",
   "execution_count": 4,
   "metadata": {},
   "outputs": [
    {
     "name": "stdout",
     "output_type": "stream",
     "text": [
      "'the' inserted\n",
      "'a' inserted\n",
      "'there' inserted\n",
      "'answer' inserted\n",
      "'any' inserted\n",
      "'by' inserted\n",
      "'bye' inserted\n",
      "'their' inserted\n",
      "'abc' inserted\n",
      "9\n"
     ]
    }
   ],
   "source": [
    "keys = [\"the\", \"a\", \"there\", \"answer\", \"any\", \"by\", \"bye\", \"their\", \"abc\"]\n",
    "\n",
    "trie = Trie()\n",
    "\n",
    "for key in keys:\n",
    "    trie.insert(key)\n",
    "\n",
    "print(total_words(trie.root))\n"
   ]
  },
  {
   "cell_type": "markdown",
   "metadata": {},
   "source": [
    "## Challenge 2: Find all words stored in Trie\n"
   ]
  },
  {
   "cell_type": "code",
   "execution_count": 7,
   "metadata": {},
   "outputs": [],
   "source": [
    "def get_words(root, result, level, word):\n",
    "    \n",
    "    if root.is_end_word:\n",
    "        temp = \"\"\n",
    "        for x in range(level):\n",
    "            temp += word[x]\n",
    "        result.append(str(temp))\n",
    "    \n",
    "    for i in range(26):\n",
    "        if root.children[i]:\n",
    "            word[level] = chr(i + ord('a'))  # Add character for the level\n",
    "            get_words(root.children[i], result, level + 1, word)\n",
    "def find_words(root):\n",
    "    result = []\n",
    "    word = [None] * 20  # assuming max level is 20\n",
    "    get_words(root, result, 0, word)\n",
    "    return result"
   ]
  },
  {
   "cell_type": "code",
   "execution_count": 8,
   "metadata": {},
   "outputs": [
    {
     "name": "stdout",
     "output_type": "stream",
     "text": [
      "'the' inserted\n",
      "'a' inserted\n",
      "'there' inserted\n",
      "'answer' inserted\n",
      "'any' inserted\n",
      "'by' inserted\n",
      "'bye' inserted\n",
      "'their' inserted\n",
      "'abc' inserted\n",
      "['a', 'abc', 'answer', 'any', 'by', 'bye', 'the', 'their', 'there']\n"
     ]
    }
   ],
   "source": [
    "keys = [\"the\", \"a\", \"there\", \"answer\", \"any\", \"by\", \"bye\", \"their\", \"abc\"]\n",
    "t = Trie()\n",
    "for i in range(len(keys)):\n",
    "    t.insert(keys[i])\n",
    "lst = find_words(t.root)\n",
    "print(str(lst))"
   ]
  },
  {
   "cell_type": "markdown",
   "metadata": {},
   "source": [
    "## Challenge 3: Word Formation From a Dictionary Using Trie\n",
    "\n"
   ]
  },
  {
   "cell_type": "code",
   "execution_count": 10,
   "metadata": {},
   "outputs": [
    {
     "name": "stdout",
     "output_type": "stream",
     "text": [
      "'the' inserted\n",
      "'hello' inserted\n",
      "'there' inserted\n",
      "'answer' inserted\n",
      "'any' inserted\n",
      "'educative' inserted\n",
      "'world' inserted\n",
      "'their' inserted\n",
      "'abc' inserted\n",
      "True\n"
     ]
    }
   ],
   "source": [
    "def is_formation_possible(dct, word):\n",
    "\n",
    "    # Create Trie and insert dctionary elements in it\n",
    "    trie = Trie()\n",
    "    for x in range(len(dct)):\n",
    "        trie.insert(dct[x])\n",
    "\n",
    "    # Get Root\n",
    "    current_node = trie.root\n",
    "\n",
    "    # Iterate all the letters of the word\n",
    "    for i in range(len(word)):\n",
    "        # get index of the character from Trie\n",
    "        char = trie.get_index(word[i])\n",
    "\n",
    "        # if the prefix of word does not exist, word would not either\n",
    "        if current_node.children[char] is None:\n",
    "            return False\n",
    "\n",
    "        # if the substring of the word exists as a word in trie,\n",
    "        # check whether rest of the word also exists,\n",
    "        # if it does return true\n",
    "        elif current_node.children[char].is_end_word:\n",
    "            if trie.search(word[i+1:]):\n",
    "                return True\n",
    "        \n",
    "        current_node = current_node.children[char]\n",
    "    \n",
    "    return False\n",
    "\n",
    "keys = [\"the\", \"hello\", \"there\", \"answer\",\n",
    "        \"any\", \"educative\", \"world\", \"their\", \"abc\"]\n",
    "print(is_formation_possible(keys, \"educativethere\"))\n"
   ]
  },
  {
   "cell_type": "code",
   "execution_count": null,
   "metadata": {},
   "outputs": [],
   "source": []
  },
  {
   "cell_type": "code",
   "execution_count": null,
   "metadata": {},
   "outputs": [],
   "source": []
  },
  {
   "cell_type": "code",
   "execution_count": null,
   "metadata": {},
   "outputs": [],
   "source": []
  },
  {
   "cell_type": "code",
   "execution_count": null,
   "metadata": {},
   "outputs": [],
   "source": []
  }
 ],
 "metadata": {
  "kernelspec": {
   "display_name": "Python 3",
   "language": "python",
   "name": "python3"
  },
  "language_info": {
   "codemirror_mode": {
    "name": "ipython",
    "version": 3
   },
   "file_extension": ".py",
   "mimetype": "text/x-python",
   "name": "python",
   "nbconvert_exporter": "python",
   "pygments_lexer": "ipython3",
   "version": "3.7.6"
  }
 },
 "nbformat": 4,
 "nbformat_minor": 4
}
