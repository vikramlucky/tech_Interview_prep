{
 "cells": [
  {
   "cell_type": "markdown",
   "metadata": {},
   "source": [
    "### 125. Valid Palindrome"
   ]
  },
  {
   "cell_type": "code",
   "execution_count": 45,
   "metadata": {},
   "outputs": [],
   "source": [
    "\n",
    "def isPalindrome(s):\n",
    "\n",
    "    s = \"\".join([i.lower() for i in s if i.isalnum()])\n",
    "\n",
    "    if len(s) % 2:\n",
    "        left = len(s) // 2 -1\n",
    "        right = len(s)//2 + 1\n",
    "\n",
    "    else:\n",
    "        left = len(s)//2 -1\n",
    "        right = len(s) // 2 \n",
    "\n",
    "\n",
    "\n",
    "    while left >= 0 and right < len(s):\n",
    "        if s[left] != s[right]:\n",
    "            return False\n",
    "\n",
    "        left -= 1\n",
    "        right += 1\n",
    "\n",
    "    return True"
   ]
  },
  {
   "cell_type": "code",
   "execution_count": 48,
   "metadata": {},
   "outputs": [
    {
     "name": "stdout",
     "output_type": "stream",
     "text": [
      "True\n",
      "False\n"
     ]
    }
   ],
   "source": [
    "s = \"A man, a plan, a canal: Panama\" # True\n",
    "print(isPalindrome(s)) # True\n",
    "i = \"abcd\"\n",
    "print(isPalindrome(i)) # False\n"
   ]
  },
  {
   "cell_type": "markdown",
   "metadata": {},
   "source": [
    "### Caesar Cipher Encryptor\n"
   ]
  },
  {
   "cell_type": "code",
   "execution_count": 86,
   "metadata": {},
   "outputs": [],
   "source": [
    "\n",
    "# Complete the caesarCipher function below.\n",
    "def caesarCipher(s, k):\n",
    "    new_string = \"\"\n",
    "    for char in s:\n",
    "        if char.isalnum():\n",
    "            asc_val = ord(char) + k\n",
    "            char = chr(asc_val) if asc_val <= 122 else chr(asc_val - 26)\n",
    "        new_string += char\n",
    "    return new_string\n",
    "\n"
   ]
  },
  {
   "cell_type": "code",
   "execution_count": 87,
   "metadata": {},
   "outputs": [
    {
     "name": "stdout",
     "output_type": "stream",
     "text": [
      "okffng-Qwvb\n"
     ]
    }
   ],
   "source": [
    "test1 = \"middle-Outz\"\n",
    "k1 = 2\n",
    "# expecte => okffng-Qwvb\n",
    "print(caesarCipher(test1, k1))"
   ]
  },
  {
   "cell_type": "code",
   "execution_count": 88,
   "metadata": {},
   "outputs": [
    {
     "name": "stdout",
     "output_type": "stream",
     "text": [
      "Fqbfdx-Qttp-ts-ymj-Gwnlmy-Xnij-tk-Qnkj\n"
     ]
    }
   ],
   "source": [
    "test2 = \"Always-Look-on-the-Bright-Side-of-Life\"\n",
    "k2 = 5\n",
    "# expected => Fqbfdx-Qttp-ts-ymj-Gwnlmy-Xnij-tk-Qnkj\n",
    "print(caesarCipher(test2, k2))"
   ]
  },
  {
   "cell_type": "markdown",
   "metadata": {},
   "source": [
    "### 5. Longest Palindromic Substring"
   ]
  },
  {
   "cell_type": "code",
   "execution_count": 95,
   "metadata": {},
   "outputs": [],
   "source": [
    "# O(n^2) and O(1) space\n",
    "\n",
    "def longestPalindrome(s):\n",
    "\n",
    "    currentLongest = [0,1]\n",
    "\n",
    "    for i in range(1, len(s)):\n",
    "\n",
    "        odd = getLongest(s, i-1, i + 1)\n",
    "        even = getLongest(s, i-1, i)\n",
    "\n",
    "        longest = max(odd, even, key = lambda x: x[1] - x[0])\n",
    "        currentLongest = max(currentLongest, longest, key = lambda x: x[1] - x[0])\n",
    "\n",
    "    return(s[currentLongest[0]: currentLongest[1]])\n",
    "\n",
    "def getLongest(s, startIdx, endIdx):\n",
    "\n",
    "    while startIdx >= 0 and endIdx < len(s):\n",
    "        if s[startIdx] != s[endIdx]:\n",
    "            break\n",
    "\n",
    "        startIdx -= 1\n",
    "        endIdx += 1\n",
    "    return(startIdx + 1, endIdx)\n",
    "        "
   ]
  },
  {
   "cell_type": "code",
   "execution_count": 97,
   "metadata": {},
   "outputs": [
    {
     "name": "stdout",
     "output_type": "stream",
     "text": [
      "bb\n"
     ]
    }
   ],
   "source": [
    "x = \"cbbd\" #bb\n",
    "print(longestPalindrome(x))"
   ]
  },
  {
   "cell_type": "code",
   "execution_count": null,
   "metadata": {},
   "outputs": [],
   "source": []
  }
 ],
 "metadata": {
  "kernelspec": {
   "display_name": "Python 3",
   "language": "python",
   "name": "python3"
  },
  "language_info": {
   "codemirror_mode": {
    "name": "ipython",
    "version": 3
   },
   "file_extension": ".py",
   "mimetype": "text/x-python",
   "name": "python",
   "nbconvert_exporter": "python",
   "pygments_lexer": "ipython3",
   "version": "3.7.6"
  }
 },
 "nbformat": 4,
 "nbformat_minor": 4
}
