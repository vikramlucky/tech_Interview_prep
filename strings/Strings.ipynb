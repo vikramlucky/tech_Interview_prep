{
 "cells": [
  {
   "cell_type": "markdown",
   "metadata": {},
   "source": [
    "### 125. Valid Palindrome"
   ]
  },
  {
   "cell_type": "code",
   "execution_count": 45,
   "metadata": {},
   "outputs": [],
   "source": [
    "\n",
    "def isPalindrome(s):\n",
    "\n",
    "    s = \"\".join([i.lower() for i in s if i.isalnum()])\n",
    "\n",
    "    if len(s) % 2:\n",
    "        left = len(s) // 2 -1\n",
    "        right = len(s)//2 + 1\n",
    "\n",
    "    else:\n",
    "        left = len(s)//2 -1\n",
    "        right = len(s) // 2 \n",
    "\n",
    "\n",
    "\n",
    "    while left >= 0 and right < len(s):\n",
    "        if s[left] != s[right]:\n",
    "            return False\n",
    "\n",
    "        left -= 1\n",
    "        right += 1\n",
    "\n",
    "    return True"
   ]
  },
  {
   "cell_type": "code",
   "execution_count": 48,
   "metadata": {},
   "outputs": [
    {
     "name": "stdout",
     "output_type": "stream",
     "text": [
      "True\n",
      "False\n"
     ]
    }
   ],
   "source": [
    "s = \"A man, a plan, a canal: Panama\" # True\n",
    "print(isPalindrome(s)) # True\n",
    "i = \"abcd\"\n",
    "print(isPalindrome(i)) # False\n"
   ]
  },
  {
   "cell_type": "markdown",
   "metadata": {},
   "source": [
    "### Caesar Cipher Encryptor\n"
   ]
  },
  {
   "cell_type": "code",
   "execution_count": 86,
   "metadata": {},
   "outputs": [],
   "source": [
    "\n",
    "# Complete the caesarCipher function below.\n",
    "def caesarCipher(s, k):\n",
    "    new_string = \"\"\n",
    "    for char in s:\n",
    "        if char.isalnum():\n",
    "            asc_val = ord(char) + k\n",
    "            char = chr(asc_val) if asc_val <= 122 else chr(asc_val - 26)\n",
    "        new_string += char\n",
    "    return new_string\n",
    "\n"
   ]
  },
  {
   "cell_type": "code",
   "execution_count": 87,
   "metadata": {},
   "outputs": [
    {
     "name": "stdout",
     "output_type": "stream",
     "text": [
      "okffng-Qwvb\n"
     ]
    }
   ],
   "source": [
    "test1 = \"middle-Outz\"\n",
    "k1 = 2\n",
    "# expecte => okffng-Qwvb\n",
    "print(caesarCipher(test1, k1))"
   ]
  },
  {
   "cell_type": "code",
   "execution_count": 88,
   "metadata": {},
   "outputs": [
    {
     "name": "stdout",
     "output_type": "stream",
     "text": [
      "Fqbfdx-Qttp-ts-ymj-Gwnlmy-Xnij-tk-Qnkj\n"
     ]
    }
   ],
   "source": [
    "test2 = \"Always-Look-on-the-Bright-Side-of-Life\"\n",
    "k2 = 5\n",
    "# expected => Fqbfdx-Qttp-ts-ymj-Gwnlmy-Xnij-tk-Qnkj\n",
    "print(caesarCipher(test2, k2))"
   ]
  },
  {
   "cell_type": "markdown",
   "metadata": {},
   "source": [
    "### 5. Longest Palindromic Substring"
   ]
  },
  {
   "cell_type": "code",
   "execution_count": 95,
   "metadata": {},
   "outputs": [],
   "source": [
    "# O(n^2) and O(1) space\n",
    "\n",
    "def longestPalindrome(s):\n",
    "\n",
    "    currentLongest = [0,1]\n",
    "\n",
    "    for i in range(1, len(s)):\n",
    "\n",
    "        odd = getLongest(s, i-1, i + 1)\n",
    "        even = getLongest(s, i-1, i)\n",
    "\n",
    "        longest = max(odd, even, key = lambda x: x[1] - x[0])\n",
    "        currentLongest = max(currentLongest, longest, key = lambda x: x[1] - x[0])\n",
    "\n",
    "    return(s[currentLongest[0]: currentLongest[1]])\n",
    "\n",
    "def getLongest(s, startIdx, endIdx):\n",
    "\n",
    "    while startIdx >= 0 and endIdx < len(s):\n",
    "        if s[startIdx] != s[endIdx]:\n",
    "            break\n",
    "\n",
    "        startIdx -= 1\n",
    "        endIdx += 1\n",
    "    return(startIdx + 1, endIdx)\n",
    "        "
   ]
  },
  {
   "cell_type": "markdown",
   "metadata": {},
   "source": [
    "### 127. Word Ladder"
   ]
  },
  {
   "cell_type": "code",
   "execution_count": 17,
   "metadata": {},
   "outputs": [
    {
     "name": "stdout",
     "output_type": "stream",
     "text": [
      "['hot', 'hot', 'dot', 'lot', 'hot', 'dot', 'dot', 'dog', 'lot', 'lot', 'log', 'dog', 'log', 'cog']\n",
      "['hot', 'hot', 'dot', 'lot', 'hot', 'dot', 'dot', 'dog', 'lot', 'lot', 'log', 'dog', 'log', 'cog', 'dog', 'log', 'cog']\n",
      "['hot', 'hot', 'dot', 'lot', 'hot', 'dot', 'dot', 'dog', 'lot', 'lot', 'log', 'dog', 'log', 'cog', 'dog', 'log', 'cog', 'cog']\n",
      "0\n"
     ]
    }
   ],
   "source": [
    "import collections\n",
    "\n",
    "beginWord = \"hit\"\n",
    "endWord = \"cog\"\n",
    "wordList = [\"hot\",\"dot\",\"dog\",\"lot\",\"log\",\"cog\"]\n",
    "L = len(beginWord)\n",
    "\n",
    "# Dictionary to hold combination of words that can be formed,\n",
    "# from any given word. By changing one letter at a time.\n",
    "all_combo_dict = collections.defaultdict(list)\n",
    "for word in wordList:\n",
    "    for i in range(L):\n",
    "    # Key is the generic word\n",
    "    # Value is a list of words which have the same intermediate generic word.\n",
    "        all_combo_dict[word[:i] + \"*\" + word[i+1:]].append(word)\n",
    "        \n",
    "q = collections.deque([(beginWord, 1)])\n",
    "visited = {beginWord : True}\n",
    "result = []\n",
    "while q:    \n",
    "    currentWord, level = q.popleft()\n",
    "    \n",
    "    for i in range(L):\n",
    "        \n",
    "        interMediateWord = currentWord[:i] + '*' + currentWord[i + 1:]\n",
    "        \n",
    "        for word in all_combo_dict[interMediateWord]:\n",
    "            if word == endWord:\n",
    "                print(result)\n",
    "            if word not in visited:\n",
    "                visited[word] = True\n",
    "                q.append((word, level + 1))\n",
    "                \n",
    "        all_combo_dict[interMediateWord] = []\n",
    "print(0)\n",
    "        \n",
    "    "
   ]
  },
  {
   "cell_type": "code",
   "execution_count": 7,
   "metadata": {},
   "outputs": [
    {
     "name": "stdout",
     "output_type": "stream",
     "text": [
      "*ot ['hot', 'dot', 'lot']\n",
      "h*t ['hot']\n",
      "ho* ['hot']\n",
      "d*t ['dot']\n",
      "do* ['dot', 'dog']\n",
      "*og ['dog', 'log', 'cog']\n",
      "d*g ['dog']\n",
      "l*t ['lot']\n",
      "lo* ['lot', 'log']\n",
      "l*g ['log']\n",
      "c*g ['cog']\n",
      "co* ['cog']\n"
     ]
    }
   ],
   "source": [
    "for k,v in all_combo_dict.items():\n",
    "    print(k ,v)"
   ]
  },
  {
   "cell_type": "markdown",
   "metadata": {},
   "source": [
    "### 1003. Check If Word Is Valid After Substitutions"
   ]
  },
  {
   "cell_type": "code",
   "execution_count": 1,
   "metadata": {},
   "outputs": [],
   "source": [
    "def isValid(S):\n",
    "\n",
    "    stack = []\n",
    "\n",
    "    for char in S:\n",
    "        stack.append(char)\n",
    "\n",
    "        while len(stack) >= 3 and stack[-1] == 'c' and stack[-2] == 'b' and stack[-3] == 'a':\n",
    "            stack.pop()\n",
    "            stack.pop()\n",
    "            stack.pop()\n",
    "\n",
    "    return len(stack) == 0"
   ]
  },
  {
   "cell_type": "code",
   "execution_count": 3,
   "metadata": {},
   "outputs": [
    {
     "name": "stdout",
     "output_type": "stream",
     "text": [
      "True\n"
     ]
    }
   ],
   "source": [
    "print(isValid(\"aabcbc\"))# True"
   ]
  },
  {
   "cell_type": "code",
   "execution_count": 4,
   "metadata": {},
   "outputs": [
    {
     "name": "stdout",
     "output_type": "stream",
     "text": [
      "False\n"
     ]
    }
   ],
   "source": [
    "print(isValid(\"abccba\")) # False"
   ]
  },
  {
   "cell_type": "markdown",
   "metadata": {},
   "source": [
    "### 647. Palindromic Substrings"
   ]
  },
  {
   "cell_type": "code",
   "execution_count": 5,
   "metadata": {},
   "outputs": [],
   "source": [
    "class Solution:\n",
    "    def countSubstrings(self, s: str) -> int:\n",
    "        \n",
    "        if not s:\n",
    "            return 0\n",
    "        \n",
    "        count = len(s)\n",
    "        \n",
    "        for i in range(len(s)):\n",
    "            \n",
    "            left = i-1\n",
    "            right = i + 1\n",
    "            \n",
    "            while left >= 0 and right < len(s):\n",
    "            \n",
    "                if s[left] == s[right]:\n",
    "                    count += 1\n",
    "            \n",
    "                else:\n",
    "                    break\n",
    "            \n",
    "                left -= 1\n",
    "                right += 1\n",
    "        \n",
    "        for i in range(1,len(s)):\n",
    "            \n",
    "            left = i - 1\n",
    "            right  = i\n",
    "            \n",
    "            while left >= 0 and right < len(s):\n",
    "                if s[left] == s[right]:\n",
    "                    count += 1\n",
    "                \n",
    "                else:\n",
    "                    break\n",
    "            \n",
    "                left -= 1\n",
    "                right += 1\n",
    "        \n",
    "        return count"
   ]
  },
  {
   "cell_type": "markdown",
   "metadata": {},
   "source": [
    "### AlgoExpet smallestSubstringContaining"
   ]
  },
  {
   "cell_type": "code",
   "execution_count": null,
   "metadata": {},
   "outputs": [],
   "source": [
    "def smallestSubstringContaining(bigString, smallString):\n",
    "    # Write your code here.\n",
    "\tsmallStringDictionary = {}\n",
    "    for char in smallString:\n",
    "\t\tif char in smallStringDictionary:\n",
    "\t\t\tsmallStringDictionary[char] += 1\n",
    "\t\telse:\n",
    "\t\t\tsmallStringDictionary[char] = 1\n",
    "\t\t\t\n",
    "\tsmallStringUnique = len(smallStringDictionary.keys())\n",
    "\t\n",
    "\tbigStringHash = {}\n",
    "\tsubStringUnique = 0\n",
    "\t\n",
    "\tl = r = 0\n",
    "\twindow = [0, float(\"inf\")]\n",
    "\t\t\t\t\t\t\t\n",
    "\twhile r < len(bigString):\n",
    "\t\t\n",
    "\t\tif bigString[r] not in smallStringDictionary:\n",
    "\t\t\tr += 1\n",
    "\t\t\tcontinue\n",
    "\t\n",
    "\t\tif bigString[r] in bigStringHash:\n",
    "\t\t\tbigStringHash[bigString[r]] += 1\n",
    "\t\telse:\n",
    "\t\t\tbigStringHash[bigString[r]] = 1\n",
    "\t\t\t\n",
    "\t\tif bigStringHash[bigString[r]] == smallStringDictionary[bigString[r]]:\n",
    "\t\t\tsubStringUnique += 1\n",
    "\t\t\t\n",
    "\t\t\n",
    "\t\twhile subStringUnique == smallStringUnique and l <= len(bigString):\n",
    "\t\t\twindow = [window[0],window[1]] if window[1] - window[0] < r - l else [l,r]\n",
    "\t\t\t\n",
    "\t\t\tif bigString[l] not in smallStringDictionary:\n",
    "\t\t\t\tl += 1\n",
    "\t\t\t\tcontinue\n",
    "\t\t\t\n",
    "\t\t\tif bigStringHash[bigString[l]] == smallStringDictionary[bigString[l]]:\n",
    "\t\t\t\tsubStringUnique -= 1\n",
    "\t\t\tbigStringHash[bigString[l]] -= 1\n",
    "\t\t\tl += 1\n",
    "\t\tr += 1\n",
    "\t\n",
    "\tif window[1] == float(\"inf\"):\n",
    "\t\treturn \"\"\n",
    "\telse:\n",
    "\t\treturn(bigString[window[0]:window[1]+1])\n",
    "\t\t\n",
    "\t\t\n",
    "\t\t\t"
   ]
  },
  {
   "cell_type": "code",
   "execution_count": null,
   "metadata": {},
   "outputs": [],
   "source": []
  }
 ],
 "metadata": {
  "kernelspec": {
   "display_name": "Python 3",
   "language": "python",
   "name": "python3"
  },
  "language_info": {
   "codemirror_mode": {
    "name": "ipython",
    "version": 3
   },
   "file_extension": ".py",
   "mimetype": "text/x-python",
   "name": "python",
   "nbconvert_exporter": "python",
   "pygments_lexer": "ipython3",
   "version": "3.7.6"
  }
 },
 "nbformat": 4,
 "nbformat_minor": 4
}
