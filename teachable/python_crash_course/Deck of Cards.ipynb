{
 "cells": [
  {
   "cell_type": "code",
   "execution_count": 112,
   "metadata": {},
   "outputs": [],
   "source": [
    "import random\n",
    "\n",
    "class Card:\n",
    "    \n",
    "    # Card constructor\n",
    "    \n",
    "    def __init__(self, suit, value):\n",
    "        self.suit = suit\n",
    "        self.value = value\n",
    "    \n",
    "    # Returns the suit of the card.\n",
    "    def suit(self):\n",
    "        return self.suit\n",
    "    \n",
    "    # Returns the value of the card.\n",
    "    def value(self):\n",
    "        return self.value"
   ]
  },
  {
   "cell_type": "code",
   "execution_count": 113,
   "metadata": {},
   "outputs": [
    {
     "data": {
      "text/plain": [
       "7"
      ]
     },
     "execution_count": 113,
     "metadata": {},
     "output_type": "execute_result"
    }
   ],
   "source": [
    "card = Card(\"DIAMONDS\",7)\n",
    "card.value"
   ]
  },
  {
   "cell_type": "code",
   "execution_count": 114,
   "metadata": {},
   "outputs": [],
   "source": [
    "class Deck():\n",
    "    \n",
    "    SUITS = [\"DIAMONDS\", \"SPADES\", \"HEARTS\", \"CLUBS\"]\n",
    "    VALUES = [\"ACE\", \"TWO\" , \"THREE\", \"FOUR\", \"FIVE\", \"SIX\", \"SEVEN\", \"EIGHT\", \"NINE\", \"TEN\", \"JACK\", \"QUEEN\", \"KING\"]\n",
    "    # Creates a sorted deck of playing cards. 13 values, 4 suits.\n",
    "    def __init__(self):\n",
    "        self.cards = []\n",
    "        self.build()\n",
    "    \n",
    "    def build(self):\n",
    "        for s in self.SUITS:\n",
    "            for v in self.VALUES:\n",
    "                self.cards.append(Card(s,v))\n",
    "    \n",
    "    # Returns the number of Cards in the Deck\n",
    "    def num_cards(self):\n",
    "        return(len(self.cards))\n",
    "    \n",
    "    # Shuffles the deck of cards.\n",
    "    def shuffle(self):\n",
    "        for i in range(len(self.cards) - 1, 0, -1):\n",
    "            r = random.randint(0, i)\n",
    "            self.cards[i], self.cards[r] = self.cards[r], self.cards[i]\n",
    "        \n",
    "    \n",
    "    # Returns the top Card in the deck, then puts it back.\n",
    "    def peek(self):\n",
    "        return(self.cards[-1].suit,self.cards[-1].value)\n",
    "    \n",
    "\n",
    "    \n",
    "    # Draws and returns the top card in the deck. The card should no longer be in the Deck.\n",
    "    def draw(self):\n",
    "        card = self.cards.pop()\n",
    "        print(\"Card \",card.suit, card.value, \"Removed from the stack.\")\n",
    "    \n",
    "    # Adds the input card to the deck. If the deck has more than 52 cards, do not add the card and raise an exception.\n",
    "    def add_card(self, card):\n",
    "        pass\n",
    "    \n",
    "    # Calling this function should print all the cards in the deck in their current order.\n",
    "    def print_deck(self):\n",
    "        for c in self.cards:\n",
    "            print(c.suit, c.value)"
   ]
  },
  {
   "cell_type": "code",
   "execution_count": 115,
   "metadata": {},
   "outputs": [],
   "source": [
    "lucky = Deck()"
   ]
  },
  {
   "cell_type": "code",
   "execution_count": 116,
   "metadata": {},
   "outputs": [
    {
     "data": {
      "text/plain": [
       "('CLUBS', 'KING')"
      ]
     },
     "execution_count": 116,
     "metadata": {},
     "output_type": "execute_result"
    }
   ],
   "source": [
    "lucky.peek()"
   ]
  },
  {
   "cell_type": "code",
   "execution_count": 117,
   "metadata": {},
   "outputs": [
    {
     "data": {
      "text/plain": [
       "52"
      ]
     },
     "execution_count": 117,
     "metadata": {},
     "output_type": "execute_result"
    }
   ],
   "source": [
    "lucky.num_cards()"
   ]
  },
  {
   "cell_type": "code",
   "execution_count": 118,
   "metadata": {},
   "outputs": [
    {
     "name": "stdout",
     "output_type": "stream",
     "text": [
      "Card  CLUBS KING Removed from the stack.\n"
     ]
    }
   ],
   "source": [
    "lucky.draw()"
   ]
  },
  {
   "cell_type": "code",
   "execution_count": 119,
   "metadata": {},
   "outputs": [
    {
     "data": {
      "text/plain": [
       "51"
      ]
     },
     "execution_count": 119,
     "metadata": {},
     "output_type": "execute_result"
    }
   ],
   "source": [
    "lucky.num_cards()"
   ]
  },
  {
   "cell_type": "code",
   "execution_count": 120,
   "metadata": {},
   "outputs": [
    {
     "name": "stdout",
     "output_type": "stream",
     "text": [
      "DIAMONDS ACE\n",
      "DIAMONDS TWO\n",
      "DIAMONDS THREE\n",
      "DIAMONDS FOUR\n",
      "DIAMONDS FIVE\n",
      "DIAMONDS SIX\n",
      "DIAMONDS SEVEN\n",
      "DIAMONDS EIGHT\n",
      "DIAMONDS NINE\n",
      "DIAMONDS TEN\n",
      "DIAMONDS JACK\n",
      "DIAMONDS QUEEN\n",
      "DIAMONDS KING\n",
      "SPADES ACE\n",
      "SPADES TWO\n",
      "SPADES THREE\n",
      "SPADES FOUR\n",
      "SPADES FIVE\n",
      "SPADES SIX\n",
      "SPADES SEVEN\n",
      "SPADES EIGHT\n",
      "SPADES NINE\n",
      "SPADES TEN\n",
      "SPADES JACK\n",
      "SPADES QUEEN\n",
      "SPADES KING\n",
      "HEARTS ACE\n",
      "HEARTS TWO\n",
      "HEARTS THREE\n",
      "HEARTS FOUR\n",
      "HEARTS FIVE\n",
      "HEARTS SIX\n",
      "HEARTS SEVEN\n",
      "HEARTS EIGHT\n",
      "HEARTS NINE\n",
      "HEARTS TEN\n",
      "HEARTS JACK\n",
      "HEARTS QUEEN\n",
      "HEARTS KING\n",
      "CLUBS ACE\n",
      "CLUBS TWO\n",
      "CLUBS THREE\n",
      "CLUBS FOUR\n",
      "CLUBS FIVE\n",
      "CLUBS SIX\n",
      "CLUBS SEVEN\n",
      "CLUBS EIGHT\n",
      "CLUBS NINE\n",
      "CLUBS TEN\n",
      "CLUBS JACK\n",
      "CLUBS QUEEN\n"
     ]
    }
   ],
   "source": [
    "lucky.print_deck()"
   ]
  },
  {
   "cell_type": "markdown",
   "metadata": {},
   "source": [
    "add card and shuffle function missings"
   ]
  },
  {
   "cell_type": "code",
   "execution_count": 121,
   "metadata": {},
   "outputs": [],
   "source": [
    "lucky.shuffle()"
   ]
  },
  {
   "cell_type": "code",
   "execution_count": 122,
   "metadata": {},
   "outputs": [
    {
     "name": "stdout",
     "output_type": "stream",
     "text": [
      "HEARTS QUEEN\n",
      "HEARTS KING\n",
      "HEARTS TEN\n",
      "DIAMONDS SEVEN\n",
      "CLUBS NINE\n",
      "CLUBS ACE\n",
      "CLUBS JACK\n",
      "HEARTS JACK\n",
      "SPADES SIX\n",
      "HEARTS FIVE\n",
      "SPADES EIGHT\n",
      "DIAMONDS FOUR\n",
      "SPADES JACK\n",
      "DIAMONDS SIX\n",
      "CLUBS QUEEN\n",
      "DIAMONDS JACK\n",
      "SPADES FIVE\n",
      "SPADES NINE\n",
      "DIAMONDS THREE\n",
      "DIAMONDS TEN\n",
      "DIAMONDS FIVE\n",
      "CLUBS THREE\n",
      "HEARTS FOUR\n",
      "HEARTS ACE\n",
      "DIAMONDS EIGHT\n",
      "SPADES QUEEN\n",
      "CLUBS FIVE\n",
      "CLUBS TWO\n",
      "DIAMONDS NINE\n",
      "CLUBS TEN\n",
      "SPADES SEVEN\n",
      "HEARTS SIX\n",
      "SPADES TWO\n",
      "HEARTS TWO\n",
      "SPADES FOUR\n",
      "CLUBS FOUR\n",
      "DIAMONDS KING\n",
      "HEARTS NINE\n",
      "CLUBS SIX\n",
      "SPADES ACE\n",
      "HEARTS SEVEN\n",
      "CLUBS SEVEN\n",
      "SPADES TEN\n",
      "DIAMONDS QUEEN\n",
      "HEARTS EIGHT\n",
      "SPADES THREE\n",
      "SPADES KING\n",
      "DIAMONDS ACE\n",
      "CLUBS EIGHT\n",
      "DIAMONDS TWO\n",
      "HEARTS THREE\n"
     ]
    }
   ],
   "source": [
    "lucky.print_deck()"
   ]
  },
  {
   "cell_type": "code",
   "execution_count": null,
   "metadata": {},
   "outputs": [],
   "source": []
  },
  {
   "cell_type": "code",
   "execution_count": null,
   "metadata": {},
   "outputs": [],
   "source": []
  }
 ],
 "metadata": {
  "kernelspec": {
   "display_name": "Python 3",
   "language": "python",
   "name": "python3"
  },
  "language_info": {
   "codemirror_mode": {
    "name": "ipython",
    "version": 3
   },
   "file_extension": ".py",
   "mimetype": "text/x-python",
   "name": "python",
   "nbconvert_exporter": "python",
   "pygments_lexer": "ipython3",
   "version": "3.7.6"
  }
 },
 "nbformat": 4,
 "nbformat_minor": 4
}
