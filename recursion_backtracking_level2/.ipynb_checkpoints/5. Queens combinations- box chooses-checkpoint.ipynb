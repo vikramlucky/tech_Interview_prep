{
 "cells": [
  {
   "cell_type": "markdown",
   "metadata": {},
   "source": [
    "Queens Combinations - 2d As 2d - Box Chooses\n",
    "\n",
    "Medium   Prev   Next\n",
    "1. You are given a number n, representing the size of a n * n chess board.\n",
    "2. You are required to calculate and print the combinations in which n queens can be placed on the \n",
    "     n * n chess-board. \n",
    "\n",
    "Note -> Use the code snippet and follow the algorithm discussed in question video. The judge can't \n",
    "               force you but the intention is to teach a concept. Play in spirit of the question."
   ]
  },
  {
   "cell_type": "code",
   "execution_count": 7,
   "metadata": {},
   "outputs": [],
   "source": [
    "def queensCombinations(qpsf, tq, row, col, asf):\n",
    "    \n",
    "    if row == tq: # row will be starting from 0 index, so if row equals tq that mean we out of bound\n",
    "        if qpsf == tq: # Check if number of queens places is equal to desired number of queens\n",
    "            print(asf)\n",
    "        return\n",
    "    \n",
    "    # Yes Cal\n",
    "    if col + 1 < tq:\n",
    "        queensCombinations(qpsf + 1, tq, row, col + 1, asf + \"q\")\n",
    "        queensCombinations(qpsf, tq, row, col + 1, asf + \"-\")\n",
    "    # No call\n",
    "    else:\n",
    "        queensCombinations(qpsf + 1, tq, row + 1, 0, asf + \"q\\n\")\n",
    "        queensCombinations(qpsf, tq, row + 1 , 0, asf + \"-\\n\")\n",
    "        "
   ]
  },
  {
   "cell_type": "code",
   "execution_count": 8,
   "metadata": {},
   "outputs": [
    {
     "name": "stdout",
     "output_type": "stream",
     "text": [
      "qq\n",
      "--\n",
      "\n",
      "q-\n",
      "q-\n",
      "\n",
      "q-\n",
      "-q\n",
      "\n",
      "-q\n",
      "q-\n",
      "\n",
      "-q\n",
      "-q\n",
      "\n",
      "--\n",
      "qq\n",
      "\n"
     ]
    }
   ],
   "source": [
    "queensCombinations(0, 2, 0, 0, \"\")"
   ]
  },
  {
   "cell_type": "code",
   "execution_count": null,
   "metadata": {},
   "outputs": [],
   "source": []
  }
 ],
 "metadata": {
  "kernelspec": {
   "display_name": "Python 3",
   "language": "python",
   "name": "python3"
  },
  "language_info": {
   "codemirror_mode": {
    "name": "ipython",
    "version": 3
   },
   "file_extension": ".py",
   "mimetype": "text/x-python",
   "name": "python",
   "nbconvert_exporter": "python",
   "pygments_lexer": "ipython3",
   "version": "3.7.6"
  }
 },
 "nbformat": 4,
 "nbformat_minor": 4
}
