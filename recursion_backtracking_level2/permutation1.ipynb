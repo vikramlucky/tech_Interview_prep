{
 "cells": [
  {
   "cell_type": "markdown",
   "metadata": {},
   "source": [
    "Permutation - 1\n",
    "\n",
    "Easy   Prev   Next\n",
    "1. You are give a number of boxes (nboxes) and number of non-identical items (ritems).\n",
    "2. You are required to place the items in those boxes and print all such configurations possible.\n",
    "\n",
    "Items are numbered from 1 to ritems.\n",
    "Note 1 -> Number of boxes is greater than number of items, hence some of the boxes may remain empty.\n",
    "Note 2 -> Check out the question video and write the recursive code as it is intended without changing signature. The judge can't \n",
    "                   force you but intends you to teach a concept."
   ]
  },
  {
   "cell_type": "code",
   "execution_count": null,
   "metadata": {},
   "outputs": [],
   "source": [
    "# Npr ==> n! / (n - r)!"
   ]
  },
  {
   "cell_type": "code",
   "execution_count": 31,
   "metadata": {},
   "outputs": [],
   "source": [
    "n = [0] * 5 #5 boxes\n",
    "items = [1, 2]"
   ]
  },
  {
   "cell_type": "code",
   "execution_count": 34,
   "metadata": {},
   "outputs": [],
   "source": [
    "def printPerms(boxes, currentIdx, items):\n",
    "    \n",
    "    if currentIdx  >= len(items):\n",
    "            print(boxes)\n",
    "            return\n",
    "            \n",
    "    for i in range(len(boxes)):\n",
    "        if boxes[i] == 0:\n",
    "            boxes[i] = items[currentIdx]\n",
    "            printPerms(boxes, currentIdx + 1, items)\n",
    "            boxes[i] = 0\n",
    "    "
   ]
  },
  {
   "cell_type": "code",
   "execution_count": 35,
   "metadata": {},
   "outputs": [
    {
     "name": "stdout",
     "output_type": "stream",
     "text": [
      "[1, 2, 0, 0, 0]\n",
      "[1, 0, 2, 0, 0]\n",
      "[1, 0, 0, 2, 0]\n",
      "[1, 0, 0, 0, 2]\n",
      "[2, 1, 0, 0, 0]\n",
      "[0, 1, 2, 0, 0]\n",
      "[0, 1, 0, 2, 0]\n",
      "[0, 1, 0, 0, 2]\n",
      "[2, 0, 1, 0, 0]\n",
      "[0, 2, 1, 0, 0]\n",
      "[0, 0, 1, 2, 0]\n",
      "[0, 0, 1, 0, 2]\n",
      "[2, 0, 0, 1, 0]\n",
      "[0, 2, 0, 1, 0]\n",
      "[0, 0, 2, 1, 0]\n",
      "[0, 0, 0, 1, 2]\n",
      "[2, 0, 0, 0, 1]\n",
      "[0, 2, 0, 0, 1]\n",
      "[0, 0, 2, 0, 1]\n",
      "[0, 0, 0, 2, 1]\n"
     ]
    }
   ],
   "source": [
    "printPerms(n, 0, items)"
   ]
  },
  {
   "cell_type": "code",
   "execution_count": null,
   "metadata": {},
   "outputs": [],
   "source": []
  }
 ],
 "metadata": {
  "kernelspec": {
   "display_name": "Python 3",
   "language": "python",
   "name": "python3"
  },
  "language_info": {
   "codemirror_mode": {
    "name": "ipython",
    "version": 3
   },
   "file_extension": ".py",
   "mimetype": "text/x-python",
   "name": "python",
   "nbconvert_exporter": "python",
   "pygments_lexer": "ipython3",
   "version": "3.7.6"
  }
 },
 "nbformat": 4,
 "nbformat_minor": 4
}
