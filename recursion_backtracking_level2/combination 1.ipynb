{
 "cells": [
  {
   "cell_type": "markdown",
   "metadata": {},
   "source": [
    "1. You are give a number of boxes (nboxes) and number of identical items (ritems).\n",
    "2. You are required to place the items in those boxes and print all such configurations possible.\n",
    "\n",
    "Items are identical and all of them are named 'i'.\n",
    "Note 1 -> Number of boxes is greater than number of items, hence some of the boxes may remain \n",
    "                   empty.\n",
    "Note 2 -> Check out the question video and write the recursive code as it is intended without \n",
    "                   changing signature. The judge can't force you but intends you to teach a concept."
   ]
  },
  {
   "cell_type": "code",
   "execution_count": 50,
   "metadata": {},
   "outputs": [],
   "source": [
    "n = [\"_\"] * 5 #5 boxes\n",
    "items = [1, 2]"
   ]
  },
  {
   "cell_type": "code",
   "execution_count": 48,
   "metadata": {},
   "outputs": [],
   "source": [
    "def combinationPrint(items, n, ci, ii):\n",
    "    \n",
    "    # If we have places all possible items, then we can simply print\n",
    "    if ii >= len(items):\n",
    "        print(n)\n",
    "        return\n",
    "    # Check if number of boxes is within bounds\n",
    "    if ci >= len(n):\n",
    "        return\n",
    "    \n",
    "    # If we have items to be places, then place an item and recursively call on next item and and next box\n",
    "    if ii < len(items):\n",
    "        n[ci] = items[ii]\n",
    "        combinationPrint(items, n, ci + 1, ii + 1)\n",
    "        n[ci] = \"_\" #Back track, so a no call can be made for current Box\n",
    "    # A no call \n",
    "    combinationPrint(items, n, ci + 1, ii)"
   ]
  },
  {
   "cell_type": "code",
   "execution_count": 49,
   "metadata": {},
   "outputs": [
    {
     "name": "stdout",
     "output_type": "stream",
     "text": [
      "[1, 2, '_', '_', '_']\n",
      "[1, '_', 2, '_', '_']\n",
      "[1, '_', '_', 2, '_']\n",
      "[1, '_', '_', '_', 2]\n",
      "['_', 1, 2, '_', '_']\n",
      "['_', 1, '_', 2, '_']\n",
      "['_', 1, '_', '_', 2]\n",
      "['_', '_', 1, 2, '_']\n",
      "['_', '_', 1, '_', 2]\n",
      "['_', '_', '_', 1, 2]\n"
     ]
    }
   ],
   "source": [
    "combinationPrint(items, n, 0, 0)"
   ]
  },
  {
   "cell_type": "code",
   "execution_count": 51,
   "metadata": {},
   "outputs": [
    {
     "name": "stdout",
     "output_type": "stream",
     "text": [
      "[1, 2, '_', '_', '_']\n",
      "[1, '_', 2, '_', '_']\n",
      "[1, '_', '_', 2, '_']\n",
      "[1, '_', '_', '_', 2]\n",
      "['_', 1, 2, '_', '_']\n",
      "['_', 1, '_', 2, '_']\n",
      "['_', 1, '_', '_', 2]\n",
      "['_', '_', 1, 2, '_']\n",
      "['_', '_', 1, '_', 2]\n",
      "['_', '_', '_', 1, 2]\n"
     ]
    }
   ],
   "source": [
    "def combinationPrint(items, n, ci, ii, ls):\n",
    "    \n",
    "    # If we have places all possible items, then we can simply print\n",
    "    if ii >= len(items):\n",
    "        print(n)\n",
    "        return\n",
    "    # Check if number of boxes is within bounds\n",
    "    if ci >= len(n):\n",
    "        return\n",
    "    \n",
    "    # If we have items to be places, then place an item and recursively call on next item and and next box\n",
    "    if ii < len(items):\n",
    "        n[ci] = items[ii]\n",
    "        combinationPrint(items, n, ci + 1, ii + 1)\n",
    "        n[ci] = \"_\" #Back track, so a no call can be made for current Box\n",
    "    # A no call \n",
    "    combinationPrint(items, n, ci + 1, ii)\n",
    "combinationPrint(items, n, 0, 0)"
   ]
  },
  {
   "cell_type": "code",
   "execution_count": null,
   "metadata": {},
   "outputs": [],
   "source": []
  }
 ],
 "metadata": {
  "kernelspec": {
   "display_name": "Python 3",
   "language": "python",
   "name": "python3"
  },
  "language_info": {
   "codemirror_mode": {
    "name": "ipython",
    "version": 3
   },
   "file_extension": ".py",
   "mimetype": "text/x-python",
   "name": "python",
   "nbconvert_exporter": "python",
   "pygments_lexer": "ipython3",
   "version": "3.7.6"
  }
 },
 "nbformat": 4,
 "nbformat_minor": 4
}
