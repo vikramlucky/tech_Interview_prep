{
 "cells": [
  {
   "cell_type": "markdown",
   "metadata": {},
   "source": [
    "1. You are given a number n, representing the size of a n * n chess board.\n",
    "2. You are required to calculate and print the permutations in which n queens can be placed on the \n",
    "     n * n chess-board. \n",
    "\n",
    "Note -> Use the code snippet and follow the algorithm discussed in question video. The judge can't \n",
    "               force you but the intention is to teach a concept. Play in spirit of the question."
   ]
  },
  {
   "cell_type": "code",
   "execution_count": 103,
   "metadata": {},
   "outputs": [],
   "source": [
    "def queensPermutations2(qpsf, tq, asf):\n",
    "    \n",
    "    # if number of total queens placed is equal to t2, then simply print asf\n",
    "    if qpsf == tq: \n",
    "        print(asf)\n",
    "        return\n",
    "    # Iterate over asf, check if its 0, then places queen\n",
    "    for i in range(len(asf)):\n",
    "        for j in range(len(asf[0])):\n",
    "            if asf[i][j] == 0:\n",
    "                asf[i][j] = \"Q\" + str(qpsf) # adding qpsf to differentiate between number of queens\n",
    "                queensPermutations2(qpsf + 1, tq, asf) # Recurse\n",
    "                asf[i][j] = 0 #Back track\n",
    "            "
   ]
  },
  {
   "cell_type": "code",
   "execution_count": 104,
   "metadata": {},
   "outputs": [
    {
     "name": "stdout",
     "output_type": "stream",
     "text": [
      "[['Q0', 'Q1'], [0, 0]]\n",
      "[['Q0', 0], ['Q1', 0]]\n",
      "[['Q0', 0], [0, 'Q1']]\n",
      "[['Q1', 'Q0'], [0, 0]]\n",
      "[[0, 'Q0'], ['Q1', 0]]\n",
      "[[0, 'Q0'], [0, 'Q1']]\n",
      "[['Q1', 0], ['Q0', 0]]\n",
      "[[0, 'Q1'], ['Q0', 0]]\n",
      "[[0, 0], ['Q0', 'Q1']]\n",
      "[['Q1', 0], [0, 'Q0']]\n",
      "[[0, 'Q1'], [0, 'Q0']]\n",
      "[[0, 0], ['Q1', 'Q0']]\n"
     ]
    }
   ],
   "source": [
    "asf = [[0 for x in range(2)] for j in range(2)]\n",
    "queensPermutations2(0, 2, asf)"
   ]
  },
  {
   "cell_type": "code",
   "execution_count": 97,
   "metadata": {},
   "outputs": [
    {
     "name": "stdout",
     "output_type": "stream",
     "text": [
      "[[0, 0], [0, 0]]\n"
     ]
    }
   ],
   "source": []
  },
  {
   "cell_type": "code",
   "execution_count": null,
   "metadata": {},
   "outputs": [],
   "source": []
  },
  {
   "cell_type": "code",
   "execution_count": null,
   "metadata": {},
   "outputs": [],
   "source": []
  }
 ],
 "metadata": {
  "kernelspec": {
   "display_name": "Python 3",
   "language": "python",
   "name": "python3"
  },
  "language_info": {
   "codemirror_mode": {
    "name": "ipython",
    "version": 3
   },
   "file_extension": ".py",
   "mimetype": "text/x-python",
   "name": "python",
   "nbconvert_exporter": "python",
   "pygments_lexer": "ipython3",
   "version": "3.7.6"
  }
 },
 "nbformat": 4,
 "nbformat_minor": 4
}
