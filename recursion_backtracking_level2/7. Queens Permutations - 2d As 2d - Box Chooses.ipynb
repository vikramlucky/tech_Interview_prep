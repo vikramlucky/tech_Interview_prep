{
 "cells": [
  {
   "cell_type": "markdown",
   "metadata": {},
   "source": [
    "1. You are given a number n, representing the size of a n * n chess board.\n",
    "2. You are required to calculate and print the permutations in which n queens can be placed on the \n",
    "     n * n chess-board. \n",
    "\n",
    "Note -> Use the code snippet and follow the algorithm discussed in question video. The judge can't \n",
    "               force you but the intention is to teach a concept. Play in spirit of the question."
   ]
  },
  {
   "cell_type": "code",
   "execution_count": 18,
   "metadata": {},
   "outputs": [],
   "source": [
    "def queensPermutationsBoxesChooses(qpsf, tq, r, c, ansf, queens):\n",
    "    \n",
    "    if r == tq:\n",
    "        if qpsf == tq:\n",
    "            print(ansf)\n",
    "        return\n",
    "    \n",
    "    for i in range(len(queens)):\n",
    "        if not queens[i]:\n",
    "            queens[i]= True\n",
    "            if c + 1 < tq:\n",
    "                queensPermutationsBoxesChooses(qpsf + 1, tq, r, c + 1, ansf + \"Q\" + str(i  + 1), queens)\n",
    "            else:\n",
    "                queensPermutationsBoxesChooses(qpsf + 1, tq, r + 1, 0, ansf + \"Q\" + str(i + 1), queens)\n",
    "            queens[i] = False\n",
    "    \n",
    "    if c + 1 < tq:\n",
    "        queensPermutationsBoxesChooses(qpsf, tq, r, c + 1, ansf + \"-\", queens)\n",
    "    else:\n",
    "         queensPermutationsBoxesChooses(qpsf, tq, r + 1, 0, ansf + \"-\", queens)\n",
    "        \n",
    "        "
   ]
  },
  {
   "cell_type": "code",
   "execution_count": 19,
   "metadata": {},
   "outputs": [
    {
     "name": "stdout",
     "output_type": "stream",
     "text": [
      "Q1Q2--\n",
      "Q1-Q2-\n",
      "Q1--Q2\n",
      "Q2Q1--\n",
      "Q2-Q1-\n",
      "Q2--Q1\n",
      "-Q1Q2-\n",
      "-Q1-Q2\n",
      "-Q2Q1-\n",
      "-Q2-Q1\n",
      "--Q1Q2\n",
      "--Q2Q1\n"
     ]
    }
   ],
   "source": [
    "queens = [False] * 2\n",
    "queensPermutationsBoxesChooses(0, 2, 0, 0, \"\", queens)"
   ]
  },
  {
   "cell_type": "code",
   "execution_count": null,
   "metadata": {},
   "outputs": [],
   "source": []
  }
 ],
 "metadata": {
  "kernelspec": {
   "display_name": "Python 3",
   "language": "python",
   "name": "python3"
  },
  "language_info": {
   "codemirror_mode": {
    "name": "ipython",
    "version": 3
   },
   "file_extension": ".py",
   "mimetype": "text/x-python",
   "name": "python",
   "nbconvert_exporter": "python",
   "pygments_lexer": "ipython3",
   "version": "3.7.6"
  }
 },
 "nbformat": 4,
 "nbformat_minor": 4
}
