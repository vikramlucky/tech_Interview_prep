{
 "cells": [
  {
   "cell_type": "code",
   "execution_count": null,
   "metadata": {},
   "outputs": [],
   "source": []
  },
  {
   "cell_type": "code",
   "execution_count": 20,
   "metadata": {},
   "outputs": [],
   "source": [
    "def queensCombinationsQueensChooses(qpsf, tq, lstR, matrix):\n",
    "    \n",
    "    if qpsf == tq:\n",
    "        print(matrix)\n",
    "        return\n",
    "    for i in range(lstR + 1, len(matrix)):\n",
    "        for j in range(len(matrix[0])):      \n",
    "            if  matrix[i][j] == 0 :\n",
    "                matrix[i][j] = \"Q\"\n",
    "                queensCombinationsQueensChooses(qpsf + 1, tq, i, matrix)\n",
    "                matrix[i][j] = 0\n",
    "    \n",
    "    "
   ]
  },
  {
   "cell_type": "code",
   "execution_count": 21,
   "metadata": {},
   "outputs": [
    {
     "name": "stdout",
     "output_type": "stream",
     "text": [
      "[['Q', 'Q'], [0, 0]]\n",
      "[['Q', 0], ['Q', 0]]\n",
      "[['Q', 0], [0, 'Q']]\n",
      "[[0, 'Q'], ['Q', 0]]\n",
      "[[0, 'Q'], [0, 'Q']]\n",
      "[[0, 'Q'], ['Q', 0]]\n",
      "[[0, 0], ['Q', 'Q']]\n"
     ]
    }
   ],
   "source": [
    "matrix = [[0 for c in range(2)] for j in range(2)]\n",
    "queensCombinationsQueensChooses(0, 2, -1,matrix)"
   ]
  },
  {
   "cell_type": "code",
   "execution_count": null,
   "metadata": {},
   "outputs": [],
   "source": []
  },
  {
   "cell_type": "code",
   "execution_count": null,
   "metadata": {},
   "outputs": [],
   "source": []
  }
 ],
 "metadata": {
  "kernelspec": {
   "display_name": "Python 3",
   "language": "python",
   "name": "python3"
  },
  "language_info": {
   "codemirror_mode": {
    "name": "ipython",
    "version": 3
   },
   "file_extension": ".py",
   "mimetype": "text/x-python",
   "name": "python",
   "nbconvert_exporter": "python",
   "pygments_lexer": "ipython3",
   "version": "3.7.6"
  }
 },
 "nbformat": 4,
 "nbformat_minor": 4
}
