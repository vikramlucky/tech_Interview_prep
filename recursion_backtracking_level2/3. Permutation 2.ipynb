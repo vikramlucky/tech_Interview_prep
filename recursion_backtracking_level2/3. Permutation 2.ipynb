{
 "cells": [
  {
   "cell_type": "markdown",
   "metadata": {},
   "source": [
    "1. You are give a number of boxes (nboxes) and number of non-identical items (ritems).\n",
    "2. You are required to place the items in those boxes and print all such configurations possible.\n",
    "\n",
    "Items are numbered from 1 to r items. </br>\n",
    "Note 1 -> Number of boxes is greater than number of items, hence some of the boxes may remain  <br>\n",
    "                   empty. <br>\n",
    "Note 2 -> Check out the question video and write the recursive code as it is intended without \n",
    "                   changing signature. The judge can't force you but intends you to teach a concept."
   ]
  },
  {
   "cell_type": "code",
   "execution_count": 2,
   "metadata": {},
   "outputs": [],
   "source": [
    "n = [\"_\"] * 5 #5 boxes\n",
    "items = [1, 2]"
   ]
  },
  {
   "cell_type": "code",
   "execution_count": 21,
   "metadata": {},
   "outputs": [],
   "source": [
    "def permutationsTwo(currentBox, totalBoxes, items, itemsAvailable, asf, totalSelected):\n",
    "    \n",
    "    # Check if we have already visited all boxes \n",
    "    if currentBox >= totalBoxes:\n",
    "        # Print the answer only if selectred elements equals number of items\n",
    "        if totalSelected == len(items):\n",
    "            print(asf)\n",
    "        return\n",
    "    # Iterate over all the avaiable choices in items \n",
    "    for i in range(len(items)):\n",
    "        # Check if item is avaiable for selection, take that element, mark it unavailable and function recursively\n",
    "        # on next box with next available item\n",
    "        if itemsAvailable[i] == True:\n",
    "            itemsAvailable[i] = False\n",
    "            permutationsTwo(currentBox + 1, totalBoxes, items, itemsAvailable, asf + str(items[i]), totalSelected + 1)\n",
    "            itemsAvailable[i] = True\n",
    "            # Back track \n",
    "    # A no call \n",
    "    permutationsTwo(currentBox + 1, totalBoxes, items, itemsAvailable, asf + (\"*\"), totalSelected)"
   ]
  },
  {
   "cell_type": "code",
   "execution_count": 22,
   "metadata": {},
   "outputs": [
    {
     "name": "stdout",
     "output_type": "stream",
     "text": [
      "12***\n",
      "1*2**\n",
      "1**2*\n",
      "1***2\n",
      "21***\n",
      "2*1**\n",
      "2**1*\n",
      "2***1\n",
      "*12**\n",
      "*1*2*\n",
      "*1**2\n",
      "*21**\n",
      "*2*1*\n",
      "*2**1\n",
      "**12*\n",
      "**1*2\n",
      "**21*\n",
      "**2*1\n",
      "***12\n",
      "***21\n"
     ]
    }
   ],
   "source": [
    "itemsAvailable = [True] * len(items)\n",
    "permutationsTwo(0, len(n), items, itemsAvailable, \"\", 0)"
   ]
  },
  {
   "cell_type": "code",
   "execution_count": null,
   "metadata": {},
   "outputs": [],
   "source": []
  },
  {
   "cell_type": "code",
   "execution_count": null,
   "metadata": {},
   "outputs": [],
   "source": []
  }
 ],
 "metadata": {
  "kernelspec": {
   "display_name": "Python 3",
   "language": "python",
   "name": "python3"
  },
  "language_info": {
   "codemirror_mode": {
    "name": "ipython",
    "version": 3
   },
   "file_extension": ".py",
   "mimetype": "text/x-python",
   "name": "python",
   "nbconvert_exporter": "python",
   "pygments_lexer": "ipython3",
   "version": "3.7.6"
  }
 },
 "nbformat": 4,
 "nbformat_minor": 4
}
